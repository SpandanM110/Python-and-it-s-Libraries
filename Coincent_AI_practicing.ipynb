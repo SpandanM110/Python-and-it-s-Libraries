{
  "nbformat": 4,
  "nbformat_minor": 0,
  "metadata": {
    "colab": {
      "provenance": [],
      "authorship_tag": "ABX9TyNv1zL79+tyfY07gSsjJUpR",
      "include_colab_link": true
    },
    "kernelspec": {
      "name": "python3",
      "display_name": "Python 3"
    },
    "language_info": {
      "name": "python"
    }
  },
  "cells": [
    {
      "cell_type": "markdown",
      "metadata": {
        "id": "view-in-github",
        "colab_type": "text"
      },
      "source": [
        "<a href=\"https://colab.research.google.com/github/SpandanM110/Python-and-it-s-Libraries/blob/main/Coincent_AI_practicing.ipynb\" target=\"_parent\"><img src=\"https://colab.research.google.com/assets/colab-badge.svg\" alt=\"Open In Colab\"/></a>"
      ]
    },
    {
      "cell_type": "code",
      "execution_count": null,
      "metadata": {
        "colab": {
          "base_uri": "https://localhost:8080/"
        },
        "id": "lXsT6HjTePnP",
        "outputId": "fc154a6d-b101-4220-bcee-b9ac94e5a3df"
      },
      "outputs": [
        {
          "output_type": "stream",
          "name": "stdout",
          "text": [
            "hai aspirants\n"
          ]
        }
      ],
      "source": [
        "# Method 1\n",
        "print(\"hai aspirants\")"
      ]
    },
    {
      "cell_type": "code",
      "source": [
        "# Method 2\n",
        "print(\"hai\",end=\" \")\n",
        "print(\"aspirants\")"
      ],
      "metadata": {
        "colab": {
          "base_uri": "https://localhost:8080/"
        },
        "id": "APS0_GLGe4YC",
        "outputId": "352c2777-1e1c-4dc3-ee7e-734e5222711c"
      },
      "execution_count": null,
      "outputs": [
        {
          "output_type": "stream",
          "name": "stdout",
          "text": [
            "hai aspirants\n"
          ]
        }
      ]
    },
    {
      "cell_type": "code",
      "source": [
        "print(\"hai\",end = \" \")\n",
        "print(\"aspirants\",end=\" \")\n",
        "print(\"hello\")"
      ],
      "metadata": {
        "colab": {
          "base_uri": "https://localhost:8080/"
        },
        "id": "BvH91DoSfMDx",
        "outputId": "d5af4955-bebe-45d7-c8a8-75f0371ef5f7"
      },
      "execution_count": null,
      "outputs": [
        {
          "output_type": "stream",
          "name": "stdout",
          "text": [
            "hai aspirants hello\n"
          ]
        }
      ]
    },
    {
      "cell_type": "code",
      "source": [
        "x = 100\n",
        "print(\"this is x:\", x)\n",
        "\n",
        "print(\"{0} are {2}!!\".format(\"you\",\"aspirant\",\"here\"))"
      ],
      "metadata": {
        "colab": {
          "base_uri": "https://localhost:8080/"
        },
        "id": "CTEvpMNIfyWf",
        "outputId": "bc1e41e2-6408-4fd1-f59a-1703e5ff5a7e"
      },
      "execution_count": null,
      "outputs": [
        {
          "output_type": "stream",
          "name": "stdout",
          "text": [
            "this is x: 100\n",
            "you are here!!\n"
          ]
        }
      ]
    },
    {
      "cell_type": "code",
      "source": [
        "x=10\n",
        "y=20\n",
        "print(\"value x is {} and y is {}\".format(x,y))\n",
        "print(\"value x is {1} and y is {0}\".format(x,y))    # Controlled by the format index\n",
        "print(x,y)   # Data types"
      ],
      "metadata": {
        "colab": {
          "base_uri": "https://localhost:8080/"
        },
        "id": "cF8r837WgMP1",
        "outputId": "f5cd6f79-4d1d-4af7-b9ef-8d6aead2150a"
      },
      "execution_count": null,
      "outputs": [
        {
          "output_type": "stream",
          "name": "stdout",
          "text": [
            "value x is 10 and y is 20\n",
            "value x is 20 and y is 10\n",
            "10 20\n"
          ]
        }
      ]
    },
    {
      "cell_type": "code",
      "source": [
        "print(type(y))\n",
        "s=\"101\"\n",
        "print(type(s))\n",
        "\n",
        "a=str(12233333)\n",
        "print(type(a))\n",
        "\n",
        "c=True\n",
        "d=False\n",
        "\n",
        "print(type(d)) # Boolean are reserved words which cannot be used for assigning other values.\n"
      ],
      "metadata": {
        "colab": {
          "base_uri": "https://localhost:8080/"
        },
        "id": "f3M-in8Gh9iA",
        "outputId": "2afae81e-c4dc-40d6-c85c-df21bf61a9a0"
      },
      "execution_count": null,
      "outputs": [
        {
          "output_type": "stream",
          "name": "stdout",
          "text": [
            "<class 'int'>\n",
            "<class 'str'>\n",
            "<class 'str'>\n",
            "<class 'bool'>\n"
          ]
        }
      ]
    },
    {
      "cell_type": "code",
      "source": [
        "# Some use of operator\n",
        "a=500\n",
        "b=500\n",
        "print((a<=b)!=False)\n",
        "print((a<=b)==False)"
      ],
      "metadata": {
        "colab": {
          "base_uri": "https://localhost:8080/"
        },
        "id": "Lf4-Bh3MoFZe",
        "outputId": "7bbc2b07-5adf-4a0f-a4cf-af83592615e0"
      },
      "execution_count": null,
      "outputs": [
        {
          "output_type": "stream",
          "name": "stdout",
          "text": [
            "True\n",
            "False\n"
          ]
        }
      ]
    },
    {
      "cell_type": "code",
      "source": [
        "# The project is to make a absolute calculator \n",
        "# which can perform addition,multiplication,subtraction,division,modulo and exponent.\n",
        "\n",
        "a=int(input(\"The value of a \\n\"))\n",
        "b=int(input(\"The value of b \\n\"))\n",
        "print(\"Addition is \",a+b)\n",
        "print(\"Subtraction is \",a-b)\n",
        "print(\"Multiplication is \",a*b)\n",
        "print(\"Division is \",a/b)\n",
        "print(\"Floor Division is\",a//b)\n",
        "print(\"Remainder is \",a%b)\n",
        "print(\"Exponent is\",a**b)"
      ],
      "metadata": {
        "colab": {
          "base_uri": "https://localhost:8080/"
        },
        "id": "OuZqsVAMlD2t",
        "outputId": "84275281-e9a8-4b3e-b30e-9a7535afe1d8"
      },
      "execution_count": null,
      "outputs": [
        {
          "output_type": "stream",
          "name": "stdout",
          "text": [
            "The value of a \n",
            "2\n",
            "The value of b \n",
            "3\n",
            "Addition is  5\n",
            "Subtraction is  -1\n",
            "Multiplication is  6\n",
            "Division is  0.6666666666666666\n",
            "Floor Division is 0\n",
            "Remainder is  2\n",
            "Exponent is 8\n"
          ]
        }
      ]
    },
    {
      "cell_type": "code",
      "source": [
        "# Bitwise operators\n",
        "# Movement of bits\n",
        "# Left shift and right shift\n",
        "a=2\n",
        "b=2<<1   # Bitwise left shift\n",
        "print(b)\n",
        "\n",
        "c=4\n",
        "d=4>>1  # Bitwise right shift\n",
        "print(d)"
      ],
      "metadata": {
        "colab": {
          "base_uri": "https://localhost:8080/"
        },
        "id": "WVKti-x7pk7i",
        "outputId": "c9903e0a-1919-47e6-8c06-1eeb4445e804"
      },
      "execution_count": null,
      "outputs": [
        {
          "output_type": "stream",
          "name": "stdout",
          "text": [
            "4\n",
            "2\n"
          ]
        }
      ]
    },
    {
      "cell_type": "code",
      "source": [
        "print(~3)\n",
        "print(~-1)\n",
        "# a=10 = 1010(Binary) ~a = ~1010= -(1010+1)= -1011 = -11\n",
        "\n",
        "print(2^3)  # Used in bitwise operations"
      ],
      "metadata": {
        "colab": {
          "base_uri": "https://localhost:8080/"
        },
        "id": "wDtxMLoouu1j",
        "outputId": "f3001b35-a116-4036-bfd6-7aa53f135522"
      },
      "execution_count": null,
      "outputs": [
        {
          "output_type": "stream",
          "name": "stdout",
          "text": [
            "-4\n",
            "0\n",
            "1\n"
          ]
        }
      ]
    },
    {
      "cell_type": "code",
      "source": [
        "print(bin(2))\n",
        "print(bin(1))\n",
        "print(bin(0))\n",
        "print(bin(4))\n",
        "print(bin(5))\n",
        "\n"
      ],
      "metadata": {
        "colab": {
          "base_uri": "https://localhost:8080/"
        },
        "id": "DMPQrxs9zM9w",
        "outputId": "2d4a2185-fda9-4ebf-8517-6c69684adad1"
      },
      "execution_count": null,
      "outputs": [
        {
          "output_type": "stream",
          "name": "stdout",
          "text": [
            "0b10\n",
            "0b1\n",
            "0b0\n",
            "0b100\n",
            "0b101\n"
          ]
        }
      ]
    },
    {
      "cell_type": "code",
      "source": [
        "# Membership operators\n",
        "\n",
        "# \"is\" True if a value /sequence is present in an object A in B.\n",
        "# \"is not\" True if a value is NOT present in an object A not in B\n",
        "\n",
        "x = 5.232332\n",
        "print(type(x) is int)\n",
        "\n",
        "x=12\n",
        "y=\"op\"\n",
        "print(type(x) is not type(y))\n"
      ],
      "metadata": {
        "colab": {
          "base_uri": "https://localhost:8080/"
        },
        "id": "ruomBW8vwx0B",
        "outputId": "4a7f809f-c5bd-46ab-a21c-acb4df823e92"
      },
      "execution_count": null,
      "outputs": [
        {
          "output_type": "stream",
          "name": "stdout",
          "text": [
            "False\n",
            "True\n"
          ]
        }
      ]
    },
    {
      "cell_type": "code",
      "source": [
        "print(5**(2+1))\n",
        "\n",
        "print(5*4+2)\n",
        "\n",
        "print(5+2*4)\n",
        "\n",
        "print(5//2**2+7/2+3)"
      ],
      "metadata": {
        "colab": {
          "base_uri": "https://localhost:8080/"
        },
        "id": "NP8u2RE4yqjB",
        "outputId": "015a1f0e-3a71-471a-d480-67719dbcedbc"
      },
      "execution_count": null,
      "outputs": [
        {
          "output_type": "stream",
          "name": "stdout",
          "text": [
            "125\n",
            "22\n",
            "13\n",
            "7.5\n"
          ]
        }
      ]
    },
    {
      "cell_type": "code",
      "source": [
        "# Identation refers to the spaces at the beginning of a code line. The Identation identifies the blocks it shows error if you skip any identations.\n",
        "print(\"Hello\")\n",
        "print(\"people\")\n",
        "\n",
        "# name = input(\"Enter Your Name\")\n",
        "# print(\"Name is\", name)\n",
        "\n",
        "# a = input(\"Enter Your Name\\n\")\n",
        "# print(f\"{a} is great!\")\n",
        "\n",
        "# x,y,z=2,3,10\n",
        "# print(x,y,z) \n",
        "\n",
        "\n",
        "# split will be used to seperate things and give space whenever and what ever we need to give as much input one needs.\n",
        "#x,y=input().split(\" \")  # Instead of space between Double inverted commas you can use any symbols and characters. \n",
        "\n",
        "# print(x)\n",
        "# print(y)\n",
        "\n",
        "a,b,c,d = input().split(\" \")\n",
        "print(a)\n",
        "print(b)\n",
        "print(c)\n",
        "print(d)\n",
        "\n",
        "# map is used for functionality in inputs of integers as well for different data types.\n",
        "w,v ,g = map(int,input().split(\" \"))"
      ],
      "metadata": {
        "colab": {
          "base_uri": "https://localhost:8080/"
        },
        "id": "QziAyakq0owI",
        "outputId": "3884f42d-dde7-4f4a-c458-d33d891f4b98"
      },
      "execution_count": null,
      "outputs": [
        {
          "name": "stdout",
          "output_type": "stream",
          "text": [
            "Hello\n",
            "people\n",
            "I love you all\n",
            "I\n",
            "love\n",
            "you\n",
            "all\n",
            "2 3 4\n"
          ]
        }
      ]
    },
    {
      "cell_type": "code",
      "source": [
        "# Control Statements\n",
        "# It makes sure that whatever condition you specify the code executes accordingly to the scenerio.\n",
        "# Practice\n",
        "\n",
        "age = int(input(\"Enter your age\\n\"))\n",
        "if age>18:\n",
        "  print(\"You are eligible for driving\")\n",
        "elif (age==18):\n",
        "  print(\"Just eligible\")\n",
        "else:\n",
        "  print(\"Sorry you must be atleast 18\")\n",
        "\n",
        "\n",
        "\n"
      ],
      "metadata": {
        "colab": {
          "base_uri": "https://localhost:8080/"
        },
        "id": "rZxVFY5G6I9A",
        "outputId": "239328cd-a862-4ccd-faf6-659127ddd1a9"
      },
      "execution_count": null,
      "outputs": [
        {
          "output_type": "stream",
          "name": "stdout",
          "text": [
            "Enter your age\n",
            "18\n",
            "Just eligible\n"
          ]
        }
      ]
    },
    {
      "cell_type": "code",
      "source": [
        "# For Loops and While loops"
      ],
      "metadata": {
        "id": "rNu7okuX2n4-"
      },
      "execution_count": null,
      "outputs": []
    },
    {
      "cell_type": "code",
      "source": [
        "# String operations\n",
        "s1 = \"hai\"\n",
        "s2 = \"buddies\"\n",
        "b=s1+s2\n",
        "print(b)\n",
        "\n",
        "c= s1+\"       \"+s2\n",
        "print(c)\n",
        "\n",
        "# Concatination is the joining of two strings.\n",
        "\n",
        "# To find no.of alphabets in a string\n",
        "s3=\"machine\"\n",
        "print(len(s3))\n",
        "\n",
        "# Python can be used in single and double quotes only in python.\n",
        "\n",
        "#Lower case\n",
        "s4=\"HAI\"\n",
        "print(s4.lower())\n",
        "\n",
        "#Upper case\n",
        "s5=\"hai\"\n",
        "print(s5.upper())\n",
        "\n",
        "# To count\n",
        "s6=\"aabaabaaba\"\n",
        "print(s6.count(\"aba\"))\n",
        "\n",
        "# To make priority as title\n",
        "s7=\"we are learning\"\n",
        "print(s7.title())\n",
        "\n",
        "#Find\n",
        "s8=\"machine learning\"\n",
        "print(s8.find(\"ing\"))\n",
        "print(s8.find(\"a\"))\n",
        "\n",
        "\n",
        "# Index\n",
        "s8=\"machine learning\"\n",
        "print(s8.index('ear'))\n",
        "\n",
        "print(s8.index(' '))   # Because the spacing is at 7 so answer here will be 7.\n"
      ],
      "metadata": {
        "colab": {
          "base_uri": "https://localhost:8080/"
        },
        "id": "ia5p22xL2nqY",
        "outputId": "75f66fad-102c-4e68-c053-253a5851a6f1"
      },
      "execution_count": null,
      "outputs": [
        {
          "output_type": "stream",
          "name": "stdout",
          "text": [
            "haibuddies\n",
            "hai       buddies\n",
            "7\n",
            "hai\n",
            "HAI\n",
            "3\n",
            "We Are Learning\n",
            "13\n",
            "1\n",
            "9\n",
            "7\n"
          ]
        }
      ]
    },
    {
      "cell_type": "code",
      "source": [
        "# Strip\n",
        "s3=\"       h  hai i am human\"\n",
        "print(s3)\n",
        "print(s3.split())\n",
        "\n",
        "\n",
        "# Replace\n",
        "s=\"hai people\"\n",
        "s1=s.replace(\"people\",\"ka\")\n",
        "print(s1)\n",
        "\n",
        "\n"
      ],
      "metadata": {
        "colab": {
          "base_uri": "https://localhost:8080/"
        },
        "id": "s3LHhbJY8lKY",
        "outputId": "14847d58-d345-4806-b17b-1df9346f48a3"
      },
      "execution_count": null,
      "outputs": [
        {
          "output_type": "stream",
          "name": "stdout",
          "text": [
            "       h  hai i am human\n",
            "['h', 'hai', 'i', 'am', 'human']\n",
            "hai ka\n"
          ]
        }
      ]
    },
    {
      "cell_type": "markdown",
      "source": [
        " Built in Data Structures are as follows:\n",
        "*   List\n",
        "*   Dictionary\n",
        "*   Tuple\n",
        "*   Set\n",
        "\n",
        "List allows us to store heterogenous datatypes.\n",
        "(Heterogenous Data Structure- Data elements may not be of same data type)\n",
        "\n",
        "A list is a data structure in Python which is mutable or changeable, ordered sequence of elements.\n"
      ],
      "metadata": {
        "id": "rZCnmg679SZ3"
      }
    },
    {
      "cell_type": "code",
      "source": [
        "# List\n",
        "L=[]\n",
        "print(type([L]))\n",
        "\n",
        "r=[1,2,3,\"hi\"]\n",
        "print(r)\n",
        "\n",
        "print(*r)\n",
        "\n",
        "\n",
        "# Using for loop in lists\n",
        "for i in r:\n",
        "  print(\"hi\",i)\n",
        "\n",
        "print(r[3])\n",
        "\n",
        "\n",
        "r=[1, \"hai\",10,20]\n",
        "print(r)\n",
        "r[2]=\"helo\"\n",
        "print(*r)\n",
        "print(r[3])\n",
        "\n",
        "print(r[1:5])"
      ],
      "metadata": {
        "colab": {
          "base_uri": "https://localhost:8080/"
        },
        "id": "Dp-4ZMRc-K3w",
        "outputId": "b575883d-1edc-4edb-b46c-997f85ebe575"
      },
      "execution_count": null,
      "outputs": [
        {
          "output_type": "stream",
          "name": "stdout",
          "text": [
            "<class 'list'>\n",
            "[1, 2, 3, 'hi']\n",
            "1 2 3 hi\n",
            "hi 1\n",
            "hi 2\n",
            "hi 3\n",
            "hi hi\n",
            "hi\n",
            "[1, 'hai', 10, 20]\n",
            "1 hai helo 20\n",
            "20\n",
            "['hai', 'helo', 20]\n"
          ]
        }
      ]
    },
    {
      "cell_type": "code",
      "source": [
        "l=[1,2,3,4,5]\n",
        "print(l[4::-1])\n",
        "\n",
        "hi = [1, 22, 32, 3, 3222, 2222]\n",
        "print(hi[0:6:2])\n",
        "\n",
        "# Note in the last of the index it is used for step like movement.\n",
        "# In  above example in hi 0 was starting index and 6 is the ending index which is not included while 2 is the step wise movement of index.\n",
        "#[start:stop/end:step]\n",
        "\n",
        "s=[1,2,\"we\",4]\n",
        "print(s[::-1])"
      ],
      "metadata": {
        "colab": {
          "base_uri": "https://localhost:8080/"
        },
        "id": "xhcPaQm6AZ8Y",
        "outputId": "e6a0783f-fa22-4933-fb23-f971202a50ff"
      },
      "execution_count": null,
      "outputs": [
        {
          "output_type": "stream",
          "name": "stdout",
          "text": [
            "[5, 4, 3, 2, 1]\n",
            "[1, 32, 3222]\n",
            "[4, 'we', 2, 1]\n"
          ]
        }
      ]
    },
    {
      "cell_type": "code",
      "source": [
        "# append,insert\n",
        "o=[1,2,3]\n",
        "o.append(\"8889889\")\n",
        "print(o)\n",
        "\n",
        "q=[4,5,6]\n",
        "q.insert(1,\"Jai Ho!\")\n",
        "print(q)\n",
        "\n",
        "# In insert command the list gets increased and the index is specified."
      ],
      "metadata": {
        "colab": {
          "base_uri": "https://localhost:8080/"
        },
        "id": "wChRAnIoJ55E",
        "outputId": "2a2f1f75-33b1-45d2-c29b-5f442c282a82"
      },
      "execution_count": null,
      "outputs": [
        {
          "output_type": "stream",
          "name": "stdout",
          "text": [
            "[1, 2, 3, '8889889']\n",
            "[4, 'Jai Ho!', 5, 6]\n"
          ]
        }
      ]
    },
    {
      "cell_type": "code",
      "source": [
        "op = []\n",
        "x=int(input(\"Enter size\"))\n",
        "for i in range(0,x):\n",
        "  x1=int(input())\n",
        "  op.append(x1)\n",
        "print(op)"
      ],
      "metadata": {
        "colab": {
          "base_uri": "https://localhost:8080/"
        },
        "id": "ddHS5Br6J51P",
        "outputId": "72ca8d9d-7bb1-4d86-9488-f1d1eb76aef6"
      },
      "execution_count": null,
      "outputs": [
        {
          "output_type": "stream",
          "name": "stdout",
          "text": [
            "Enter size8\n",
            "2\n",
            "3\n",
            "4\n",
            "5\n",
            "6\n",
            "7\n",
            "8\n",
            "2\n",
            "[2, 3, 4, 5, 6, 7, 8, 2]\n"
          ]
        }
      ]
    },
    {
      "cell_type": "code",
      "source": [
        "\n",
        "#1\n",
        "sa=list(map(int,input().split(\",\")))\n",
        "print(sa)\n",
        "# map is a function which is used to specify the value after comma.\n",
        "\n",
        "#2\n",
        "s=list(input(\"Enter elements\\n\"))\n",
        "print(s)"
      ],
      "metadata": {
        "colab": {
          "base_uri": "https://localhost:8080/"
        },
        "id": "9MJNrUqnOliF",
        "outputId": "b213687c-0e86-4580-965e-17f3f196822d"
      },
      "execution_count": null,
      "outputs": [
        {
          "output_type": "stream",
          "name": "stdout",
          "text": [
            "2222,3333,444\n",
            "[2222, 3333, 444]\n",
            "Enter elements\n",
            "2222,34444,555\n",
            "['2', '2', '2', '2', ',', '3', '4', '4', '4', '4', ',', '5', '5', '5']\n"
          ]
        }
      ]
    },
    {
      "cell_type": "code",
      "source": [
        "s=[1,2,3,4,5,44,55,12,121]\n",
        "s.remove(2)      # To remove a particular value in a list we use remove.\n",
        "print(s)"
      ],
      "metadata": {
        "colab": {
          "base_uri": "https://localhost:8080/"
        },
        "id": "9Ajjk_09QL3c",
        "outputId": "baae891d-7e69-4572-98b5-470f0762d8cd"
      },
      "execution_count": null,
      "outputs": [
        {
          "output_type": "stream",
          "name": "stdout",
          "text": [
            "[1, 3, 4, 5, 44, 55, 12, 121]\n"
          ]
        }
      ]
    },
    {
      "cell_type": "code",
      "source": [
        "s=[1,2,3,4,5,44,55,12,121]\n",
        "li=[]\n",
        "x=len(s)\n",
        "for i in range(0,x):\n",
        "  if(s[i]==2):\n",
        "    continue\n",
        "    li.append(l[i])\n",
        "\n",
        "print(li)\n",
        "\n",
        "# Pop is used to remove\n",
        "# USE OF POP\n",
        "ll=[12,12,34]\n",
        "z=ll.pop()\n",
        "print(z)\n",
        "\n",
        "\n"
      ],
      "metadata": {
        "colab": {
          "base_uri": "https://localhost:8080/"
        },
        "id": "dK1IjH0VQf_Y",
        "outputId": "fb622340-5104-416e-82c7-4a4f8e3ea1f6"
      },
      "execution_count": null,
      "outputs": [
        {
          "output_type": "stream",
          "name": "stdout",
          "text": [
            "[]\n",
            "34\n"
          ]
        }
      ]
    },
    {
      "cell_type": "code",
      "source": [
        "# Extend \n",
        "# In this case it will merge two lists.\n",
        "l1 = [1,2,3,4]\n",
        "l2 = [6,7,8,9]\n",
        "l1.extend(l2)\n",
        "print(l1)\n",
        "\n",
        "\n",
        "# Copy\n",
        "w1 = [23,21,1232,3]\n",
        "w2=w1\n",
        "print(w2)\n",
        "\n",
        "w4 = [2,21,1232,3]\n",
        "w3=w4.copy()\n",
        "w4.pop()\n",
        "print(w4)\n",
        "\n",
        "print(w3)\n"
      ],
      "metadata": {
        "colab": {
          "base_uri": "https://localhost:8080/"
        },
        "id": "_7gIVhGVRhlm",
        "outputId": "9d9ff1a5-e9b4-49c6-ad52-a22e6b0850e6"
      },
      "execution_count": null,
      "outputs": [
        {
          "output_type": "stream",
          "name": "stdout",
          "text": [
            "[1, 2, 3, 4, 6, 7, 8, 9]\n",
            "[23, 21, 1232, 3]\n",
            "[2, 21, 1232]\n",
            "[2, 21, 1232, 3]\n"
          ]
        }
      ]
    },
    {
      "cell_type": "code",
      "source": [
        "# Sort \n",
        "# Used to sort numbers in ascending order \n",
        "# Used to sort strings in alphabetical order\n",
        "\n",
        "l=[1,0,2,3,4,5]\n",
        "l.sort()\n",
        "print(l)\n",
        "\n",
        "z = ['e','d','a','A','c']\n",
        "z.sort()\n",
        "print(z)\n",
        "\n",
        "a=[11,2,3,4]\n",
        "a.sort(reverse=True)\n",
        "print(a)\n",
        "\n",
        "# Reverse\n",
        "W=[9,6,67,69,222]\n",
        "W.reverse()\n",
        "print(W)"
      ],
      "metadata": {
        "colab": {
          "base_uri": "https://localhost:8080/"
        },
        "id": "AP8RW1qmTtby",
        "outputId": "01321d6f-a40d-48d5-ebb7-b078861a7186"
      },
      "execution_count": null,
      "outputs": [
        {
          "output_type": "stream",
          "name": "stdout",
          "text": [
            "[0, 1, 2, 3, 4, 5]\n",
            "['A', 'a', 'c', 'd', 'e']\n",
            "[11, 4, 3, 2]\n",
            "[222, 69, 67, 6, 9]\n"
          ]
        }
      ]
    },
    {
      "cell_type": "code",
      "source": [
        "# Tuples\n",
        "t=(2,233,1123)\n",
        "print(type(t))\n",
        "\n",
        "l=[1,2,4]\n",
        "l[0]=24\n",
        "print(l)\n",
        "\n",
        "x=(1,3,4)\n",
        "y=list(x)\n",
        "y[1]=2\n",
        "x=tuple(y)\n",
        "print(x)\n",
        "\n",
        "t=(2,233,1123)\n",
        "print(t[2:])\n",
        "\n",
        "t1 = (12,23,45,67)\n",
        "t3 = t1+t\n",
        "print(t3)"
      ],
      "metadata": {
        "colab": {
          "base_uri": "https://localhost:8080/"
        },
        "id": "KnhNUmVXUsEb",
        "outputId": "3c1dd099-d38b-4549-bcae-96397a2a017c"
      },
      "execution_count": null,
      "outputs": [
        {
          "output_type": "stream",
          "name": "stdout",
          "text": [
            "<class 'tuple'>\n",
            "[24, 2, 4]\n",
            "(1, 2, 4)\n",
            "(1123,)\n",
            "(12, 23, 45, 67, 2, 233, 1123)\n"
          ]
        }
      ]
    },
    {
      "cell_type": "code",
      "source": [
        "# Sets \n",
        "# Set is a collection of unordered collection of multiple items.\n",
        "\n",
        "\n",
        "s={23,2222,1,2,33,33,2}\n",
        "print(s)\n",
        "\n",
        "# s[0]=20\n",
        "# print(s)  Does not support data.changing\n",
        "\n",
        "s.add(100)\n",
        "s.add(11000)\n",
        "s.add('hi')\n",
        "print(s)\n",
        "\n",
        "\n",
        "t=tuple(s)\n",
        "print(t)\n",
        "\n",
        "\n",
        "s={23,2222,1,2,33,33,2}\n",
        "s.remove(33)\n",
        "print(s)\n",
        "\n",
        "# t1=(1,21,21,0)\n",
        "# t.sort()\n",
        "# print(t)\n",
        "# In tuples error in sort in tuples.\n"
      ],
      "metadata": {
        "colab": {
          "base_uri": "https://localhost:8080/"
        },
        "id": "0Dhxxzr8VpTo",
        "outputId": "578bc171-e910-4b21-ab20-9d1b71c38c02"
      },
      "execution_count": null,
      "outputs": [
        {
          "output_type": "stream",
          "name": "stdout",
          "text": [
            "{1, 2, 33, 2222, 23}\n",
            "{1, 2, 33, 100, 'hi', 2222, 23, 11000}\n",
            "(1, 2, 33, 100, 'hi', 2222, 23, 11000)\n",
            "{1, 2, 2222, 23}\n"
          ]
        }
      ]
    },
    {
      "cell_type": "code",
      "source": [
        "# Dictionaries\n",
        "# A dictionary consist of collection of keys and values. Each key value pair maps it's own value.\n",
        "\n",
        "q={1:'a', 2:'e', 4:'x'}\n",
        "print(type(q))\n",
        "\n",
        "print(q.keys())\n",
        "\n",
        "print(q.values())\n",
        "\n",
        "d={'a':12}\n",
        "print(d['a'])\n",
        "\n",
        "\n"
      ],
      "metadata": {
        "id": "MN6coKuSWOQN",
        "colab": {
          "base_uri": "https://localhost:8080/"
        },
        "outputId": "9367e7c2-c528-4503-ab55-74d8ae3eeb47"
      },
      "execution_count": null,
      "outputs": [
        {
          "output_type": "stream",
          "name": "stdout",
          "text": [
            "<class 'dict'>\n",
            "dict_keys([1, 2, 4])\n",
            "dict_values(['a', 'e', 'x'])\n",
            "12\n"
          ]
        }
      ]
    },
    {
      "cell_type": "code",
      "source": [
        "# Self interest\n",
        "from getpass import getpass\n",
        "a=input(\"Enter the name\\n\")\n",
        "b=getpass(\"Enter the password\\n\")"
      ],
      "metadata": {
        "colab": {
          "base_uri": "https://localhost:8080/"
        },
        "id": "71twGJpBWydn",
        "outputId": "868ef698-35a1-4309-e9ff-b77f81739d9a"
      },
      "execution_count": null,
      "outputs": [
        {
          "name": "stdout",
          "output_type": "stream",
          "text": [
            "Enter the name\n",
            "Spandan\n",
            "Enter the password\n",
            "··········\n"
          ]
        }
      ]
    },
    {
      "cell_type": "code",
      "source": [
        "from IPython import display\n",
        "display.Image(\"Astronaut.png\")"
      ],
      "metadata": {
        "colab": {
          "base_uri": "https://localhost:8080/",
          "height": 34
        },
        "id": "fSA3GQWaYhye",
        "outputId": "1123f355-8a87-47c6-e07f-ed41a3b9c781"
      },
      "execution_count": null,
      "outputs": [
        {
          "output_type": "execute_result",
          "data": {
            "image/png": "Astronaut.png",
            "text/plain": [
              "<IPython.core.display.Image object>"
            ]
          },
          "metadata": {},
          "execution_count": 10
        }
      ]
    },
    {
      "cell_type": "code",
      "source": [
        "d={}\n",
        "l=int(input(\"enter length\\n\"))\n",
        "for i in range(0,l):\n",
        "  x=int(input(\"enter key:\\n\"))\n",
        "  y=input(\"enter value\\n\")\n",
        "  d[x]=y\n",
        "print(d)"
      ],
      "metadata": {
        "colab": {
          "base_uri": "https://localhost:8080/"
        },
        "id": "6QeL5Q8TZeb-",
        "outputId": "c9f4d7c5-52f4-49e6-979a-66c1e3983075"
      },
      "execution_count": null,
      "outputs": [
        {
          "output_type": "stream",
          "name": "stdout",
          "text": [
            "enter length\n",
            "3\n",
            "enter key:1\n",
            "enter valuewe\n",
            "enter key:3\n",
            "enter valueqwwww\n",
            "enter key:34\n",
            "enter valueed\n",
            "{1: 'we', 3: 'qwwww', 34: 'ed'}\n"
          ]
        }
      ]
    },
    {
      "cell_type": "code",
      "source": [
        "# Functions\n",
        "# A function is a group of statements that together perform a task.\n",
        "# we can divide a large program into smaller tasks.\n",
        "\n",
        "\n",
        "o=abs(-167980)\n",
        "print(o)\n",
        "\n",
        "l=[-1,100,23,11222,234444,-123455677]\n",
        "print(max(l))\n",
        "print(min(l))\n",
        "print(sum(l))\n",
        "\n",
        "z=18.9\n",
        "round(z)"
      ],
      "metadata": {
        "colab": {
          "base_uri": "https://localhost:8080/"
        },
        "id": "Ty4hLl_OckqQ",
        "outputId": "8ec958b6-f66b-45ac-f7e5-b778b03137b8"
      },
      "execution_count": null,
      "outputs": [
        {
          "output_type": "stream",
          "name": "stdout",
          "text": [
            "167980\n",
            "234444\n",
            "-123455677\n",
            "-123209889\n"
          ]
        },
        {
          "output_type": "execute_result",
          "data": {
            "text/plain": [
              "19"
            ]
          },
          "metadata": {},
          "execution_count": 23
        }
      ]
    },
    {
      "cell_type": "code",
      "source": [
        "# Math module\n",
        "\n",
        "import math\n",
        "\n",
        "print(math.ceil(8.9))\n",
        "\n",
        "print(math.floor(8.9))\n",
        "\n",
        "print(math.log(10,10))\n",
        "\n",
        "print(math.sqrt(16))\n",
        "\n",
        "\n"
      ],
      "metadata": {
        "colab": {
          "base_uri": "https://localhost:8080/"
        },
        "id": "3M6QobKyd4Cp",
        "outputId": "19d4cb9e-70fd-4134-c6da-a7e63487b42f"
      },
      "execution_count": null,
      "outputs": [
        {
          "output_type": "stream",
          "name": "stdout",
          "text": [
            "9\n",
            "8\n",
            "1.0\n",
            "4.0\n"
          ]
        }
      ]
    },
    {
      "cell_type": "code",
      "source": [
        "# ASCII\n",
        "# Ascii is a standard portion which gives a binary value to every symbol so that machines can understand it.\n",
        "\n",
        "\n"
      ],
      "metadata": {
        "id": "UN6cLO8nfKpB"
      },
      "execution_count": null,
      "outputs": []
    },
    {
      "cell_type": "code",
      "source": [
        "# Recursion - function call by function itself\n",
        "\n",
        "def fun(x):\n",
        "  print(x)\n",
        "  if(x<=0):\n",
        "    return 0\n",
        "  fun(x-1)\n",
        "\n",
        "fun(5)\n",
        "\n",
        "\n",
        "\n",
        "def fun(x):\n",
        "  print(x)\n",
        "  if(x<=0):\n",
        "    return 0\n",
        "  else:\n",
        "    fun(x-1)\n",
        "\n",
        "fun(5)\n",
        "\n",
        "# ***** NOTE THE FUNCTION WORKS THE SAME WAY EVEN IN THE PRESENCE AND ABSECNCE OF ELSE STATEMENT.\n"
      ],
      "metadata": {
        "colab": {
          "base_uri": "https://localhost:8080/"
        },
        "id": "J4OMPaFqh-3M",
        "outputId": "03557c77-2bab-4bbd-afa2-ce635f12f92a"
      },
      "execution_count": null,
      "outputs": [
        {
          "output_type": "stream",
          "name": "stdout",
          "text": [
            "5\n",
            "4\n",
            "3\n",
            "2\n",
            "1\n",
            "0\n",
            "5\n",
            "4\n",
            "3\n",
            "2\n",
            "1\n",
            "0\n"
          ]
        }
      ]
    },
    {
      "cell_type": "code",
      "source": [
        "def fac(x):\n",
        "  if(x==0 or x==1):\n",
        "    return 1\n",
        "  return x*fac(x-1)\n",
        "\n",
        "print(fac(5))"
      ],
      "metadata": {
        "colab": {
          "base_uri": "https://localhost:8080/"
        },
        "id": "YfshlJC2jA68",
        "outputId": "f7e5e231-dcb5-4571-cb92-889634160d64"
      },
      "execution_count": null,
      "outputs": [
        {
          "output_type": "stream",
          "name": "stdout",
          "text": [
            "120\n"
          ]
        }
      ]
    },
    {
      "cell_type": "code",
      "source": [
        "# List comprehensions\n",
        "# List comprehension offers a shorter syntax when you want to create a new list based on the values of an existing list.\n",
        "\n",
        "l=[2,3,4,5,6,7,8,9,87,2,22]\n",
        "l1=[]\n",
        "for i in l:\n",
        "  if(i>3):\n",
        "    l1.append(i*i)\n",
        "print(l1)\n",
        "\n",
        "\n",
        "lll=[l[x] for x in range(0,5) if l[x]>3]\n",
        "print(lll)"
      ],
      "metadata": {
        "colab": {
          "base_uri": "https://localhost:8080/"
        },
        "id": "Aov5N-fzjgG8",
        "outputId": "f3dc3571-16f6-4310-94aa-8dec34c827b1"
      },
      "execution_count": null,
      "outputs": [
        {
          "output_type": "stream",
          "name": "stdout",
          "text": [
            "[16, 25, 36, 49, 64, 81, 7569, 484]\n",
            "[4, 5, 6]\n"
          ]
        }
      ]
    },
    {
      "cell_type": "code",
      "source": [
        "# Scope\n",
        "def fun():\n",
        "  xx=100          # Its local scope\n",
        "  print(s)\n",
        "\n",
        "s=\"hai\"\n",
        "fun()\n",
        "print(xx) # It will throw error because its in the function\n"
      ],
      "metadata": {
        "id": "xI0We4PAd0Vb"
      },
      "execution_count": null,
      "outputs": []
    },
    {
      "cell_type": "code",
      "source": [
        "def  fun1():\n",
        "  global fw\n",
        "  fw=100\n",
        "fun1()\n",
        "print(fw)\n",
        "\n",
        "\n",
        "x=10\n",
        "def fun():\n",
        "  x1=10\n",
        "  return x1\n",
        "print(fun())\n",
        "\n",
        "\n",
        "def fun1():\n",
        "  z=200\n",
        "  print(y)\n",
        "  def fun2():\n",
        "    x=100\n",
        "    print(z)\n",
        "  fun2()\n",
        "\n",
        "y=1000\n",
        "fun1()  "
      ],
      "metadata": {
        "colab": {
          "base_uri": "https://localhost:8080/"
        },
        "id": "jORs6qS9hzW6",
        "outputId": "4889b183-7363-4c83-b996-21ded52fc45b"
      },
      "execution_count": null,
      "outputs": [
        {
          "output_type": "stream",
          "name": "stdout",
          "text": [
            "100\n",
            "10\n",
            "1000\n",
            "200\n"
          ]
        }
      ]
    },
    {
      "cell_type": "code",
      "source": [
        "\n",
        "\n",
        "\n",
        "\n",
        "\n",
        "\n",
        "\n",
        "\n"
      ],
      "metadata": {
        "id": "OyTp92heiY7M"
      },
      "execution_count": null,
      "outputs": []
    }
  ]
}