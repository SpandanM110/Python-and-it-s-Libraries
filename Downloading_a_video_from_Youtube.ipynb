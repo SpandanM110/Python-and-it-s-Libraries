{
  "nbformat": 4,
  "nbformat_minor": 0,
  "metadata": {
    "colab": {
      "provenance": [],
      "authorship_tag": "ABX9TyPcITA0GMF4RQ4x5Vo1wwoG",
      "include_colab_link": true
    },
    "kernelspec": {
      "name": "python3",
      "display_name": "Python 3"
    },
    "language_info": {
      "name": "python"
    }
  },
  "cells": [
    {
      "cell_type": "markdown",
      "metadata": {
        "id": "view-in-github",
        "colab_type": "text"
      },
      "source": [
        "<a href=\"https://colab.research.google.com/github/SpandanM110/Python-and-it-s-Libraries/blob/main/Downloading_a_video_from_Youtube.ipynb\" target=\"_parent\"><img src=\"https://colab.research.google.com/assets/colab-badge.svg\" alt=\"Open In Colab\"/></a>"
      ]
    },
    {
      "cell_type": "code",
      "execution_count": null,
      "metadata": {
        "colab": {
          "base_uri": "https://localhost:8080/"
        },
        "id": "KjC3CT4MLwMT",
        "outputId": "e5d77844-a382-412e-e89e-35b8acb5eab3"
      },
      "outputs": [
        {
          "output_type": "stream",
          "name": "stdout",
          "text": [
            "Looking in indexes: https://pypi.org/simple, https://us-python.pkg.dev/colab-wheels/public/simple/\n",
            "Collecting pytube\n",
            "  Downloading pytube-12.1.2-py3-none-any.whl (57 kB)\n",
            "\u001b[2K     \u001b[90m━━━━━━━━━━━━━━━━━━━━━━━━━━━━━━━━━━━━━━━━\u001b[0m \u001b[32m57.0/57.0 KB\u001b[0m \u001b[31m3.3 MB/s\u001b[0m eta \u001b[36m0:00:00\u001b[0m\n",
            "\u001b[?25hInstalling collected packages: pytube\n",
            "Successfully installed pytube-12.1.2\n"
          ]
        }
      ],
      "source": [
        "pip install pytube"
      ]
    },
    {
      "cell_type": "code",
      "source": [
        "import pytube \n",
        "from pytube import YouTube\n",
        "\n",
        "link=input('Enter Youtube Video URL ')\n",
        "yt=pytube.YouTube(link)\n",
        "yt.streams.first().download()\n",
        "\n",
        "print('Downloaded', link)"
      ],
      "metadata": {
        "colab": {
          "base_uri": "https://localhost:8080/"
        },
        "id": "2oPck21qL4q0",
        "outputId": "80d795cb-5d51-4070-d2ce-75c4e3efb114"
      },
      "execution_count": null,
      "outputs": [
        {
          "output_type": "stream",
          "name": "stdout",
          "text": [
            "Enter Youtube Video URL https://youtu.be/bNEwvnPFWe0\n",
            "Downloaded https://youtu.be/bNEwvnPFWe0\n"
          ]
        }
      ]
    },
    {
      "cell_type": "code",
      "source": [
        "help(pytube)"
      ],
      "metadata": {
        "colab": {
          "base_uri": "https://localhost:8080/"
        },
        "id": "R-1u_xXUNYg7",
        "outputId": "265419f3-501a-4250-d7c1-9526af840d34"
      },
      "execution_count": null,
      "outputs": [
        {
          "output_type": "stream",
          "name": "stdout",
          "text": [
            "Help on package pytube:\n",
            "\n",
            "NAME\n",
            "    pytube - Pytube: a very serious Python library for downloading YouTube Videos.\n",
            "\n",
            "PACKAGE CONTENTS\n",
            "    __main__\n",
            "    captions\n",
            "    cipher\n",
            "    cli\n",
            "    contrib (package)\n",
            "    exceptions\n",
            "    extract\n",
            "    helpers\n",
            "    innertube\n",
            "    itags\n",
            "    metadata\n",
            "    monostate\n",
            "    parser\n",
            "    query\n",
            "    request\n",
            "    streams\n",
            "    version\n",
            "\n",
            "DATA\n",
            "    __js__ = None\n",
            "    __js_url__ = None\n",
            "    __license__ = 'The Unlicense (Unlicense)'\n",
            "    __title__ = 'pytube'\n",
            "\n",
            "VERSION\n",
            "    12.1.0\n",
            "\n",
            "AUTHOR\n",
            "    Ronnie Ghose, Taylor Fox Dahlin, Nick Ficano\n",
            "\n",
            "FILE\n",
            "    /usr/local/lib/python3.7/dist-packages/pytube/__init__.py\n",
            "\n",
            "\n"
          ]
        }
      ]
    }
  ]
}