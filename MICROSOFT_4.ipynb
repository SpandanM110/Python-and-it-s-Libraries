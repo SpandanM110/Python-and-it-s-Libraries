{
  "nbformat": 4,
  "nbformat_minor": 0,
  "metadata": {
    "colab": {
      "provenance": [],
      "authorship_tag": "ABX9TyMEU5SjhffU9vA8sVb9A644",
      "include_colab_link": true
    },
    "kernelspec": {
      "name": "python3",
      "display_name": "Python 3"
    },
    "language_info": {
      "name": "python"
    }
  },
  "cells": [
    {
      "cell_type": "markdown",
      "metadata": {
        "id": "view-in-github",
        "colab_type": "text"
      },
      "source": [
        "<a href=\"https://colab.research.google.com/github/SpandanM110/Python-and-it-s-Libraries/blob/main/MICROSOFT_4.ipynb\" target=\"_parent\"><img src=\"https://colab.research.google.com/assets/colab-badge.svg\" alt=\"Open In Colab\"/></a>"
      ]
    },
    {
      "cell_type": "markdown",
      "source": [
        "# MODULE 9 "
      ],
      "metadata": {
        "id": "kFswrIX38Jn4"
      }
    },
    {
      "cell_type": "code",
      "source": [
        "print(type(5))\n",
        "\n",
        "print(type(\"Python\"))\n",
        "\n",
        "print(type([1, 2, 3]))\n",
        "\n",
        "print(type(x*x for x in [2, 4, 6]))"
      ],
      "metadata": {
        "colab": {
          "base_uri": "https://localhost:8080/"
        },
        "id": "BtQAyK7c8Oig",
        "outputId": "6d473926-b768-446d-c3ca-81d18c5e201d"
      },
      "execution_count": null,
      "outputs": [
        {
          "output_type": "stream",
          "name": "stdout",
          "text": [
            "<class 'int'>\n",
            "<class 'str'>\n",
            "<class 'list'>\n",
            "<class 'generator'>\n"
          ]
        }
      ]
    },
    {
      "cell_type": "markdown",
      "source": [
        "# Classes\n",
        "Define the structure and behaviour of objects.\n",
        "Act as a template for creating new objects.\n",
        "Classes control an object's initial state, attributes, and methods."
      ],
      "metadata": {
        "id": "5r2JTzhk85YR"
      }
    },
    {
      "cell_type": "code",
      "source": [
        "# Defining class\n",
        "\n",
        "# class MyClassName: # Class name is made\n",
        "\n",
        "class Flight:\n",
        "\n",
        "  def number(self):\n",
        "    return \"SN060\"\n",
        "# Initializer\n",
        "\n",
        "f = Flight()\n",
        "f.number()\n",
        "\n",
        "Flight.number(f)\n",
        "\n"
      ],
      "metadata": {
        "colab": {
          "base_uri": "https://localhost:8080/",
          "height": 36
        },
        "id": "SRF_c4TN845b",
        "outputId": "afe624f5-956e-4a0d-d4f0-999ffe26b855"
      },
      "execution_count": null,
      "outputs": [
        {
          "output_type": "execute_result",
          "data": {
            "text/plain": [
              "'SN060'"
            ],
            "application/vnd.google.colaboratory.intrinsic+json": {
              "type": "string"
            }
          },
          "metadata": {},
          "execution_count": 6
        }
      ]
    },
    {
      "cell_type": "code",
      "source": [
        "# Instance initializer\n",
        "\n",
        "class Flight:\n",
        "\n",
        "  def __init__(self, number):\n",
        "    self._number = number\n",
        "  \n",
        "  def number(self):\n",
        "    return \"SN060\"\n",
        "\n",
        "f = Flight(\"SN060\")\n",
        "f.number()\n",
        "\n",
        "print(f._number)\n"
      ],
      "metadata": {
        "colab": {
          "base_uri": "https://localhost:8080/"
        },
        "id": "fOvAHyeo_8SC",
        "outputId": "3ea406ca-4b7c-4d25-c52e-fa3a1e5e4af2"
      },
      "execution_count": null,
      "outputs": [
        {
          "output_type": "stream",
          "name": "stdout",
          "text": [
            "SN060\n"
          ]
        }
      ]
    },
    {
      "cell_type": "code",
      "source": [
        "# Python is open language no private and protected just like cpp.\n",
        "\n"
      ],
      "metadata": {
        "id": "PvGabf5o_8P4"
      },
      "execution_count": null,
      "outputs": []
    },
    {
      "cell_type": "code",
      "source": [
        "# Second Class\n",
        "\n"
      ],
      "metadata": {
        "id": "5YR11TAiCqaF"
      },
      "execution_count": null,
      "outputs": []
    },
    {
      "cell_type": "code",
      "source": [],
      "metadata": {
        "id": "YoQLX56GCqZE"
      },
      "execution_count": null,
      "outputs": []
    },
    {
      "cell_type": "code",
      "source": [],
      "metadata": {
        "id": "twY3QhrPCqXW"
      },
      "execution_count": null,
      "outputs": []
    }
  ]
}