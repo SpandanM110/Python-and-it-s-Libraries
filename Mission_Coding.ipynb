{
  "nbformat": 4,
  "nbformat_minor": 0,
  "metadata": {
    "colab": {
      "provenance": [],
      "authorship_tag": "ABX9TyOz02vv9AcuW4/DbkFNwT01",
      "include_colab_link": true
    },
    "kernelspec": {
      "name": "python3",
      "display_name": "Python 3"
    },
    "language_info": {
      "name": "python"
    }
  },
  "cells": [
    {
      "cell_type": "markdown",
      "metadata": {
        "id": "view-in-github",
        "colab_type": "text"
      },
      "source": [
        "<a href=\"https://colab.research.google.com/github/SpandanM110/Python-and-it-s-Libraries/blob/main/Mission_Coding.ipynb\" target=\"_parent\"><img src=\"https://colab.research.google.com/assets/colab-badge.svg\" alt=\"Open In Colab\"/></a>"
      ]
    },
    {
      "cell_type": "code",
      "metadata": {
        "id": "AhOPjYC2okGI",
        "colab": {
          "base_uri": "https://localhost:8080/"
        },
        "outputId": "19d7cac3-7dbe-44ba-db78-0e5cbff6b7f9"
      },
      "source": [
        "# Hello all! You are all great!\n",
        "\n",
        "# LIGHTS ON AND OFF.\n",
        "is_day = False\n",
        "lights_on = not is_day\n",
        "\n",
        "print(\"Daytime?\")\n",
        "print(is_day)\n",
        "\n",
        "print(\"Lights on?\")\n",
        "print(lights_on)"
      ],
      "execution_count": null,
      "outputs": [
        {
          "output_type": "stream",
          "name": "stdout",
          "text": [
            "Daytime?\n",
            "False\n",
            "Lights on?\n",
            "True\n"
          ]
        }
      ]
    },
    {
      "cell_type": "code",
      "metadata": {
        "colab": {
          "base_uri": "https://localhost:8080/"
        },
        "id": "HdlUwMYXoDhq",
        "outputId": "4f5cc19b-8434-40e9-9d18-e7d92ea5fd66"
      },
      "source": [
        "# KILOMETER CONVERTER\n",
        "miles = 500\n",
        "kilometers = miles*1.609344\n",
        "print(kilometers)"
      ],
      "execution_count": null,
      "outputs": [
        {
          "output_type": "stream",
          "name": "stdout",
          "text": [
            "804.672\n"
          ]
        }
      ]
    },
    {
      "cell_type": "code",
      "metadata": {
        "colab": {
          "base_uri": "https://localhost:8080/"
        },
        "id": "7mkakOwao7-X",
        "outputId": "f8bfebda-3a95-4d5f-f927-d55a1d4caea4"
      },
      "source": [
        "# TRACK SALES DATA\n",
        "stock = 600\n",
        "jeans_sold = 500\n",
        "target = 500\n",
        "\n",
        "target_hit = jeans_sold == target\n",
        "print(\"Hit jeans sale target:\")\n",
        "print(target_hit)\n",
        "\n",
        "current_stock = stock - jeans_sold\n",
        "in_stock = current_stock != 0\n",
        "print(in_stock)"
      ],
      "execution_count": null,
      "outputs": [
        {
          "output_type": "stream",
          "name": "stdout",
          "text": [
            "Hit jeans sale target:\n",
            "True\n",
            "True\n"
          ]
        }
      ]
    },
    {
      "cell_type": "code",
      "metadata": {
        "id": "qx4iJjAhsjmD",
        "colab": {
          "base_uri": "https://localhost:8080/"
        },
        "outputId": "d01eca08-0709-471f-d2ce-df1e031f447b"
      },
      "source": [
        "# Location Data\n",
        "country = \"USA\"\n",
        "state = \"Florida\"\n",
        "city = \"Miami\"\n",
        "continent = \"North America\"\n",
        "\n",
        "location = country = state = city = continent\n",
        "print(location)\n"
      ],
      "execution_count": null,
      "outputs": [
        {
          "output_type": "stream",
          "name": "stdout",
          "text": [
            "North America\n"
          ]
        }
      ]
    },
    {
      "cell_type": "code",
      "source": [
        "# Doober Fare Calculator\n",
        "ride_type = \"Black\"\n",
        "credits = 4\n",
        "\n",
        "ride_price = 0\n",
        "final_price = 0\n",
        "\n",
        "if ride_type == \"DoorberX\":\n",
        "  ride_price = 20.5\n",
        "elif ride_type == \"Black\":\n",
        "  ride_price = 37.9\n",
        "else:\n",
        "  ride_price = 18.7\n",
        "\n",
        "print(\"Ride price:\")\n",
        "print(ride_price)\n",
        "\n",
        "if credits > 0:\n",
        "  final_price = ride_price - credits\n",
        "\n",
        "print(\"Final Price\")\n",
        "print(final_price)"
      ],
      "metadata": {
        "colab": {
          "base_uri": "https://localhost:8080/"
        },
        "id": "w3w7M470smY-",
        "outputId": "213d05ed-aba1-496e-e0a2-e11da4a7adc8"
      },
      "execution_count": null,
      "outputs": [
        {
          "output_type": "stream",
          "name": "stdout",
          "text": [
            "Ride price:\n",
            "37.9\n",
            "Final Price\n",
            "33.9\n"
          ]
        }
      ]
    },
    {
      "cell_type": "code",
      "source": [
        "# USER DATABASE\n",
        "user_added = True\n",
        "user = \"Becca\"\n",
        "\n",
        "if user_added == False:\n",
        "  print(f\"Adding {user} to database\")\n",
        "  user_added = True\n",
        "print(f\"Database has user: {user}\")"
      ],
      "metadata": {
        "colab": {
          "base_uri": "https://localhost:8080/"
        },
        "id": "6y1V6g0x9fko",
        "outputId": "c24f3e50-3fe8-43a3-fa48-3c0613167bfa"
      },
      "execution_count": null,
      "outputs": [
        {
          "output_type": "stream",
          "name": "stdout",
          "text": [
            "Database has user: Becca\n"
          ]
        }
      ]
    },
    {
      "cell_type": "code",
      "source": [
        "# Collecting Data Points\n",
        "minimum_points = 100\n",
        "data_points = 150\n",
        "\n",
        "if data_points >= minimum_points:\n",
        "  print(\"There are enough data points!\")\n",
        "if data_points < minimum_points:\n",
        "  print(\"Keep collecting data.\")"
      ],
      "metadata": {
        "colab": {
          "base_uri": "https://localhost:8080/"
        },
        "id": "hH9kBDo3CK99",
        "outputId": "79730764-ece0-42c9-d178-61606c159f28"
      },
      "execution_count": null,
      "outputs": [
        {
          "output_type": "stream",
          "name": "stdout",
          "text": [
            "There are enough data points!\n"
          ]
        }
      ]
    },
    {
      "cell_type": "code",
      "source": [
        "# Finding Outliners\n",
        "upper_limit = 91\n",
        "lower_limit = 24\n",
        "outliner = False\n",
        "number = 8\n",
        "\n",
        "if number > upper_limit:\n",
        "  outliner = True\n",
        "if number < lower_limit:\n",
        "  outliner = True\n",
        "if outliner == True:\n",
        "  print(f\"{number} is an outliner\")"
      ],
      "metadata": {
        "colab": {
          "base_uri": "https://localhost:8080/"
        },
        "id": "E-wA06EFFswR",
        "outputId": "104f4bd5-10ab-42b4-d68b-b4c550933216"
      },
      "execution_count": null,
      "outputs": [
        {
          "output_type": "stream",
          "name": "stdout",
          "text": [
            "8 is an outliner\n"
          ]
        }
      ]
    },
    {
      "cell_type": "code",
      "source": [
        "# America's flag   using for loop\n",
        "for i in range(7):\n",
        "  print(\"*************---------\")\n",
        "for i in range(4):\n",
        "  print(\"----------------------\")"
      ],
      "metadata": {
        "id": "fsQaJcQt3Oub",
        "colab": {
          "base_uri": "https://localhost:8080/"
        },
        "outputId": "d2d706e7-813b-4db9-a6f8-a3d124b10afc"
      },
      "execution_count": null,
      "outputs": [
        {
          "output_type": "stream",
          "name": "stdout",
          "text": [
            "*************---------\n",
            "*************---------\n",
            "*************---------\n",
            "*************---------\n",
            "*************---------\n",
            "*************---------\n",
            "*************---------\n",
            "----------------------\n",
            "----------------------\n",
            "----------------------\n",
            "----------------------\n"
          ]
        }
      ]
    },
    {
      "cell_type": "code",
      "source": [
        "# Shipping cost calculator.\n",
        "\n",
        "total = int(input(\"Enter the number of goods for shipment\\n\"))\n",
        "shipping_cost = 0\n",
        "\n",
        "if international_shipping:\n",
        "  shipping_cost += 15\n",
        "  print(f\"International base cost applied is {shipping_cost}\")\n",
        "\n",
        "if total <= 50:\n",
        "  shipping_cost += 20\n",
        "  print(f\"International base cost applied is {shipping_cost}\")\n",
        "elif total <= 100:\n",
        "  shipping_cost += 15*50\n",
        "  print(f\"International base cost applied is {shipping_cost}\")\n",
        "\n",
        "else:\n",
        "  shipping_cost += 5\n",
        "\n",
        "\n",
        "print(f\"Shipping cost: {shipping_cost}\")\n"
      ],
      "metadata": {
        "id": "CXPwOymaUnyU"
      },
      "execution_count": null,
      "outputs": []
    },
    {
      "cell_type": "code",
      "source": [
        "\n",
        "# Compound interst calculator\n",
        "account=int(input(\"Enter the amount\\n\"))\n",
        "interest_rate=int(input(\"Enter the Interest Rate\\n\"))/100\n",
        "years=int(input(\"Enter the time in years\\n\"))\n",
        "\n",
        "print(f\"Initial amount: {account}\")\n",
        "\n",
        "counter=1  # Mean for the year time in order to start the while loop from year 1.\n",
        "while counter <= years:\n",
        "  accrued_interest = account * interest_rate\n",
        "  account += accrued_interest\n",
        "  print(f\"year {counter}: {account}\")\n",
        "  counter += 1\n"
      ],
      "metadata": {
        "id": "CyhoH7YoUrrx",
        "colab": {
          "base_uri": "https://localhost:8080/"
        },
        "outputId": "06ab69bc-0c00-4473-be88-4296339e7590"
      },
      "execution_count": null,
      "outputs": [
        {
          "output_type": "stream",
          "name": "stdout",
          "text": [
            "Enter the amount\n",
            "1000000\n",
            "Enter the Interest Rate\n",
            "5\n",
            "Enter the time in years\n",
            "10\n",
            "Initial amount: 1000000\n",
            "year 1: 1050000.0\n",
            "year 2: 1102500.0\n",
            "year 3: 1157625.0\n",
            "year 4: 1215506.25\n",
            "year 5: 1276281.5625\n",
            "year 6: 1340095.640625\n",
            "year 7: 1407100.42265625\n",
            "year 8: 1477455.4437890626\n",
            "year 9: 1551328.2159785158\n",
            "year 10: 1628894.6267774417\n"
          ]
        }
      ]
    },
    {
      "cell_type": "code",
      "source": [
        "# Coupon generator\n",
        "site=\"www.netflix.com\"\n",
        "coupon=\"signup/coupon\"\n",
        "amount=int(input(\"Enter the amount of subscription you want. Some of these are 10$, 100$ and 1000$\\n\"))\n",
        "if (amount==10) or (amount==100) or (amount==1000):\n",
        "  if (amount==10):\n",
        "    discounted_price=amount-(amount)*(2/100)\n",
        "    print(f\"The discounted price will be {discounted_price}\\n\")\n",
        "  elif (amount==100):\n",
        "    discounted_price=amount-(amount)*(10/100)\n",
        "    print(f\"The discounted price will be {discounted_price}\\n\")\n",
        "  elif (amount==1000):\n",
        "    discounted_price=amount-(amount)*(50/100)\n",
        "    print(f\"The discounted price will be {discounted_price}\\n\")\n",
        "else:\n",
        "  print(\"Invalid Input\")\n",
        "for i in range(1):\n",
        "  print(f\"{site}/{amount}/{coupon} making your subsciption soon just chill buddy\")\n",
        "\n"
      ],
      "metadata": {
        "id": "6KWKMl8bUx5S"
      },
      "execution_count": null,
      "outputs": []
    },
    {
      "cell_type": "code",
      "source": [
        "# Simple Interest Calculator\n",
        "p=int(input(\"Enter the principal amount\\n\"))\n",
        "r=int(input(\"Enter the interest rate\\n\"))\n",
        "t=int(input(\"Enter the time in years\\n\"))\n",
        "\n",
        "SI=(p*r*t)/100\n",
        "print(f\"The simple interest is {SI}\\n\")\n",
        "amount=p+SI\n",
        "print(f\"The total amount to be paid with principal amount {p} with simple interest of {SI} in a time of {t}years is clearly {amount}\")\n"
      ],
      "metadata": {
        "colab": {
          "base_uri": "https://localhost:8080/"
        },
        "id": "AfAgthAXzExc",
        "outputId": "b084bcea-a40d-4261-fcbc-761abeb5db57"
      },
      "execution_count": null,
      "outputs": [
        {
          "output_type": "stream",
          "name": "stdout",
          "text": [
            "Enter the principal amount\n",
            "100000\n",
            "Enter the interest rate\n",
            "3\n",
            "Enter the time in years\n",
            "2\n",
            "The simple interest is 6000.0\n",
            "\n",
            "The total amount to be paid with principal amount 100000 with simple interest of 6000.0 in a time of 2years is clearly 106000.0\n"
          ]
        }
      ]
    },
    {
      "cell_type": "code",
      "source": [
        "# List example practice\n",
        "jarvis=[\"Hello\",3000,\"Ironman\",\"jarvis\",\"Friday\"]\n",
        "print(jarvis[0])     # To find out the information \n",
        "\n",
        "jarvis[3]=\"Pepper Pots\"   # Over writing over the previous list on index 3\n",
        "print(jarvis)\n",
        "\n",
        "jarvis.append(\"100 kills\")\n",
        "print(jarvis)\n",
        "\n"
      ],
      "metadata": {
        "colab": {
          "base_uri": "https://localhost:8080/"
        },
        "id": "li8dYRf1Ai8G",
        "outputId": "f01ce594-f400-4c26-aea5-f9b33fdeb7c5"
      },
      "execution_count": null,
      "outputs": [
        {
          "output_type": "stream",
          "name": "stdout",
          "text": [
            "Hello\n",
            "['Hello', 3000, 'Ironman', 'Pepper Pots', 'Friday']\n",
            "['Hello', 3000, 'Ironman', 'Pepper Pots', 'Friday', '100 kills']\n"
          ]
        }
      ]
    },
    {
      "cell_type": "code",
      "source": [
        "# New product Rating\n",
        "# Here's a peak. We'll create lists for the yogurt flavors,consumer ratings and results, and then display them.\n",
        "\n",
        "flavors = [\"cinnamon\",\"pumkin\",\"apple pie\"]\n",
        "print(\"New flavors\")\n",
        "print(flavors)\n",
        "\n",
        "ratings = [4, 2.5, 3]\n",
        "print(\"Consumer ratings:\")\n",
        "print(ratings)\n",
        "\n",
        "passed=[True, False, True]\n",
        "print(\"Release:\")\n",
        "print(passed)\n",
        "\n",
        "\n",
        "\n",
        "\n"
      ],
      "metadata": {
        "id": "h0keo3geNVu6"
      },
      "execution_count": null,
      "outputs": []
    },
    {
      "cell_type": "code",
      "source": [
        "# Stocks Tracker\n",
        "# We will store the latest, highest and lowest values in a list and then update with the new values are recorded.\n",
        "\n",
        "apple_stocks = [298.18, 304.18, 289.23]\n",
        "apple_stocks[0] = 310\n",
        "print(\"latest value\")\n",
        "print(apple_stocks[0]) \n",
        "\n",
        "apple_stocks[1]=310\n",
        "print(\"highest value:\")\n",
        "print(apple_stocks[1])\n",
        "\n",
        "print(\"lowest value:\")\n",
        "print(apple_stocks[2])\n",
        "\n"
      ],
      "metadata": {
        "id": "to59o8KORdkU",
        "colab": {
          "base_uri": "https://localhost:8080/"
        },
        "outputId": "6197ed61-321f-41a0-9281-7198d504314d"
      },
      "execution_count": null,
      "outputs": [
        {
          "output_type": "stream",
          "name": "stdout",
          "text": [
            "latest value\n",
            "310\n",
            "highest value:\n",
            "310\n",
            "lowest value:\n",
            "289.23\n",
            "[310, 310, 289.23]\n"
          ]
        }
      ]
    },
    {
      "cell_type": "code",
      "source": [
        "# Highest Score\n",
        "# Let's create some code thatr helps an arcade machine find the highest score from a list of scores without the help max()\n",
        "# We will use list,for loop, and comparison to go through the scores and check if one score is higher than the last.\n",
        "# We will first store the value in a list in a variable then loop through the list and update the new variable if we finda a bigger value.\n",
        "\n",
        "user_scores = [12,42,55,100,11,22]\n",
        "highest = user_scores[0]\n",
        "\n",
        "for score in user_scores:\n",
        "  if score > highest:\n",
        "    highest = score\n",
        "\n",
        "print(f\"Highest score: {highest}\")"
      ],
      "metadata": {
        "colab": {
          "base_uri": "https://localhost:8080/"
        },
        "id": "JTad5h8lMlv6",
        "outputId": "d09c03b0-101f-4d24-ae55-f07521e7b90c"
      },
      "execution_count": null,
      "outputs": [
        {
          "output_type": "stream",
          "name": "stdout",
          "text": [
            "Highest score: 100\n"
          ]
        }
      ]
    },
    {
      "cell_type": "code",
      "source": [
        "# Humidity control\n",
        "# In order to manage soil humidity data from a greenhouse monitor. We will use the list to track at over five days.\n",
        "\n",
        "humidity_level=[87, 83, 89, 87]\n",
        "humidity_level.insert(0, 90)\n",
        "humidity_level.pop()\n",
        "\n",
        "print(humidity_level)\n"
      ],
      "metadata": {
        "colab": {
          "base_uri": "https://localhost:8080/"
        },
        "id": "bumbdGp7QcdK",
        "outputId": "9b8cfcdd-bd88-47ef-a77e-18051052fcd2"
      },
      "execution_count": null,
      "outputs": [
        {
          "output_type": "stream",
          "name": "stdout",
          "text": [
            "[90, 87, 83, 89]\n"
          ]
        }
      ]
    },
    {
      "cell_type": "code",
      "source": [
        "# Customer Service\n",
        "# Let's use our lists skills to sort a list of customers and assign them to the first available customer.\n",
        "\n",
        "customers = [\"Filip\",\"Miranda\",\"Ariah\",\"Laurence\",\"Shahid\"]\n",
        "free_counters = [11,20,14,6,4]\n",
        "customers.sort()\n",
        "free_counters.sort()\n",
        "\n",
        "customer = customers[0]\n",
        "counter = free_counters[0]\n",
        "\n",
        "print(customer)\n",
        "print(f\"Visit counter: {counter}\")\n"
      ],
      "metadata": {
        "colab": {
          "base_uri": "https://localhost:8080/"
        },
        "id": "HlLxwGglDgpy",
        "outputId": "72e90e35-bc8c-41c6-e70f-8ea139ce92e9"
      },
      "execution_count": null,
      "outputs": [
        {
          "output_type": "stream",
          "name": "stdout",
          "text": [
            "Ariah\n",
            "Visit counter: 4\n"
          ]
        }
      ]
    },
    {
      "cell_type": "code",
      "source": [
        "# Lake Size Comparison\n",
        "# Let's use our knowledge of lists to analyze an unsorted dataset of the ten largest lakes in the United States.\n",
        "\n",
        "# We will use max() and min() to find the dataset's largest and smallest values. Then , we will display the difference.\n",
        "\n",
        "sizes = [7320, 2117, 22300, 31700, 1679, 1014, 23000, 9910, 685]\n",
        "largest = max(sizes)\n",
        "print(\"Largest lake in sq mi: \")\n",
        "print(largest)\n",
        "smallest = min(sizes)\n",
        "print(\"10th largest lake in sq mi:\")\n",
        "print(smallest)\n",
        "difference = largest - smallest\n",
        "\n",
        "print(f\"Difference between lakes in sq mi: {difference}\")"
      ],
      "metadata": {
        "colab": {
          "base_uri": "https://localhost:8080/"
        },
        "id": "KUr7Swd1FOoW",
        "outputId": "712a4f98-dd6d-4250-f3fd-0c5bb105307e"
      },
      "execution_count": null,
      "outputs": [
        {
          "output_type": "stream",
          "name": "stdout",
          "text": [
            "Largest lake in sq mi: \n",
            "31700\n",
            "10th largest lake in sq mi:\n",
            "685\n",
            "Difference between lakes in sq mi: 31015\n"
          ]
        }
      ]
    },
    {
      "cell_type": "code",
      "source": [
        "# Team Size Checker\n",
        "# WE Will store the two teams in a list, check if they have the same length then display the rounds left based on the length.\n",
        "\n",
        "team_1 = [\"Mia\", \"Lisa\", \"Liam\"]\n",
        "team_2 = [\"James\", \"Ty\", \"Ava\"]\n",
        "\n",
        "size_1 = len(team_1)\n",
        "size_2 = len(team_2)\n",
        "\n",
        "if size_1 != size_2:\n",
        "  print(\"Teams must have the same size!\")\n",
        "else:\n",
        "  print(\"Game on!\")\n",
        "\n",
        "if size_1 == 3:\n",
        "  print(\"Rounds left: 3\")\n",
        "elif size_1 == 2:\n",
        "  print(\"Rounds left: 2\")\n",
        "else:\n",
        "  print(\"Final Round!\")\n",
        "\n"
      ],
      "metadata": {
        "colab": {
          "base_uri": "https://localhost:8080/"
        },
        "id": "PrJMeKCpM2gl",
        "outputId": "1b0c5496-39fc-43ea-fe6c-3861b6378eff"
      },
      "execution_count": null,
      "outputs": [
        {
          "output_type": "stream",
          "name": "stdout",
          "text": [
            "Game on!\n",
            "Rounds left: 3\n"
          ]
        }
      ]
    },
    {
      "cell_type": "code",
      "source": [
        "# Product Ratings Analysis\n",
        "# We will count how many one and five star ratings there are in a list and display the results.\n",
        "\n",
        "ratings = [5, 5, 3, 1, 1, 1, 4, 5, 3, 5]\n",
        "five_star = ratings.count(5)\n",
        "one_star = ratings.count(1)\n",
        "\n",
        "amounts = [five_star, one_star]\n",
        "print(\"Five star ratings:\")\n",
        "print(amounts[0])\n",
        "\n",
        "print(\"One star ratings:\")\n",
        "print(amounts[1])\n",
        "\n",
        "\n",
        "\n",
        "\n",
        "\n",
        "\n"
      ],
      "metadata": {
        "colab": {
          "base_uri": "https://localhost:8080/"
        },
        "id": "MfqbxtC8QR94",
        "outputId": "a9c3c3ac-364c-4ab5-efa8-5e5040a4d95f"
      },
      "execution_count": null,
      "outputs": [
        {
          "output_type": "stream",
          "name": "stdout",
          "text": [
            "Five star ratings:\n",
            "4\n",
            "One star ratings:\n",
            "3\n"
          ]
        }
      ]
    },
    {
      "cell_type": "code",
      "source": [
        "# Stock Calculator\n",
        "# Using the knowledge of F-strings to code a program that tracks an online store's orders and stocks.\n",
        "stock = 74\n",
        "item = \"webcams\"\n",
        "orders = 18\n",
        "\n",
        "print(f\"{stock} {item} in stock\")\n",
        "\n",
        "\n",
        "print(f\"{orders} customer orders\")\n",
        "\n",
        "\n",
        "print(f\"{stock-orders} available\")\n"
      ],
      "metadata": {
        "colab": {
          "base_uri": "https://localhost:8080/"
        },
        "id": "PxS2IesUuQRY",
        "outputId": "f201c072-4892-4db8-a0b0-69b288042245"
      },
      "execution_count": null,
      "outputs": [
        {
          "output_type": "stream",
          "name": "stdout",
          "text": [
            "74 webcams in stock\n",
            "18 customer orders\n",
            "56 available\n"
          ]
        }
      ]
    },
    {
      "cell_type": "code",
      "source": [
        "# Game Data\n",
        "# Using F strings to keep track of two players and the data they generate during a round based game.\n",
        "player_1 = \"Sam\"\n",
        "player_2 = \"Alex\"\n",
        "current_round = 1\n",
        "print(\"Game On!\")\n",
        "print(f\"player 1: {player_1}\")\n",
        "print(f\"player 2: {player_2}\")\n",
        "print(\"---------------------\")\n",
        "print(f\"Round {current_round}!\")\n",
        "player_1_score = 10\n",
        "player_2_score = 13\n",
        "print(f\"{player_2} wins with {player_2_score} to {player_1_score}\")\n",
        "print(\"------------------------\")\n"
      ],
      "metadata": {
        "colab": {
          "base_uri": "https://localhost:8080/"
        },
        "id": "j8bGQfYfvtiu",
        "outputId": "5c4fd1d7-7211-4354-a2ac-ed7f8fab7347"
      },
      "execution_count": null,
      "outputs": [
        {
          "output_type": "stream",
          "name": "stdout",
          "text": [
            "Game On!\n",
            "player 1: Sam\n",
            "player 2: Alex\n",
            "---------------------\n",
            "Round 1!\n",
            "Alex wins with 13 to 10\n",
            "------------------------\n"
          ]
        }
      ]
    },
    {
      "cell_type": "code",
      "source": [
        "# Membership Processor\n",
        "# A club has a membership sign-up form where the data arrives as strings. Let's change types to fix it.\n",
        "\n",
        "name_box = \"Alice Bentall\"\n",
        "age_box = \"20\"\n",
        "uni_box = \"\"\n",
        "subs_box = \"1.99\"\n",
        "mkt_box = \"0\"\n",
        "\n",
        "name_entered = bool(name_box)\n",
        "if name_entered:\n",
        "  name = name_box\n",
        "else:\n",
        "  name = \"Unknown\"\n",
        "\n",
        "age = int(age_box)\n",
        "student = bool(uni_box)\n",
        "subscription = float(subs_box)\n",
        "marketing = bool(int(mkt_box))\n",
        "\n",
        "profile = name + ',' + str(age)\n",
        "print(profile)\n",
        "\n"
      ],
      "metadata": {
        "colab": {
          "base_uri": "https://localhost:8080/"
        },
        "id": "kOVHhCYhZIFD",
        "outputId": "008875c2-9287-459b-af77-64a9e7204fb0"
      },
      "execution_count": null,
      "outputs": [
        {
          "output_type": "stream",
          "name": "stdout",
          "text": [
            "Alice Bentall,20\n"
          ]
        }
      ]
    },
    {
      "cell_type": "code",
      "source": [
        "# Morse Encoder\n",
        "# Project to convert set of numbers to morse code.\n",
        "\n",
        "def convert_to_morse(code):\n",
        "\n",
        "  code = code.replace(\"1\", \".----\")\n",
        "  code = code.replace(\"2\", \"..---\")\n",
        "  code = code.replace(\"3\", \"...--\")\n",
        "  code = code.replace(\"4\", \"....-\")\n",
        "  code = code.replace(\"5\", \".....\")\n",
        "  code = code.replace(\"6\", \"-....\")\n",
        "  code = code.replace(\"7\", \"--...\")\n",
        "  code = code.replace(\"8\", \"---..\")\n",
        "  code = code.replace(\"9\", \".----.\")\n",
        "  code = code.replace(\"0\", \"-----\")\n",
        "\n",
        "  return code\n",
        "\n",
        "lock_code = (input(\"Enter a number\\n\") )\n",
        "morse = convert_to_morse(lock_code)\n",
        "print(f\"lock code:{lock_code}\\n morse code:{morse} \")\n"
      ],
      "metadata": {
        "colab": {
          "base_uri": "https://localhost:8080/"
        },
        "id": "dnK9NUocZA-I",
        "outputId": "5240bbe9-27d7-4866-9e59-f5d4fb5eda17"
      },
      "execution_count": null,
      "outputs": [
        {
          "output_type": "stream",
          "name": "stdout",
          "text": [
            "Enter a number\n",
            "12250\n",
            "lock code:12250\n",
            " morse code:.----..---..---.....----- \n"
          ]
        }
      ]
    },
    {
      "cell_type": "code",
      "source": [
        "# Fare Split Calculator\n",
        "# Using the multiple parameters of a function that splits a Doober fare between several passengers\n",
        "\n",
        "def split_fare(fare, passengers, feature_cost):\n",
        "\n",
        "  share = fare/passengers\n",
        "  print(f\"Splitting the ${fare} fare between {passengers} passengers....\")\n",
        "\n",
        "  shared_cost = share + feature_cost\n",
        "  print(f\"Adding a $ {feature_cost} feature cost...\")\n",
        "  return shared_cost\n",
        "\n",
        "fare_cost = int(input(\"Enter the fare cost\\n\"))\n",
        "passengers = int(input(\"Enter the number of passengers\\n\"))\n",
        "feature_cost = int(input(\"Enter the feature cost\\n\"))\n",
        "\n",
        "shared_cost = split_fare(fare_cost, passengers, feature_cost)\n",
        "print(f\"Each pay: ${shared_cost}\")"
      ],
      "metadata": {
        "colab": {
          "base_uri": "https://localhost:8080/"
        },
        "id": "RkuL2dFCeVy4",
        "outputId": "947fc5ab-9f78-40a7-d24e-fdcc6550d7f6"
      },
      "execution_count": null,
      "outputs": [
        {
          "output_type": "stream",
          "name": "stdout",
          "text": [
            "Enter the fare cost\n",
            "222\n",
            "Enter the number of passengers\n",
            "2\n",
            "Enter the feature cost\n",
            "2\n",
            "Splitting the $222 fare between 2 passengers....\n",
            "Adding a $ 2 feature cost...\n",
            "Each pay: $113.0\n"
          ]
        }
      ]
    },
    {
      "cell_type": "code",
      "source": [
        "# Calculator\n",
        "def calculator(num_1, num_2, op):\n",
        "  result = 0\n",
        "\n",
        "  if op == \"+\":\n",
        "    result = num_1 + num_2\n",
        "  elif op == \"-\":\n",
        "    result = num_1 - num_2\n",
        "  elif op == \"*\":\n",
        "    result = num_1 * num_2\n",
        "  print(f\"{num_1} {op} {num_2} = {result}\")\n",
        "\n",
        "calculator(5, 10, \"*\")"
      ],
      "metadata": {
        "colab": {
          "base_uri": "https://localhost:8080/"
        },
        "id": "zGoqu-sxuck_",
        "outputId": "5434b398-3f63-4e49-8ecf-1985b2f574d3"
      },
      "execution_count": null,
      "outputs": [
        {
          "output_type": "stream",
          "name": "stdout",
          "text": [
            "5 * 10 = 50\n"
          ]
        }
      ]
    },
    {
      "cell_type": "code",
      "source": [
        "# Classes Scheduler\n",
        "def schedule_classes(classes, times):\n",
        "  schedule = []\n",
        "\n",
        "  index = 0\n",
        "  while index < len(classes):\n",
        "    scheduled_class = classes[index] + \": \" + times[index]\n",
        "    schedule.append(scheduled_class)\n",
        "    index += 1\n",
        "\n",
        "  return schedule\n",
        "\n",
        "classes = [\"Algerbra\", \"History\", \"Biology\", \"Swimming\"]\n",
        "times = [\"9am\", \"11am\", \"1pm\", \"3pm\"]\n",
        "schedule = schedule_classes(classes, times)\n",
        "print(f\"Monday's Schedule: {schedule}\")\n",
        "\n",
        "\n"
      ],
      "metadata": {
        "colab": {
          "base_uri": "https://localhost:8080/"
        },
        "id": "tdWZpX6-wVsW",
        "outputId": "e9ba83d8-c9a0-4788-fe3b-9d60ff37e589"
      },
      "execution_count": null,
      "outputs": [
        {
          "output_type": "stream",
          "name": "stdout",
          "text": [
            "Monday's Schedule: ['Algerbra: 9am', 'History: 11am', 'Biology: 1pm', 'Swimming: 3pm']\n"
          ]
        }
      ]
    },
    {
      "cell_type": "code",
      "source": [
        "# Piggy Bank\n",
        "class Piggy:\n",
        "  value=0\n",
        "  def addMoney(self, amount):\n",
        "    self.value = self.value + amount\n",
        "\n",
        "myPiggy = Piggy()\n",
        "myPiggy.addMoney(100)\n",
        "\n",
        "print(myPiggy.value)\n",
        "\n",
        "\n",
        "\n"
      ],
      "metadata": {
        "colab": {
          "base_uri": "https://localhost:8080/"
        },
        "id": "tQOFMaktC6b-",
        "outputId": "23f46af1-ca55-418f-fb33-96a3dfe4c6c0"
      },
      "execution_count": null,
      "outputs": [
        {
          "output_type": "stream",
          "name": "stdout",
          "text": [
            "100\n"
          ]
        }
      ]
    }
  ]
}