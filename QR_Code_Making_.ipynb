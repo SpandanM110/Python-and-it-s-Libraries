{
  "nbformat": 4,
  "nbformat_minor": 0,
  "metadata": {
    "colab": {
      "provenance": [],
      "authorship_tag": "ABX9TyP+A72/WopBi+ui4c8z68NH",
      "include_colab_link": true
    },
    "kernelspec": {
      "name": "python3",
      "display_name": "Python 3"
    },
    "language_info": {
      "name": "python"
    }
  },
  "cells": [
    {
      "cell_type": "markdown",
      "metadata": {
        "id": "view-in-github",
        "colab_type": "text"
      },
      "source": [
        "<a href=\"https://colab.research.google.com/github/SpandanM110/Python-and-it-s-Libraries/blob/main/QR_Code_Making_.ipynb\" target=\"_parent\"><img src=\"https://colab.research.google.com/assets/colab-badge.svg\" alt=\"Open In Colab\"/></a>"
      ]
    },
    {
      "cell_type": "code",
      "execution_count": null,
      "metadata": {
        "id": "qzW4gkPTtcRN"
      },
      "outputs": [],
      "source": [
        "#Description: Generate a QR code using Python"
      ]
    },
    {
      "cell_type": "code",
      "source": [
        "pip install qrcode"
      ],
      "metadata": {
        "colab": {
          "base_uri": "https://localhost:8080/"
        },
        "id": "YVceWQY5tt92",
        "outputId": "cb0db64d-715e-48bb-ad9c-2fa4ea4674f3"
      },
      "execution_count": null,
      "outputs": [
        {
          "output_type": "stream",
          "name": "stdout",
          "text": [
            "Looking in indexes: https://pypi.org/simple, https://us-python.pkg.dev/colab-wheels/public/simple/\n",
            "Requirement already satisfied: qrcode in /usr/local/lib/python3.8/dist-packages (7.4.2)\n",
            "Requirement already satisfied: pypng in /usr/local/lib/python3.8/dist-packages (from qrcode) (0.20220715.0)\n",
            "Requirement already satisfied: typing-extensions in /usr/local/lib/python3.8/dist-packages (from qrcode) (4.5.0)\n"
          ]
        }
      ]
    },
    {
      "cell_type": "code",
      "source": [
        "# Import The library\n",
        "import qrcode"
      ],
      "metadata": {
        "id": "KIwZ4ja6ty19"
      },
      "execution_count": null,
      "outputs": []
    },
    {
      "cell_type": "code",
      "source": [
        "#Generate the QR code\n",
        "import qrcode\n",
        "img = qrcode.make('https://forms.gle/edAEXrHqfXdJUAtx8')   # Note the link can be changed to anything you want just copy link and paste it in the single inverted commas.\n",
        "# Save Image as Image File like (.jpg)\n",
        "img.save('YoutubeQR.jpg')\n",
        "# print(img)  This won't give any output as it posses differe"
      ],
      "metadata": {
        "id": "kUsrhozAt5QH"
      },
      "execution_count": null,
      "outputs": []
    }
  ]
}