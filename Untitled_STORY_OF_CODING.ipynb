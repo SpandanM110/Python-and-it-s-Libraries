{
  "nbformat": 4,
  "nbformat_minor": 0,
  "metadata": {
    "colab": {
      "provenance": [],
      "authorship_tag": "ABX9TyP2en5S1fPdFGuO/nfwc3Xx",
      "include_colab_link": true
    },
    "kernelspec": {
      "name": "python3",
      "display_name": "Python 3"
    },
    "language_info": {
      "name": "python"
    }
  },
  "cells": [
    {
      "cell_type": "markdown",
      "metadata": {
        "id": "view-in-github",
        "colab_type": "text"
      },
      "source": [
        "<a href=\"https://colab.research.google.com/github/SpandanM110/Python-and-it-s-Libraries/blob/main/Untitled_STORY_OF_CODING.ipynb\" target=\"_parent\"><img src=\"https://colab.research.google.com/assets/colab-badge.svg\" alt=\"Open In Colab\"/></a>"
      ]
    },
    {
      "cell_type": "code",
      "execution_count": null,
      "metadata": {
        "colab": {
          "base_uri": "https://localhost:8080/"
        },
        "id": "kdLWBj0LKgIa",
        "outputId": "88ee97f0-5519-4cb7-a45f-2ee0b0b5b2ba"
      },
      "outputs": [
        {
          "output_type": "stream",
          "name": "stdout",
          "text": [
            "28000\n",
            "8000000\n"
          ]
        }
      ],
      "source": [
        "import numpy as np\n",
        "import sys\n",
        "s=list(range(1000))\n",
        "print(sys.getsizeof(1000)*len(s))\n",
        "a=np.arange(1000000)\n",
        "print(a.size*a.itemsize)"
      ]
    },
    {
      "cell_type": "code",
      "source": [
        "number_of_lines=int(input(\"Enter the constellation of stars what you want to look\\n\"))\n",
        "for i in range(0,number_of_lines):\n",
        "  print(\"*\"*(i+1))"
      ],
      "metadata": {
        "colab": {
          "base_uri": "https://localhost:8080/"
        },
        "id": "2lUrT5RR5ZpX",
        "outputId": "a569bff5-5c3c-4461-9f0d-2b226cc2063f"
      },
      "execution_count": null,
      "outputs": [
        {
          "output_type": "stream",
          "name": "stdout",
          "text": [
            "Enter the constellation of stars what you want to look\n",
            "7\n",
            "*\n",
            "**\n",
            "***\n",
            "****\n",
            "*****\n",
            "******\n",
            "*******\n"
          ]
        }
      ]
    },
    {
      "cell_type": "code",
      "source": [
        "#recursive functions\n",
        "\n",
        "def factorial(n):\n",
        "  if n==0 or n==1:\n",
        "    return 1\n",
        "  else:\n",
        "    return n * factorial(n-1)\n",
        "fac = factorial(0)\n",
        "print(fac)"
      ],
      "metadata": {
        "colab": {
          "base_uri": "https://localhost:8080/"
        },
        "id": "2cXp9EwM7nbv",
        "outputId": "468f8bd5-878c-4d68-d9f0-59716388c746"
      },
      "execution_count": null,
      "outputs": [
        {
          "output_type": "stream",
          "name": "stdout",
          "text": [
            "1\n"
          ]
        }
      ]
    },
    {
      "cell_type": "code",
      "source": [
        "def factorial(n):\n",
        "  if n==0 or n==1:\n",
        "    return 1\n",
        "  else:\n",
        "    return n * factorial(n-1)\n",
        "a=int(input(\"Enter a number\\n\"))\n",
        "fac=factorial(a)\n",
        "print(f\"The answer of pnc is {fac}\")"
      ],
      "metadata": {
        "colab": {
          "base_uri": "https://localhost:8080/"
        },
        "id": "N6nR8fGo7_l2",
        "outputId": "2db9c11f-018f-4caa-9d77-4502b9436ff6"
      },
      "execution_count": null,
      "outputs": [
        {
          "output_type": "stream",
          "name": "stdout",
          "text": [
            "Enter a number\n",
            "10\n",
            "The answer of pnc is 3628800\n"
          ]
        }
      ]
    },
    {
      "cell_type": "code",
      "source": [
        "# sasta calculator\n",
        "a=int(input(\"Enter the value of a \\n\"))\n",
        "b=int(input(\"Enter the value of b \\n\"))\n",
        "print(a+b)\n",
        "print(a-b)\n",
        "print(a*b)\n",
        "print(a/b)\n"
      ],
      "metadata": {
        "colab": {
          "base_uri": "https://localhost:8080/"
        },
        "id": "6PbzQyy486MZ",
        "outputId": "6a6626ab-fadb-4f3f-c900-d99d18eaaabc"
      },
      "execution_count": null,
      "outputs": [
        {
          "output_type": "stream",
          "name": "stdout",
          "text": [
            "Enter the value of a \n",
            "22\n",
            "Enter the value of b \n",
            "3\n",
            "25\n",
            "19\n",
            "66\n",
            "7.333333333333333\n"
          ]
        }
      ]
    },
    {
      "cell_type": "code",
      "source": [
        "# Some of the BODMAS principle\n",
        "a=int(input())\n",
        "b=int(input())\n",
        "c=int(input())\n",
        "d=a*b+c\n",
        "print(f\"The answer is {d}\")"
      ],
      "metadata": {
        "colab": {
          "base_uri": "https://localhost:8080/"
        },
        "id": "CiZbcoV7-mbH",
        "outputId": "4ce6cdbd-64c5-49a6-cf8d-e758c014f72c"
      },
      "execution_count": null,
      "outputs": [
        {
          "output_type": "stream",
          "name": "stdout",
          "text": [
            "8\n",
            "9\n",
            "1\n",
            "The answer is 73\n"
          ]
        }
      ]
    },
    {
      "cell_type": "code",
      "source": [
        "# Conditions \n",
        "a=int(input(\"Enter the value of a\\n\"))\n",
        "b=int(input(\"Enter the value of b\\n\"))\n",
        "if a>b:\n",
        "  print(f\"The greatest value is {a}\")\n",
        "else:\n",
        "  print(f\"The greatest value is {b}\")\n"
      ],
      "metadata": {
        "colab": {
          "base_uri": "https://localhost:8080/"
        },
        "id": "9kwYMTzD9bN_",
        "outputId": "78390e2d-1c5e-46e9-a0f8-f212b8b17504"
      },
      "execution_count": null,
      "outputs": [
        {
          "output_type": "stream",
          "name": "stdout",
          "text": [
            "Enter the value of a\n",
            "40\n",
            "Enter the value of b\n",
            "59\n",
            "The greatest value is 59\n"
          ]
        }
      ]
    },
    {
      "cell_type": "code",
      "source": [
        "# Number Entry\n",
        "num1 = int(input(\"Enter the first number\\n\"))\n",
        "num2 = int(input(\"Enter the second number\\n\"))           # \\n means you can enter the details from the second line onwards.\n",
        "a = num1 + num2\n",
        "print(a)\n",
        "if a>=100:\n",
        "  print(\"You have entered a huge number \")\n",
        "else:\n",
        "  print(\"You have entered a small number\") "
      ],
      "metadata": {
        "colab": {
          "base_uri": "https://localhost:8080/"
        },
        "id": "B5GBK897ASlX",
        "outputId": "1ee32aff-2a11-4a41-f452-0abfc2a0a19e"
      },
      "execution_count": null,
      "outputs": [
        {
          "output_type": "stream",
          "name": "stdout",
          "text": [
            "Enter the first number\n",
            "2323\n",
            "Enter the second number\n",
            "32232\n",
            "34555\n",
            "You have entered a huge number \n"
          ]
        }
      ]
    },
    {
      "cell_type": "code",
      "source": [
        "# Spandan went to the market and purchased a list of n items of mobile, m items of cars, z no.of laptops. cost of it is n=90000,m=8000000 and z=100000.Find the total bill.\n",
        "n=int(input())\n",
        "m=int(input())\n",
        "z=int(input())\n",
        "d=n*90000\n",
        "c=n*8000000\n",
        "e=n*100000\n",
        "f=d+c+e\n",
        "print(f)\n",
        " "
      ],
      "metadata": {
        "colab": {
          "base_uri": "https://localhost:8080/"
        },
        "id": "hR0gLL5YBicl",
        "outputId": "1e6cc32b-6b97-4a36-dcb0-6869bfa199d3"
      },
      "execution_count": null,
      "outputs": [
        {
          "output_type": "stream",
          "name": "stdout",
          "text": [
            "8\n",
            "9\n",
            "10\n",
            "65520000\n"
          ]
        }
      ]
    },
    {
      "cell_type": "code",
      "source": [
        "# Simple interest calculator\n",
        "p=int(input())\n",
        "r=int(input())%100\n",
        "t=int(input())\n",
        "z=p*r*t\n",
        "print(z)"
      ],
      "metadata": {
        "colab": {
          "base_uri": "https://localhost:8080/"
        },
        "id": "-wXI0Gg6Cg9E",
        "outputId": "a46f19f7-26ec-49b8-c9e0-bcd37c3cd7e1"
      },
      "execution_count": null,
      "outputs": [
        {
          "output_type": "stream",
          "name": "stdout",
          "text": [
            "5000\n",
            "2\n",
            "3\n",
            "30000\n"
          ]
        }
      ]
    },
    {
      "cell_type": "code",
      "source": [
        "#Swaping of 2 nos in python.\n",
        "a=int(input())                          # During swapping of 2 numbers temp as reference in numbers is used even different words can be used in these cases.\n",
        "b=int(input())\n",
        "sam=a\n",
        "a=b\n",
        "b=sam\n",
        "print(a)\n",
        "print(b)\n"
      ],
      "metadata": {
        "colab": {
          "base_uri": "https://localhost:8080/"
        },
        "id": "PrtBwKmfGQ6s",
        "outputId": "284f126b-dd9d-45ce-9565-b81ef75f5c8b"
      },
      "execution_count": null,
      "outputs": [
        {
          "output_type": "stream",
          "name": "stdout",
          "text": [
            "23\n",
            "32\n",
            "32\n",
            "23\n"
          ]
        }
      ]
    },
    {
      "cell_type": "code",
      "source": [
        "# Program to find who is tallest among the 3 friends Shreshth, Spandan and Somudra.\n",
        "a=int(input(\"The height of Spandan\\n\" ))\n",
        "b=int(input(\"The height of Shreshth\\n\"))\n",
        "c=int(input(\"The height of Somudra\\n\"))\n",
        "if a>0 and b>0 and c>0:\n",
        "  if a>b and a>c:\n",
        "    print(\"Spandan is tallest among all.\")\n",
        "  elif b>c and b>a:\n",
        "    print(\"Shreshth is tallest among all\")\n",
        "  else:\n",
        "    print(\"Somudra is the tallest among all.\")\n",
        "else:\n",
        "  print(\"Invalid Input\")"
      ],
      "metadata": {
        "colab": {
          "base_uri": "https://localhost:8080/"
        },
        "id": "nspCqWN3HuvT",
        "outputId": "8e169717-17a7-495e-b629-f4190ecf9680"
      },
      "execution_count": null,
      "outputs": [
        {
          "output_type": "stream",
          "name": "stdout",
          "text": [
            "The height of Spandan\n",
            "6\n",
            "The height of Shreshth\n",
            "5\n",
            "The height of Somudra\n",
            "7\n",
            "Somudra is the tallest among all.\n"
          ]
        }
      ]
    },
    {
      "cell_type": "code",
      "source": [
        "# Twinkle Twinkle Little Stars Dekho Mere Aviskar\n",
        "number=int(input(\"The value you want to enter to see in stars\\n\"))\n",
        "for i in range(number):\n",
        "  print(\"*\"*(i+1))\n",
        "if number>=10:\n",
        "  print(\"Wow so many stars\")\n",
        "else:\n",
        "  print(\"Stars are looking good\")"
      ],
      "metadata": {
        "colab": {
          "base_uri": "https://localhost:8080/"
        },
        "id": "7yHFB-44LyVL",
        "outputId": "baa4c210-18b6-46f3-84b4-ddf32b42570b"
      },
      "execution_count": null,
      "outputs": [
        {
          "output_type": "stream",
          "name": "stdout",
          "text": [
            "The value you want to enter to see in stars\n",
            "3\n",
            "*\n",
            "**\n",
            "***\n",
            "Stars are looking good\n"
          ]
        }
      ]
    },
    {
      "cell_type": "code",
      "source": [
        "# A test has been assigned in order to make analysis of student marks who are eligieble for the marks criteria then the student is allowed to sit in the exam. \n",
        "# Therefore python program for this scenerio and calculating the result.\n",
        "a=int(input(\"Percentage scored in Physics\\n\"))\n",
        "b=int(input(\"Percentage scored in Chemistry\\n\"))\n",
        "c=int(input(\"Total number of assignments submitted out of 3\\n\"))\n",
        "if a>0 and a<=100 and b>0 and b<=100 and c>0 and c<=3:\n",
        "  if a>=75 and b>=75 and c==3:\n",
        "    print(\"The student is eligible for final exams.\")\n",
        "  else:\n",
        "    print(\"Student is not eligible for final exams.\")\n",
        "else:\n",
        "  print(\"Invalid Input\")\n",
        "\n"
      ],
      "metadata": {
        "colab": {
          "base_uri": "https://localhost:8080/"
        },
        "id": "ouBEHbxkenlf",
        "outputId": "164a0f6b-32b7-44e8-dbb5-d29cd6854103"
      },
      "execution_count": null,
      "outputs": [
        {
          "output_type": "stream",
          "name": "stdout",
          "text": [
            "Percentage scored in Physics\n",
            "75\n",
            "Percentage scored in Chemistry\n",
            "75\n",
            "Total number of assignments submitted out of 3\n",
            "3\n",
            "The student is eligible for final exams.\n"
          ]
        }
      ]
    },
    {
      "cell_type": "code",
      "source": [
        "# The project is to make a absolute calculator which can perform addition,multiplication,subtraction,division,modulo and exponent.\n",
        "a=int(input(\"The value of a \\n\"))\n",
        "b=int(input(\"The value of b \\n\"))\n",
        "print(\"Addition is \",a+b)\n",
        "print(\"Subtraction is \",a-b)\n",
        "print(\"Multiplication is \",a*b)\n",
        "print(\"Division is \",a/b)\n",
        "print(\"Floor Division is\",a//b)\n",
        "print(\"Remainder is \",a%b)\n",
        "print(\"Exponent is\",a**b)"
      ],
      "metadata": {
        "colab": {
          "base_uri": "https://localhost:8080/"
        },
        "id": "kB0MOTdZiHee",
        "outputId": "45e78cd7-2d44-4f6d-dd3e-7f6ae250eb8c"
      },
      "execution_count": null,
      "outputs": [
        {
          "output_type": "stream",
          "name": "stdout",
          "text": [
            "The value of a \n",
            "100\n",
            "The value of b \n",
            "100\n",
            "Addition is  200\n",
            "Subtraction is  0\n",
            "Multiplication is  10000\n",
            "Division is  1.0\n",
            "Floor Division is 1\n",
            "Remainder is  0\n",
            "Exponent is 100000000000000000000000000000000000000000000000000000000000000000000000000000000000000000000000000000000000000000000000000000000000000000000000000000000000000000000000000000000000000000000000000000000\n"
          ]
        }
      ]
    },
    {
      "cell_type": "code",
      "source": [
        "##### JWELLERY SHOP QUESTION\n",
        "#Spandan has a jwellery shop.He installed software for purchasing and selling their products. It applies 10%,14% and 15% wastages from total weight in grams.\n",
        "# Jewel for the products Ring, Chain and Bangle respectively. Also applies 3% of GST for the total amount of purchase. If the type of product is other than ring, chain and bangle then display Invalid Input.\n",
        "# Python program to this scenerio. t=type of jewel, w=weight of jewel and p=price of 1 gram.\n",
        "\n",
        "type1=input(\"Enter the jewel type out of 'Ring','Chain' and 'Bangle'\\n\")\n",
        "if (type1==\"Ring\") or (type1==\"Chain\") or (type1==\"Bangle\"):\n",
        "  w=int(input(\"Weight of gold in 1gm\\n\"))\n",
        "  p=int(input(\"Price of jewel present in 1gram\\n\"))\n",
        "  if (type1==\"Ring\"):\n",
        "    waste=w*10/100\n",
        "  elif (type1==\"Chain\"):\n",
        "    waste=w*14/100\n",
        "  elif (type1==\"Bangle\"):\n",
        "    waste=w*15/100\n",
        "  total=p*w+waste\n",
        "  print(total)\n",
        "  net=total+(total*3/100)\n",
        "  print(\"Net amount is Rs.\\n\", int(net))\n",
        "  print(f\"Net amount is Rs {net}\")\n",
        "else:\n",
        "  print(\"Invalid Type\")\n",
        "\n",
        "  \n"
      ],
      "metadata": {
        "colab": {
          "base_uri": "https://localhost:8080/"
        },
        "id": "pRpvr0LTmPx8",
        "outputId": "5acce020-c76c-4d0c-f6de-9f4daf1dbc49"
      },
      "execution_count": null,
      "outputs": [
        {
          "output_type": "stream",
          "name": "stdout",
          "text": [
            "Enter the jewel type out of 'Ring','Chain' and 'Bangle'\n",
            "Ring\n",
            "Weight of jewel\n",
            "300\n",
            "Price of jewel present in 1gram\n",
            "45\n",
            "13530.0\n",
            "Net amount is Rs.\n",
            " 13935\n",
            "Net amount is Rs 13935.9\n"
          ]
        }
      ]
    },
    {
      "cell_type": "code",
      "source": [
        "# Spandan wants to display numbers that are between 1 and N. The value of N must be greater than zero, otherwise display \"Invalid Input\".\n",
        "# Writing a program using while loop\n",
        "a=int(input(\"Get a number or think a number\\n\"))\n",
        "i=1\n",
        "if a>0:\n",
        "  while i<=a:\n",
        "    # if a%2==0:\n",
        "      print(i,end=\" \")   # Horizontal Display\n",
        "      # print(i)      # Vertical display\n",
        "      i=i+1\n",
        "else:\n",
        "  print(\"Invalid Input\")\n",
        "      \n"
      ],
      "metadata": {
        "colab": {
          "base_uri": "https://localhost:8080/"
        },
        "id": "mWClSThTvqWS",
        "outputId": "9e09f522-9bd7-4a42-a50b-0d44370e9c3f"
      },
      "execution_count": null,
      "outputs": [
        {
          "output_type": "stream",
          "name": "stdout",
          "text": [
            "Get a number or think a number\n",
            "4\n",
            "1 2 3 4 "
          ]
        }
      ]
    },
    {
      "cell_type": "code",
      "source": [
        "# To find the program to display numbers that are between 1 and N .\n",
        "# Method 1  \n",
        "N = int(input(\"Enter a number range\\n\"))\n",
        "if N>0:\n",
        "  for i in range(1, N+1):\n",
        "    print(i)\n",
        "else:\n",
        "  print(\"Invalid Input\")\n",
        "  \n",
        "# Method 2\n",
        "N = int(input(\"Enter a number range\\n\"))\n",
        "i=0\n",
        "if N>0:\n",
        "  while i<N:\n",
        "    i = i+1\n",
        "    print(i)\n",
        "else:\n",
        "  print(\"Invalid Input\")\n",
        "\n",
        "\n",
        "\n",
        "\n"
      ],
      "metadata": {
        "colab": {
          "base_uri": "https://localhost:8080/"
        },
        "id": "fplKWQHM6QSq",
        "outputId": "f2fad19c-0949-4578-d2b0-3e2601a53034"
      },
      "execution_count": null,
      "outputs": [
        {
          "output_type": "stream",
          "name": "stdout",
          "text": [
            "Enter a number range\n",
            "3\n",
            "1\n",
            "2\n",
            "3\n",
            "Enter a number range\n",
            "3\n",
            "1\n",
            "2\n",
            "3\n"
          ]
        }
      ]
    },
    {
      "cell_type": "code",
      "source": [
        "# HAPPY BIRTHDAY CODE   [SELF INTEREST BUDDY]\n",
        "# import time\n",
        "# from random import randint\n",
        "\n",
        "\n",
        "# for i in range(1,85):\n",
        "#     print('')\n",
        "\n",
        "# space = ''\n",
        "\n",
        "\n",
        "# for i in range(1,1000):\n",
        "#     count = randint(1, 100)\n",
        "#     while(count > 0):\n",
        "#         space += ' '\n",
        "#         count -= 1\n",
        "\n",
        "#     if(i%10==0):\n",
        "#         print(space + '🎂Happy Birthday!')\n",
        "#     elif(i%9 == 0):\n",
        "#         print(space + \"🎂\")\n",
        "#     elif(i%5==0):\n",
        "#         print(space +\"💛\")\n",
        "#     elif(i%8==0):\n",
        "#         print(space + \"🎉\")\n",
        "#     elif(i%7==0):\n",
        "#         print(space + \"🍫\")\n",
        "#     elif(i%6==0):\n",
        "#         print(space + \"Happy Birthday!💖\")\n",
        "#     else:\n",
        "#         print(space + \"🔸\")\n",
        "\n",
        "#     space = ''\n",
        "#     time.sleep(0.02)"
      ],
      "metadata": {
        "id": "gwFsCn2I1C_Y"
      },
      "execution_count": null,
      "outputs": []
    },
    {
      "cell_type": "code",
      "source": [
        "# Python program to reverse the order of number of digits.\n",
        "\n",
        "# Method 1\n",
        "print(\"It's method 1\")\n",
        "num =int(input(\"Enter a number\\n \"))\n",
        "reversed_num = 0\n",
        "\n",
        "while num != 0:\n",
        "    digit = num % 10\n",
        "    reversed_num = reversed_num * 10 + digit\n",
        "    num //= 10\n",
        "\n",
        "print(\"Reversed Number: \" + str(reversed_num))\n",
        "\n",
        "# Method 2   [A better a modified version as compared to method 1]\n",
        "print(\"This is a method 2\")\n",
        "z=int(input())\n",
        "revn=0\n",
        "if(z>0):\n",
        "  if(z>9):\n",
        "    while(z!=0):\n",
        "      digit=z%10                       #In this step it is used to get the remainder.\n",
        "      revn=revn*10+digit\n",
        "      z=z//10\n",
        "    print(revn)\n",
        "  else:\n",
        "    print(\"Do not enter single digit\")\n",
        "else:\n",
        "  print(\"Invalid Input\")\n",
        "\n",
        "\n",
        "\n"
      ],
      "metadata": {
        "colab": {
          "base_uri": "https://localhost:8080/"
        },
        "id": "MQ29eZYYIqeT",
        "outputId": "2d55dfc4-6f90-4568-bab2-0c957425ee8e"
      },
      "execution_count": null,
      "outputs": [
        {
          "output_type": "stream",
          "name": "stdout",
          "text": [
            "It's method 1\n",
            "Enter a number\n",
            " 10\n",
            "Reversed Number: 1\n",
            "This is a method 2\n",
            "10\n",
            "1\n"
          ]
        }
      ]
    },
    {
      "cell_type": "code",
      "source": [
        "# Spandan reads a number X and wants to check whether the sum of the individual cube is equal to X.\n",
        "# X should not be single digit number otherwise display \"Do not enter single digit \".\n",
        "# Such that 153=1^3+5^3+3^3\n",
        "# The value of X must be greater than zero, otherwise display \"Invalid Input\". Python program to this.\n",
        "\n",
        "\n",
        "x=int(input())\n",
        "sum=0\n",
        "if x>0:\n",
        "  if x>=10:\n",
        "    while x>0:\n",
        "      y=x%10\n",
        "      z=y**3\n",
        "      sum=sum+z\n",
        "      x=x//10\n",
        "    if sum==x:\n",
        "      print(\"Equal\")\n",
        "    else:\n",
        "      print(sum)\n",
        "  else:\n",
        "    print(\"Do not enter single digit\")\n",
        "else:\n",
        "  print(\"Invalid Input\")\n"
      ],
      "metadata": {
        "id": "7z_R4JVqNbYj",
        "colab": {
          "base_uri": "https://localhost:8080/"
        },
        "outputId": "14d6366b-5462-4bf9-b61a-d8a3785f460c"
      },
      "execution_count": null,
      "outputs": [
        {
          "output_type": "stream",
          "name": "stdout",
          "text": [
            "123\n",
            "36\n"
          ]
        }
      ]
    },
    {
      "cell_type": "code",
      "source": [
        "# Spandan wants to find the largest number from the N numbers in the sequence. Design a program.\n",
        "# x=int(input(\"Enter the vaue of x\\n\"))\n",
        "# a=int(input(\"Enter the value of a\\n\"))\n",
        "# if x>a:\n",
        "#   print(\"x is the largest number\")\n",
        "# else:\n",
        "#   print(\"a is the largest number\")\n",
        "\n",
        "# New code working (For loop is being used and g=0 because in python it will be considered 1 default)\n",
        "N=int(input(\"Enter the total numbers present in the sequence\\n\"))\n",
        "print(\"Total numbers in sequence\\n\", N)\n",
        "if N>0:\n",
        "  g=0\n",
        "  for i in range(1,(N+1)):\n",
        "    k=int(input(\"Patiently enter the numbers of the sequence one by one\\n\"))\n",
        "    if (k>g):\n",
        "      g=k\n",
        "  print(\"Largest number is \",g)\n",
        "else:\n",
        "  print(\"Invalid Input\")"
      ],
      "metadata": {
        "colab": {
          "base_uri": "https://localhost:8080/"
        },
        "id": "XMYKEg9eQwqd",
        "outputId": "4333f31d-0f11-4b63-a6e9-09e97bbec435"
      },
      "execution_count": null,
      "outputs": [
        {
          "output_type": "stream",
          "name": "stdout",
          "text": [
            "Enter the total numbers present in the sequence\n",
            "3\n",
            "Total numbers in sequnence\n",
            " 3\n",
            "Patiently enter the numbers of the sequence one by one\n",
            "2\n",
            "Patiently enter the numbers of the sequence one by one\n",
            "3\n",
            "Patiently enter the numbers of the sequence one by one\n",
            "4\n",
            "Largest number is  4\n"
          ]
        }
      ]
    },
    {
      "cell_type": "code",
      "source": [
        "# Spandan has N numbers for which some nos are +ve and -ve from the sequence. Design a python program.\n",
        "#method 1\n",
        "# N=int(input())\n",
        "# if N>0:\n",
        "#   p=0\n",
        "#   n=0\n",
        "#   for i in range(1,(N+1)):\n",
        "#     k=int(input())\n",
        "#     if (k>0):\n",
        "#       p+=1\n",
        "#     else:\n",
        "#       n+=1\n",
        "#       print(\"Positive numbers  \",p)\n",
        "#       print(\"Negative numbers  \",n)\n",
        "# else:\n",
        "#   print(\"Invalid Input\")\n",
        "\n",
        "\n",
        "\n",
        "\n",
        "# Made and Developed by me hope it's better.\n",
        "#Method 2\n",
        "N=int(input())\n",
        "if N>0:\n",
        "  p=0\n",
        "  n=0\n",
        "  for i in range(1,(N+1)):\n",
        "    k=int(input())\n",
        "    if k>0:\n",
        "      p+=1\n",
        "      print(f\"Positive number is {k}\")\n",
        "    else:\n",
        "      n+=1\n",
        "      print(\"Negative number is \",n)  # New method of representation of strings with numbers.\n",
        "    print(\"Total no.of positive nos\",p)\n",
        "    print(\"Total no.of negative nos\",n)\n",
        "else:\n",
        "  print(\"Invalid Input\")\n",
        "\n"
      ],
      "metadata": {
        "colab": {
          "base_uri": "https://localhost:8080/"
        },
        "id": "qNOEBdnOWA6e",
        "outputId": "2a1ddb07-9b4b-4550-ae72-2b47122a0915"
      },
      "execution_count": null,
      "outputs": [
        {
          "output_type": "stream",
          "name": "stdout",
          "text": [
            "3\n",
            "1\n",
            "Positive number is 1\n",
            "Total no.of positive nos 1\n",
            "Total no.of negative nos 0\n",
            "2\n",
            "Positive number is 2\n",
            "Total no.of positive nos 2\n",
            "Total no.of negative nos 0\n",
            "3\n",
            "Positive number is 3\n",
            "Total no.of positive nos 3\n",
            "Total no.of negative nos 0\n"
          ]
        }
      ]
    },
    {
      "cell_type": "code",
      "source": [
        "# Spandan has N numbers and need to find the second smallest among the N nmbers. The python to this context.\n",
        "N=int(input(\"Enter the number in the set\\n\"))\n",
        "s=ss=100000\n",
        "if N>0:\n",
        "  for i in range(1,N+1):\n",
        "    k=int(input(\"Enter each number\\n\"))\n",
        "    if k<s:\n",
        "      s,ss=k,s\n",
        "    elif k<ss:\n",
        "      ss,s=k,s\n",
        "  print(\"Second Smallest Number is \",ss)\n",
        "else:\n",
        "  print(\"Invalid Input\")\n"
      ],
      "metadata": {
        "id": "lb_vob9wfCj7",
        "colab": {
          "base_uri": "https://localhost:8080/"
        },
        "outputId": "aca87e9f-a84d-4457-b873-8ad035ef89fb"
      },
      "execution_count": null,
      "outputs": [
        {
          "output_type": "stream",
          "name": "stdout",
          "text": [
            "Enter the number in the set\n",
            "4\n",
            "Enter each number\n",
            "1\n",
            "Enter each number\n",
            "2\n",
            "Enter each number\n",
            "3\n",
            "Enter each number\n",
            "4\n",
            "Second Smallest Number is  2\n"
          ]
        }
      ]
    },
    {
      "cell_type": "code",
      "source": [
        "# Spandan has N numbers and need to find the largest and smallest among the N nmbers. The python to this context.\n",
        "# It's possible only in list operators.\n",
        "\n",
        "e=[]\n",
        "n=int(input())\n",
        "for i in range(n):\n",
        "  a=int(input())\n",
        "  e.append(a)\n",
        "  s=max(e)\n",
        "  p=min(e)\n",
        "print(f\"The max no is {s}\")\n",
        "print(f\"The min no is {p}\")"
      ],
      "metadata": {
        "id": "jUR8dMkxFVq4",
        "colab": {
          "base_uri": "https://localhost:8080/"
        },
        "outputId": "7dc7711f-cd05-43b3-f573-a84e98d05601"
      },
      "execution_count": null,
      "outputs": [
        {
          "output_type": "stream",
          "name": "stdout",
          "text": [
            "3\n",
            "1\n",
            "2\n",
            "3\n",
            "The max no is 3\n",
            "The min no is 1\n"
          ]
        }
      ]
    },
    {
      "cell_type": "code",
      "source": [
        "# Spandan has a typing robot. The robot types X letters in the typewriting machine on first day.\n",
        "# Next day onwards the speed of typing robot is exponentially increased as X^2,X^3....X^n.\n",
        "# Write a python program to display the sum of letters typed between first and Z day. The value of X and Z must be grater than zero, otherwise display invalid input.\n",
        "\n",
        "x=int(input(\"Enter the no.of letters typed by robot on first day\\n \"))\n",
        "z=int(input(\"The no.of days the robot typed\\n \"))\n",
        "if x>0 and z>0:\n",
        "  sum=x*(x**(z)-1)/(x-1)     # for exponentials in python type \"**\".\n",
        "  print(sum)\n",
        "  print(f\"The total no.of letters typed by robot in {z} days is {sum}\")   # A bit modified line and yes it's working.\n",
        "else:\n",
        "  print(\"Invalid Input\")\n",
        "\n"
      ],
      "metadata": {
        "id": "IL5qmAKSKYY5",
        "colab": {
          "base_uri": "https://localhost:8080/"
        },
        "outputId": "80c5f852-2778-4f98-bf6a-a6d19a4bac27"
      },
      "execution_count": null,
      "outputs": [
        {
          "output_type": "stream",
          "name": "stdout",
          "text": [
            "Enter the no.of letters typed by robot on first day\n",
            " 10\n",
            "The no.of days the robot typed\n",
            " 5\n",
            "111110.0\n",
            "The total no.of letters typed by robot in 5 days is 111110.0\n"
          ]
        }
      ]
    },
    {
      "cell_type": "code",
      "source": [
        "# Spandan has interest n buying cars from Honda Showroom. This showroom prefers to buy Honda city or accord.\n",
        "# If the car type is Honda City then the depreciation is 10%,20%,30% based on the years 2021,2020 and 2019 respectively.\n",
        "# If the car type is Honda Accord then the depreciation is 15%,25%,35% based on the years 2021,2020 and 2019 respectively.\n",
        "# If the car type is other than City or Accord then display \"Invalid Input\".\n",
        "# Python program to this context.\n",
        "\n",
        "p=1300000\n",
        "q=2000000\n",
        "t=(input(\"Which Honda Car are you interested 'Honda City' or 'Honda Accord'\\n\"))\n",
        "if t==\"Honda City\" or t==\"Honda Accord\":\n",
        "  if (t==\"Honda City\"):\n",
        "    y=int(input(\"Which year edition model?\\n\"))\n",
        "    if y==2021:\n",
        "      s=p-(p)*(10/100)\n",
        "      print(s)\n",
        "    elif y==2020:\n",
        "      s=p-(p)*(20/100)\n",
        "      print(s)\n",
        "    elif y==2019:\n",
        "      s=p-(p)*(30/100)\n",
        "      print(f\"The final selling price will be {s}\")\n",
        "    else:\n",
        "      print(\"No data avaliable\")\n",
        "  elif(t==\"Honda Accord\"):\n",
        "    y=int(input(\"Which year edition model?\\n\"))\n",
        "    if y==2021:\n",
        "      s=q-(q)*(15/100)\n",
        "      print(s)\n",
        "    elif y==2020:\n",
        "      s=q-(q)*(25/100)\n",
        "      print(s)\n",
        "    elif y==2019:\n",
        "      s=q-(q)*(35/100)\n",
        "      print(f\"The final selling price will be {s}\")\n",
        "    else:\n",
        "       print(\"No data avaliable\")    \n",
        "else:\n",
        "  print(\"Invalid Input\")\n",
        "  \n",
        "\n",
        "\n",
        "\n",
        "\n",
        "\n",
        "\n"
      ],
      "metadata": {
        "colab": {
          "base_uri": "https://localhost:8080/"
        },
        "id": "z4Oikutm0wej",
        "outputId": "7cd6bc44-908a-41c9-851d-cefc52a81565"
      },
      "execution_count": null,
      "outputs": [
        {
          "output_type": "stream",
          "name": "stdout",
          "text": [
            "Which Honda Car are you interested 'Honda City' or 'Honda Accord'\n",
            "Honda Accord\n",
            "Which year edition model?\n",
            "2020\n",
            "1500000.0\n"
          ]
        }
      ]
    },
    {
      "cell_type": "code",
      "source": [
        "# Spandan has a bank named ABC bank. ABC bank maintains the details of customer in the file storage. The bank manager likes to analyse customer's details which are assets and liabilities.\n",
        "# Reading of N customers from the user such as name,account number, balance, fixed deposit, recurring deposit, housing loan, jewel loan, vehicle loan.\n",
        "# Compute asset and liabilities use function for assets and liabilities calculations and save it in file named Bank.txt as given in file storage format.\n",
        "# Assets = balance+fixed deposit+recurring deposit\n",
        "#Liabilities= housing loan+ jewel loan + vehicle loan\n",
        "# 1) Retrieve the details from the file, create appropriate list and compute the following\n",
        "# (i) Display the customer's name ending with 'jay'\n",
        "# (ii) Display customer details whose assets are greater than 2500000\n",
        "# (iii) Display the name of the customers who have zero liabilities.\n",
        "# (iv) Display the sum of assets \n",
        "#(v) Display the minimum liability excluding zero\n",
        "# ######################################################### Design a python program in this context.\n",
        "\n",
        "# f=open(\"bank.txt\",\"w\")\n",
        "# N=int(input(\"Enter the number of customers \\n\"))\n",
        "# for i in range(N):\n",
        "#   Name=input(\"Enter the customer's name\\n\")\n",
        "#   Account_number=int(input(\"Enter the account number\\n\"))\n",
        "#   Balance=int(input(\"Enter the Balance\\n\"))\n",
        "#   Fixed_deposit=int(input(\"Enter the Fixed deposit\\n\"))\n",
        "#   Recurring_deposit=int(input(\"Enter the Recurring deposit\\n\")) \n",
        "#   Housing_loan=int(input(\"Enter the Housing loan\\n\")) \n",
        "#   Jewel_loan=int(input(\"Enter the Jewel loan\\n\")) \n",
        "#   Vehicle_loan=int(input(\"Enter the Vehicle loan\\n\"))\n",
        "#   assets= Balance + Fixed_deposit + Recurring_deposit\n",
        "#   liabilities= Housing_loan + Jewel_loan + Vehicle_loan\n",
        "#   f.write(name+\" \"+str(acctno)+\" \"+str(balance)+\" \"+str(fd)+\" \"+str(rd)+\" \"+str(hloan)+\" \"+str(jloan)+\" \"+str(vloan)+\" \"+str(assets)+\" \"+str(liabilities)+\"\\n\")\n",
        "# if (assets>2500000):\n",
        "#   print(Name)\n",
        "# elif (liabilities==0):\n",
        "#   print(Name)\n",
        "# else:\n",
        "#   print(\"Thank u\")\n",
        "# l=[]\n",
        "# y=[]\n",
        "# f=open(\"bank.txt\",\"r\")    \n",
        "# for i in range(n):\n",
        "#     t=f.readline()\n",
        "#     t=t.split(\" \")\n",
        "#     l.append(t)\n",
        "\n",
        "# print(l)\n",
        "# for element in l:\n",
        "#     z=str(element[0])\n",
        "#     if re.search('jay$',z):\n",
        "#         print(z)\n",
        "\n",
        "# for element in l:\n",
        "#     aset=int(element[8])\n",
        "#     totalasset+=aset\n",
        "# print(totalasset)\n",
        "\n",
        "# for element in l:\n",
        "#     if int(element[9])!=0:\n",
        "#         y.append(int(element[9]))\n",
        "    \n",
        "# print(min(y))\n",
        "\n",
        "\n",
        "\n",
        "  \n",
        "\n",
        "\n",
        "\n",
        "\n",
        "# import re\n",
        "# totalasset=0\n",
        "# def computeAsset():\n",
        "#     assests=balance+fd+rd\n",
        "#     return assests\n",
        "\n",
        "# def computeLiabilities():\n",
        "#     liabilities=hloan+jloan+vloan\n",
        "#     return liabilities\n",
        "# f=open(\"bank.txt\",\"w\")\n",
        "\n",
        "# n=int(input())\n",
        "# for i in range(n):\n",
        "#     name=str(input(\"Enter the customer's name\\n\"))\n",
        "#     acctno=int(input(\"Enter the account number\\n\"))\n",
        "#     balance=int(input(\"Enter the Balance\\n\"))\n",
        "#     fd=int(input(\"Enter the Fixed deposit\\n\"))\n",
        "#     rd=int(input(\"Enter the Recurring deposit\\n\"))\n",
        "#     hloan=int(input(\"Enter the Housing loan\\n\"))\n",
        "#     jloan=int(input(\"Enter the Jewel loan\\n\"))\n",
        "#     vloan=int(input(\"Enter the Vehicle loan\\n\"0))\n",
        "#     liabilities=computeLiabilities()     \n",
        "#     assets=computeAsset()\n",
        "#     f.write(name+\" \"+str(acctno)+\" \"+str(balance)+\" \"+str(fd)+\" \"+str(rd)+\" \"+str(hloan)+\" \"+str(jloan)+\" \"+str(vloan)+\" \"+str(assets)+\" \"+str(liabilities)+\"\\n\")\n",
        "# l=[]\n",
        "# y=[]\n",
        "# f=open(\"bank.txt\",\"r\")    \n",
        "# for i in range(n):\n",
        "#     t=f.readline()\n",
        "#     t=t.split(\" \")\n",
        "#     l.append(t)\n",
        "\n",
        "# print(l)\n",
        "# for element in l:\n",
        "#     z=str(element[0])\n",
        "#     if re.search('jay$',z):\n",
        "#         print(z)\n",
        "\n",
        "# for element in l:\n",
        "#     z=int(element[8])\n",
        "#     if z>2500000:\n",
        "#         print(element[0])\n",
        "# for element in l:\n",
        "#     z=element[9].rstrip(\"\\n\")\n",
        "#     z=int(z)\n",
        "#     if z==0:\n",
        "#         print(element[0])\n",
        "\n",
        "# for element in l:\n",
        "#     aset=int(element[8])\n",
        "#     totalasset+=aset\n",
        "# print(totalasset)\n",
        "\n",
        "# for element in l:\n",
        "#     if int(element[9])!=0:\n",
        "#         y.append(int(element[9]))\n",
        "    \n",
        "# print(min(y))\n",
        "\n",
        "########################################### TRY ONCE GOOD QUESTION ######################################"
      ],
      "metadata": {
        "id": "k9JLvqQmslAz"
      },
      "execution_count": null,
      "outputs": []
    },
    {
      "cell_type": "code",
      "source": [
        "# America's flag   using for loop\n",
        "# for i in range(7):\n",
        "#   print(\"*************---------\")\n",
        "# for i in range(4):\n",
        "#   print(\"----------------------\")\n",
        "\n",
        "\n",
        "\n",
        "\n",
        "\n",
        "\n",
        "# # America's flag using while loop\n",
        "\n",
        "counter=0\n",
        "while counter<=5:\n",
        "  print(\"*************----------------\")\n",
        "  counter+=1 \n",
        "\n",
        "second_counter=0\n",
        "\n",
        "while second_counter<=4:\n",
        "  print(\"-----------------------------\")\n",
        "  second_counter += 1\n",
        "  "
      ],
      "metadata": {
        "id": "oMNqlU3FzvVR",
        "colab": {
          "base_uri": "https://localhost:8080/"
        },
        "outputId": "14b879ab-9f53-4dc5-be33-562028a0bb06"
      },
      "execution_count": null,
      "outputs": [
        {
          "output_type": "stream",
          "name": "stdout",
          "text": [
            "*************----------------\n",
            "*************----------------\n",
            "*************----------------\n",
            "*************----------------\n",
            "*************----------------\n",
            "*************----------------\n",
            "-----------------------------\n",
            "-----------------------------\n",
            "-----------------------------\n",
            "-----------------------------\n",
            "-----------------------------\n"
          ]
        }
      ]
    },
    {
      "cell_type": "code",
      "source": [
        "# Shipping cost calculator.\n",
        "\n",
        "total = int(input(\"Enter the number of goods for shipment\\n\"))\n",
        "shipping_cost = 0\n",
        "\n",
        "if international_shipping:\n",
        "  shipping_cost += 15\n",
        "  print(f\"International base cost applied is {shipping_cost}\")\n",
        "\n",
        "if total <= 50:\n",
        "  shipping_cost += 20\n",
        "  print(f\"International base cost applied is {shipping_cost}\")\n",
        "elif total <= 100:\n",
        "  shipping_cost += 15*50\n",
        "  print(f\"International base cost applied is {shipping_cost}\")\n",
        "\n",
        "else:\n",
        "  shipping_cost += 5\n",
        "\n",
        "\n",
        "print(f\"Shipping cost: {shipping_cost}\")"
      ],
      "metadata": {
        "colab": {
          "base_uri": "https://localhost:8080/"
        },
        "id": "cSeb_-_BDrkM",
        "outputId": "cd7a36d3-bcf5-4175-a90f-f7a6f68dbf88"
      },
      "execution_count": null,
      "outputs": [
        {
          "output_type": "stream",
          "name": "stdout",
          "text": [
            "Enter the number of goods for shipment\n",
            "100\n",
            "International base cost applied is 15\n",
            "International base cost applied is 765\n",
            "Shipping cost: 765\n"
          ]
        }
      ]
    },
    {
      "cell_type": "code",
      "source": [
        "# Compound interst calculator using while loop\n",
        "account=int(input(\"Enter the amount\\n\"))\n",
        "interest_rate=int(input(\"Enter the Interest Rate\\n\"))/100\n",
        "years=int(input(\"Enter the time in years\\n\"))\n",
        "\n",
        "print(f\"Initial amount in bank: {account}\")\n",
        "\n",
        "counter=1  # Mean for the year time in order to start the while loop from year 1.\n",
        "while counter <= years:\n",
        "  accrued_interest = account * interest_rate\n",
        "  account += accrued_interest\n",
        "  print(f\"year {counter}: {account}\")\n",
        "  counter += 1"
      ],
      "metadata": {
        "colab": {
          "base_uri": "https://localhost:8080/"
        },
        "id": "SPcoOOslIcDv",
        "outputId": "2d6852ad-c8a1-437b-8b89-ba2640500a0f"
      },
      "execution_count": null,
      "outputs": [
        {
          "output_type": "stream",
          "name": "stdout",
          "text": [
            "Enter the amount\n",
            "20000000\n",
            "Enter the Interest Rate\n",
            "3\n",
            "Enter the time in years\n",
            "3\n",
            "Initial amount in bank: 20000000\n",
            "year 1: 20600000.0\n",
            "year 2: 21218000.0\n",
            "year 3: 21854540.0\n"
          ]
        }
      ]
    },
    {
      "cell_type": "code",
      "source": [
        "# Compound interest calculator using for loop\n",
        "p=int(input(\"Enter the principal amount\\n\"))\n",
        "r=int(input(\"Enter the rate\\n \"))/100\n",
        "t=int(input(\"Enter the time\\n\"))\n",
        "\n",
        "print(f\"initial amount = {p}\")\n",
        "\n",
        "counter=1\n",
        "for i in range(t):\n",
        "  accrued_rate=p*r\n",
        "  p+=accrued_rate\n",
        "  print(f\"year{counter}:{p}\")\n",
        "  counter+=1\n",
        "  "
      ],
      "metadata": {
        "colab": {
          "base_uri": "https://localhost:8080/"
        },
        "id": "Av_kGq2-DTjn",
        "outputId": "d6827ea7-5a56-4b5a-c33f-2e8c25945d1e"
      },
      "execution_count": null,
      "outputs": [
        {
          "output_type": "stream",
          "name": "stdout",
          "text": [
            "Enter the principal amount\n",
            "1000\n",
            "Enter the rate\n",
            " 2\n",
            "Enter the time\n",
            "3\n",
            "initial amount = 1000\n",
            "year1:1020.0\n",
            "year2:1040.4\n",
            "year3:1061.208\n"
          ]
        }
      ]
    },
    {
      "cell_type": "code",
      "source": [
        "# Coupon generator\n",
        "site=\"www.netflix.com\"\n",
        "coupon=\"signup/coupon\"\n",
        "amount=int(input(\"Enter the amount of subscription you want. Some of these are 10$, 100$ and 1000$\\n\"))\n",
        "if (amount==10) or (amount==100) or (amount==1000):\n",
        "  if (amount==10):\n",
        "    discounted_price=amount-(amount)*(2/100)\n",
        "    print(f\"The discounted price will be {discounted_price}\\n\")\n",
        "  elif (amount==100):\n",
        "    discounted_price=amount-(amount)*(10/100)\n",
        "    print(f\"The discounted price will be {discounted_price}\\n\")\n",
        "  elif (amount==1000):\n",
        "    discounted_price=amount-(amount)*(50/100)\n",
        "    print(f\"The discounted price will be {discounted_price}\\n\")\n",
        "else:\n",
        "  print(\"Invalid Input\")\n",
        "for i in range(1):\n",
        "  print(f\"{site}/{amount}/{coupon} making your subsciption soon just chill buddy\")\n",
        "\n",
        "\n",
        "\n"
      ],
      "metadata": {
        "colab": {
          "base_uri": "https://localhost:8080/"
        },
        "id": "Jed0SjF3NHR_",
        "outputId": "7d1d3a1e-a60d-49e7-ca47-902369e94898"
      },
      "execution_count": null,
      "outputs": [
        {
          "output_type": "stream",
          "name": "stdout",
          "text": [
            "Enter the amount of subscription you want. Some of these are 10$, 100$ and 1000$\n",
            "100\n",
            "The discounted price will be 90.0\n",
            "\n",
            "www.netflix.com/100/signup/coupon making your subsciption soon just chill buddy\n"
          ]
        }
      ]
    },
    {
      "cell_type": "code",
      "source": [
        "# Simple Interest Calculator\n",
        "p=int(input(\"Enter the principal amount\\n\"))\n",
        "r=int(input(\"Enter the interest rate\\n\"))\n",
        "t=int(input(\"Enter the time in years\\n\"))\n",
        "\n",
        "SI=(p*r*t)/100\n",
        "print(f\"The simple interest is {SI}\\n\")\n",
        "amount=p+SI\n",
        "print(f\"The total amount to be paid with principal amount {p} with simple interest of {SI} in a time of {t}years is clearly {amount}\")\n"
      ],
      "metadata": {
        "id": "s2pT-Y28DPls"
      },
      "execution_count": null,
      "outputs": []
    },
    {
      "cell_type": "code",
      "source": [
        "# Creating a flag using loops.\n",
        "# Using FOR Loop\n",
        "for i in range(3):\n",
        "  print(\"8888888888888888888888\")\n",
        "\n",
        "for i in range(3):\n",
        "  print(\"**********************\")\n",
        "\n",
        "for i in range(3):\n",
        "  print(\"//////////////////////\")\n",
        "\n",
        "\n",
        "\n",
        "\n",
        "\n",
        "# Using while loop\n",
        "# counter=1\n",
        "# while counter<=2:\n",
        "#   print(\"666666666666666666\")\n",
        "#   counter+=1\n",
        "\n",
        "# counter=1\n",
        "# while counter<=2:\n",
        "#   print(\"777777777777777777\")\n",
        "#   counter+=1\n",
        "\n",
        "# counter=1\n",
        "# while counter<=2:\n",
        "#   print(\"999999999999999999\")\n",
        "#   counter+=1\n",
        "\n",
        "\n",
        "\n",
        "\n",
        "\n"
      ],
      "metadata": {
        "colab": {
          "base_uri": "https://localhost:8080/"
        },
        "id": "Kem9IlaIH5Jc",
        "outputId": "4c1f67b2-3d79-4245-a57c-3ccc6f664012"
      },
      "execution_count": null,
      "outputs": [
        {
          "output_type": "stream",
          "name": "stdout",
          "text": [
            "8888888888888888888888\n",
            "8888888888888888888888\n",
            "8888888888888888888888\n",
            "**********************\n",
            "**********************\n",
            "**********************\n",
            "//////////////////////\n",
            "//////////////////////\n",
            "//////////////////////\n"
          ]
        }
      ]
    },
    {
      "cell_type": "code",
      "source": [
        "#1 List can store any type of data be it strings,boolean,float or integer.\n",
        "\n",
        "######                     CHANGING DATA IN LISTS\n",
        "#2 Every element in a list has a numbered position called an index. where the first position numbering starts from zero.\n",
        "\n",
        "temperatures = [17,18,19,20]\n",
        "print(temperatures[2])    # to find out the value of element with position number.\n",
        "\n",
        "temperature = [17,18,19,20,26]\n",
        "temperature[2]=25\n",
        "print(temperature)    # Here in this output the value gets changed and new value is assigned to a particular position therefore sunstitution takes place.\n",
        "\n",
        "######           UPDATING DATA IN PYTHON\n",
        "#3 To add value to a list we use append \n",
        "scores=[24,23]\n",
        "scores.append(25)\n",
        "print(scores)                  # The append function will add value at the last of the list.\n",
        "\n",
        "#4 To insert a value in a list at a particular index position\n",
        "shopping=[\"kiwis\",\"peas\"]\n",
        "shopping.insert(0,\"lemon\")\n",
        "print(shopping)           # This will add the value in the list in the specified position index.\n",
        "\n",
        "#5 To remove the last element of a list, we use pop()\n",
        "todo=[\"call jarvis\",3000]\n",
        "todo.pop()\n",
        "print(todo)\n",
        "\n",
        "#6 To remove a value from specific index, we add the index we want to remove in parenthesis like pop(1)\n",
        "ironman=[\"Tony Stark\",\"Pepper Potts\",\"Morgan Stark\",3000]\n",
        "ironman.pop(1)\n",
        "print(ironman)\n",
        " \n",
        "#7 THe removed value can be stored inside a variable too. We can see it here when we code print(removed)\n",
        "ironman=[\"Tony Stark\",\"Pepper Potts\",\"Morgan Stark\",3000]\n",
        "removed=ironman.pop(0)\n",
        "print(removed)\n",
        "# we can save the value removed by pop() by storing it in a variable.\n",
        "\n",
        "\n",
        "#######    LOOPING OVER LISTS\n",
        "\n",
        "#8 In the lists only for loop is used to perform operations\n",
        "final_scores = [17,22,34,13]\n",
        "for score in final_scores:\n",
        "  print(score)\n",
        "\n",
        "#######      DECIDING WITH LISTS\n",
        "\n",
        "#9 We use the len() instruction with the list name in parentheses to get the number of elements in a list.\n",
        "users=[\"Sarah\",\"Mike\",\"Ella\"]\n",
        "print(f\"The number of letters is {len(users)}\")\n",
        "print(len(users))\n",
        "\n"
      ],
      "metadata": {
        "id": "kWNpxHBmWQRO",
        "colab": {
          "base_uri": "https://localhost:8080/"
        },
        "outputId": "b22eb6b6-0495-4037-afe4-40cd64a458db"
      },
      "execution_count": null,
      "outputs": [
        {
          "output_type": "stream",
          "name": "stdout",
          "text": [
            "19\n",
            "[17, 18, 25, 20, 26]\n",
            "[24, 23, 25]\n",
            "['lemon', 'kiwis', 'peas']\n",
            "['call jarvis']\n",
            "['Tony Stark', 'Morgan Stark', 3000]\n",
            "Tony Stark\n",
            "17\n",
            "22\n",
            "34\n",
            "13\n",
            "The number of letters is 3\n",
            "3\n"
          ]
        }
      ]
    },
    {
      "cell_type": "code",
      "source": [
        "###################### Using Lists \n",
        "1# To find extreme data to find minimum values i.e the minimum and maximum.\n",
        "#  (i) To find the largest number and smallest number in a list of data like \n",
        "# storing of values can also be done.\n",
        "scores1 = [3, 6, 1, 12]\n",
        "print(max(scores1))\n",
        "print(min(scores1))\n",
        "\n",
        "2#  To find Sorting Data\n",
        "# Sorted lists are useful when we want to understand where individual data points such as scores, stand in a relation to the others.\n",
        "\n",
        "scores = [3, 6, 1, 12]     # Arranges in ascending order    ****** Here storing of value is done first\n",
        "scores.sort()\n",
        "print(scores)\n",
        "\n",
        "names = [\"Cliose\",\"Ana\",\"Bill\"]    # Arranges in alphabetical order    ****** Here storing of value is done first\n",
        "names.sort()\n",
        "print(names)\n",
        "\n",
        "#3   Summing Data\n",
        "# Knowing the sum of numbers in lists is useful when comparing different datasets, like the difference in weekly signups over two months.\n",
        "signups_june = [30,6,20,12]\n",
        "signups_july = [20,5,100,40]\n",
        "\n",
        "print(sum(signups_july))\n",
        "\n",
        "# When the list also comntains negative numbers like -3 the -ve numbers are subtracted from the sum of the positive numbers.\n",
        "# Here also the value can be stored.\n",
        "quarterly_growth = [-3,0,0,4]\n",
        "print(sum(quarterly_growth))\n",
        "\n",
        "\n",
        "#4 Joining lists\n",
        "# This happens when we want to combine different datasets into one, best examples is the sales of the weekend\n",
        "\n",
        "sales_sat = [50, 3, 20, 22, 5]\n",
        "sales_sun = [60, 10, 9, 11, 40]\n",
        "\n",
        "print(sales_sat + sales_sun)\n",
        "b=(sales_sat+sales_sun)    # storing the value in the variable can also be done\n",
        "print(b)\n",
        "\n",
        "# We can also use + to combine containing different types of values, like the numeric seats and boolean taken\n",
        "seats = [1,2,3]\n",
        "taken = [True, True, False]\n",
        "print(seats + taken)\n",
        "\n",
        "# ******** NOTE******** WHILE CODING list_1 and list_2 then during output the list_1 will appear first then list_2.\n",
        "\n",
        "#5 Counting Elements\n",
        "# This is good way to get survey of words in a list and find no.of strings,booleans,numbers,floats etc used in the list and no.of time it occured.\n",
        "\n",
        "answers = [\"yes\",\"no\",\"sometimes\",\"yes\",\"no\"]\n",
        "print(answers.count(\"yes\"))\n",
        "\n",
        "free_seats = [False, False, True, True, False]\n",
        "seats_count = free_seats.count(True)\n",
        "print(seats_count)\n",
        "\n",
        "# ****** If we don't know the exact number, but only if an element like \"sugar\" exists in a list, we use in keyword.\n",
        "\n",
        "ingredients = [\"flour\", \"butter\", \"sugar\", \"eggs\"]\n",
        "print(\"sugar\" in ingredients)\n",
        "\n",
        "# We can reuse it by storing it in a variable like has_sugar\n",
        "ingredients = [\"flour\", \"butter\", \"sugar\", \"eggs\"]\n",
        "has_sugar = \"sugar\" in ingredients\n",
        "print(has_sugar)\n",
        "\n",
        "# Here in this case output will be boolean type in order to confirm whether the element is in list or not.\n",
        "\n",
        "\n",
        "\n",
        "\n",
        "\n",
        "\n"
      ],
      "metadata": {
        "colab": {
          "base_uri": "https://localhost:8080/"
        },
        "id": "fbinL15cJGQ5",
        "outputId": "f461d917-1d06-47f9-e73e-26238fe4a791"
      },
      "execution_count": null,
      "outputs": [
        {
          "output_type": "stream",
          "name": "stdout",
          "text": [
            "12\n",
            "1\n",
            "[1, 3, 6, 12]\n",
            "['Ana', 'Bill', 'Cliose']\n",
            "165\n",
            "1\n",
            "[50, 3, 20, 22, 5, 60, 10, 9, 11, 40]\n",
            "[50, 3, 20, 22, 5, 60, 10, 9, 11, 40]\n",
            "[1, 2, 3, True, True, False]\n",
            "2\n",
            "2\n",
            "True\n",
            "True\n"
          ]
        }
      ]
    },
    {
      "cell_type": "code",
      "source": [
        "# Using Strings\n",
        "# Use methods to manipulate strings in useful ways.\n",
        "\n",
        "#1 Splitting Strings\n",
        "# We are able to split up strings and store the individual values inside a list by coding .split() after the variable.\n",
        "new_users = \"Ana Jon Alex\"\n",
        "users_list = new_users.split()\n",
        "print(users_list)\n",
        "\n",
        "# We can specify exactly how we want to split a string by placing a seperator inside the parentheses, like with \",\" here.\n",
        "user = \"Lauren,25,F,Architect\"\n",
        "user_1 = user.split(\",\")\n",
        "print(user_1)\n",
        "\n",
        "# Example\n",
        "path = \"getmimo.com/glossary/python\"\n",
        "path_list = path.split(\"/\")\n",
        "print(path_list)\n",
        "\n",
        "#2 Updating Strings\n",
        "# Sometimes we will need to update data inside a string without creating a whole new string. Like updating a daily lunch special.\n",
        "special = \"Today's special is pasta\"\n",
        "new_special = special.replace(\"pasta\",\"pizza\")\n",
        "print(special)\n",
        "print(new_special)\n",
        "\n",
        "# Replacing all occurences\n",
        "tags = \".code .today\"\n",
        "hash_tag = tags.replace(\".\", \"#\")\n",
        "print(hash_tag)\n"
      ],
      "metadata": {
        "colab": {
          "base_uri": "https://localhost:8080/"
        },
        "id": "-a_NF8CYB83t",
        "outputId": "e3ac3657-0640-4ee1-c230-e6de2967b664"
      },
      "execution_count": null,
      "outputs": [
        {
          "output_type": "stream",
          "name": "stdout",
          "text": [
            "['Ana', 'Jon', 'Alex']\n",
            "['Lauren', '25', 'F', 'Architect']\n",
            "['getmimo.com', 'glossary', 'python']\n",
            "Today's special is pasta\n",
            "Today's special is pizza\n",
            "#code #today\n"
          ]
        }
      ]
    },
    {
      "cell_type": "code",
      "source": [
        "# Self Project\n",
        "# Spandan has a bank named ABC Bank where he wants to keep data of the customers or grahak which are name,account number, bank balance, assets, liabilities and amount of loan.\n",
        "# Python program to this context.\n",
        "\n",
        "Name=[\"Name:\"]\n",
        "Account_number=[\"Account Number:\"]\n",
        "Bank_balance=[\"Bank Balance:\"]\n",
        "Assets=[\"Assets:\"]\n",
        "Liabilities=[\"Liabilities:\"]\n",
        "Amount_of_loan = [\"Amount of loan:\"]\n",
        "n=int(input(\"Enter the number of customer details you want to enter\\n\"))\n",
        "for i in range(n):\n",
        "  \n",
        "  name = input(\"Enter Your name\\n\")\n",
        "  Name.append(name)\n",
        "  \n",
        "  account_number = int(input(\"Enter your account number\\n\"))\n",
        "  Account_number.append(account_number)\n",
        "\n",
        "  \n",
        "  bank_balance = int(input(\"Kindly enter the rough bank balance\\n\"))\n",
        "  Bank_balance.append(bank_balance)\n",
        "\n",
        "  \n",
        "  \n",
        "  assets = int(input(\"Enter the worth of assets\\n\"))\n",
        "  Assets.append(assets)\n",
        "\n",
        "  \n",
        "  liabilities = int(input(\"Enter the value of your liabilities\\n\"))\n",
        "  Liabilities.append(liabilities)\n",
        " \n",
        "  \n",
        "  amount_of_loan = int(input(\"Enter the amount of loan you have from bank\\n\"))\n",
        "  Amount_of_loan.append(amount_of_loan)\n",
        "  \n",
        "  \n",
        "  \n",
        "  print(Name)\n",
        "  print(Bank_balance)\n",
        "  print(Assets)\n",
        "  print(Liabilities)\n",
        "  print(Amount_of_loan)\n",
        "\n",
        "\n",
        "\n",
        "\n"
      ],
      "metadata": {
        "colab": {
          "base_uri": "https://localhost:8080/"
        },
        "id": "V588u0MRiSiE",
        "outputId": "7a53a539-28fb-4167-9e86-2ae6f8389ac9"
      },
      "execution_count": null,
      "outputs": [
        {
          "output_type": "stream",
          "name": "stdout",
          "text": [
            "Enter the number of customer details you want to enter\n",
            "1\n",
            "Enter Your name\n",
            "Spandan\n",
            "Enter your account number\n",
            "1\n",
            "Kindly enter the rough bank balance\n",
            "100000000000000\n",
            "Enter the worth of assets\n",
            "100000000000000000\n",
            "Enter the value of your liabilities\n",
            "0\n",
            "Enter the amount of loan you have from bank\n",
            "0\n",
            "['Name:', 'Spandan']\n",
            "['Bank Balance:', 100000000000000]\n",
            "['Assets:', 100000000000000000]\n",
            "['Liabilities:', 0]\n",
            "['Amount of loan:', 0]\n"
          ]
        }
      ]
    },
    {
      "cell_type": "code",
      "source": [
        "# Intermediate Python \n",
        "# Identify situations that require managing data types\n",
        "\n",
        "#1 There are several basic types in Python- strings,integers,floats and booleans. The type() function returns the type of a value.\n",
        "\n",
        "#Example:\n",
        "print(type(\"hello\"))\n",
        "print(type(10.5))\n",
        "print(type(10))\n",
        "print(type(True))\n",
        "\n",
        "#2 Sometimes we need to change values from one type to another. This is called type conversion.\n",
        "\n",
        "#3 Python has built in functions str(), int(), float() and boolean() for type conversion of suitable values.\n",
        "\n",
        "#Example : Here we change float to int\n",
        "size = 16.2\n",
        "print(int(size))\n",
        "\n",
        "#4 We don't need to convert values to the same type-sometimes Python does this for us,such as when working with numerical values.\n",
        "\n",
        "score_a = 5\n",
        "score_b = 4.5\n",
        "total = score_a + score_b\n",
        "\n",
        "print(type(score_a))\n",
        "print(type(score_b))\n",
        "print(type(total))\n",
        "\n",
        "#5 Sometimes we need to convert values to perform particular operations,such as using numerical values in strings.\n",
        "# Example:\n",
        "# position = 5\n",
        "# message = \"You are number\" + position + \"in the queue  \"         # THIS WILL THROW ERROR BECAUSE IT DOES NOT CONCATINATES.\n",
        "\n",
        "#6 The str() function allows us to make numerical values and convert them to strings.\n",
        "\n",
        "# Example:\n",
        "position = 3\n",
        "update = \"You are now number \" + str(position) + \" in the queue.\"    #In this case the numerical value concatinates with the string variable.\n",
        "print(update)\n",
        "\n",
        "#7 Keep in mind that using int() on a decimal value will simply remove the decimal point and subsequent values,rather than rounding it.\n",
        "\n",
        "#Example\n",
        "price = 9.99\n",
        "print(int(price))\n",
        "\n",
        "#8 The equivalent numerical values for booleans are in 1 for True and 0 for False respectively.\n",
        "# Example\n",
        "member = True \n",
        "value = int(member)\n",
        "print(value)\n",
        "\n",
        "#9 Python provides the list(),dict(),set() and tuple() functions for type conversion of suitable compound data structures.\n",
        "#Example\n",
        "choices = ['pizza','kebab','burger','pizza']    # The set() function sorts the same string when we have same name so as to reduce the same elements to one.\n",
        "unique = set(choices)\n",
        "print(unique)\n",
        "\n",
        "#10 The dict() function can take a list of tuples and create a dictionary from them.\n",
        "#Example\n",
        "users = dict([('James', 25),('Amanda', 19),('Mark', 33)])\n",
        "print(users)\n",
        "\n",
        "#11 When we add a float to an integer to a float and add the values.\n",
        "#12 We can convert list to tuple using tuple() function.\n",
        "\n",
        "#Example \n",
        "#Complete the code so that a tuple is created from the list of values.\n",
        "\n",
        "info = ['Male', 26,'David']\n",
        "record = tuple(info)\n",
        "print(record)\n",
        "\n"
      ],
      "metadata": {
        "id": "F4_q4QCxsN0b",
        "colab": {
          "base_uri": "https://localhost:8080/"
        },
        "outputId": "ed9d2611-121e-4da9-bd79-45dccad6a310"
      },
      "execution_count": null,
      "outputs": [
        {
          "output_type": "stream",
          "name": "stdout",
          "text": [
            "<class 'str'>\n",
            "<class 'float'>\n",
            "<class 'int'>\n",
            "<class 'bool'>\n",
            "16\n",
            "<class 'int'>\n",
            "<class 'float'>\n",
            "<class 'float'>\n",
            "You are now number 3 in the queue.\n",
            "9\n",
            "1\n",
            "{'kebab', 'pizza', 'burger'}\n",
            "{'James': 25, 'Amanda': 19, 'Mark': 33}\n",
            "('Male', 26, 'David')\n"
          ]
        }
      ]
    },
    {
      "cell_type": "code",
      "source": [
        "# Functions\n",
        "# Code functions to make code reusable and easier to read.\n",
        "\n",
        "#1 Reusing code with functions\n",
        "# Instead of writing the same code we can use functions to group related code and perform the task in one place.\n",
        "\n",
        "# (i) To begin grouping related code, we start defining the keyword def\n",
        "# (ii) Next comes the function's name followed by parentheses,(   and  ).    #EXAMPLE: def greet_user()\n",
        "# (iii) A colon : marks the beginning of the code block that belongs to the function.    #Example:    def greet_user():\n",
        "# (iv) To group code into the function, we indent it by spaces.  \n",
        "\n",
        "# Example \n",
        "def greet_user():\n",
        "  print(\"Good Morning Anna\")\n",
        "  print(\"Welcome Back\")\n",
        "\n",
        "# (v) To run the code we need to call the function. We do that by coding its name followed by parentheses , like greet_user() .\n",
        "# Example \n",
        "def greet_user():\n",
        "  print(\"Good Morning Anna\")\n",
        "  print(\"Welcome Back\")\n",
        "\n",
        "greet_user()\n",
        "\n",
        "#(vi) We name a function using snake case.\n"
      ],
      "metadata": {
        "colab": {
          "base_uri": "https://localhost:8080/"
        },
        "id": "7z7sVCWMbkfH",
        "outputId": "18be486a-ed78-4cae-b976-e795f1604e95"
      },
      "execution_count": null,
      "outputs": [
        {
          "output_type": "stream",
          "name": "stdout",
          "text": [
            "Good Morning Anna\n",
            "Welcome Back\n"
          ]
        }
      ]
    },
    {
      "cell_type": "code",
      "source": [
        "# Creating Parameters using Functions\n",
        "#1 For start we can use variables inside functions.\n",
        "# Example:\n",
        "def greet_ron():\n",
        "  name = \"Ron\"\n",
        "  print(f\"Hello, {name}\");\n",
        "\n",
        "greet_ron()\n",
        "\n",
        "def greet_leslie():\n",
        "  name = \"Leslie\"\n",
        "  print(f\"Hello, {name}\")\n",
        "\n",
        "greet_leslie()\n",
        "\n",
        "#2 Instead of writing the functions we need can do it by just one function.\n",
        "# Example 1:\n",
        "\n",
        "def greet(name):\n",
        "  print(f\"Hello, {name}\")\n",
        "\n",
        "greet(\"April\")\n",
        "greet(\"Leslie\")\n",
        "#3 We pass specific values to a functions so that we can use the same code for different values.\n",
        "#4 We call the function with the value between parentheses.\n",
        "\n",
        "# Example 2:\n",
        "def user_status():\n",
        "  status = \"Active\"\n",
        "  username = \"Bob\"\n",
        "  print(f\"{username} is {status}\")\n",
        "\n",
        "user_status()\n",
        "\n",
        "#5 Add the function name display_half and the parameter number.\n",
        "def display_half(number):\n",
        "  half = number / 2\n",
        "  print(half)\n",
        "\n",
        "display_half(10)\n",
        "\n",
        "def greet_sam(name):\n",
        "  print(f\"Hello {name} what's up!\")\n",
        "\n",
        "name = input(\"Enter Your name buddy\\n\")\n",
        "greet_sam(name)\n"
      ],
      "metadata": {
        "id": "_VRGNo-Lg77u",
        "colab": {
          "base_uri": "https://localhost:8080/"
        },
        "outputId": "99fc3003-34ad-4803-b9c0-482210f90d94"
      },
      "execution_count": null,
      "outputs": [
        {
          "output_type": "stream",
          "name": "stdout",
          "text": [
            "Hello, Ron\n",
            "Hello, Leslie\n",
            "Hello, April\n",
            "Hello, Leslie\n",
            "Bob is Active\n",
            "5.0\n",
            "Enter Your name buddy\n",
            "Spandan\n",
            "Hello Spandan what's up!\n"
          ]
        }
      ]
    },
    {
      "cell_type": "code",
      "source": [
        "# Returning Values\n",
        "#1 To return something from a function we add the return keyword followed by the value to return, like here with return label.\n",
        "\n",
        "#Example 1:\n",
        "def age_label(age):\n",
        "  label = \"User age:\" + age\n",
        "  return label\n",
        "\n",
        "#2 A function can return any type of value,like a string,integer,float or boolean.\n",
        "#3 If we don't return statement, the function returns the value None instead.\n",
        "\n",
        "#Example 2\n",
        "def age_label(age):\n",
        "  label = \"User age:\" + age\n",
        "\n",
        "result = age_label(\"29\")\n",
        "print(result)\n",
        "\n",
        "#Example 3\n",
        "\n",
        "def add_greeting(user):\n",
        "  greeting = \"Greetings\" + user\n",
        "  return greeting\n",
        "\n",
        "result = add_greeting(\"Saoirse\")\n",
        "print(result)\n",
        "\n",
        "# Example 4\n",
        "def half_twice(number):\n",
        "  half = number / 2\n",
        "  half_again = half/2\n",
        "  return half_again\n",
        "\n",
        "result = half_twice(12)\n",
        "print(result)\n",
        "\n",
        "#Example 5\n",
        "def add_ten(number):\n",
        "  sum = 10 + number\n",
        "  return sum\n",
        "\n",
        "print(add_ten(20))\n",
        "\n",
        "# Example 6\n",
        "def sign_up(user):\n",
        "  status = user + \" signed up\"\n",
        "  return status\n",
        "\n",
        "result = sign_up(\"Desmond\")\n",
        "print(result)"
      ],
      "metadata": {
        "colab": {
          "base_uri": "https://localhost:8080/"
        },
        "id": "L14oODRtAFdl",
        "outputId": "4d98e541-7978-483f-c16c-3b6e42eab3d8"
      },
      "execution_count": null,
      "outputs": [
        {
          "output_type": "stream",
          "name": "stdout",
          "text": [
            "None\n",
            "GreetingsSaoirse\n",
            "3.0\n",
            "30\n",
            "Desmond signed up\n"
          ]
        }
      ]
    },
    {
      "cell_type": "code",
      "source": [
        "# Using Multiple parameters\n",
        "# To perform tasks on more pieces of data, like a new player's first and last name.\n",
        "\n",
        "# Type #1\n",
        "# With a single parameter\n",
        "def display(first_name):\n",
        "  print(first_name)\n",
        "\n",
        "display(\"Alex\")\n",
        "\n",
        "#Type 2\n",
        "# To add more parameters to a function, we code a comma followed by the next parameter's name like last for the last name.Comma is given in order to pass the 2nd value of funnction.\n",
        "\n",
        "def display(first, last):\n",
        "  print(first + \" \" + last)  # After adding the new parameter and passing a matching value,we can use it inside the function.\n",
        "\n",
        "display(\"Alex\", \"Morgan\")\n",
        "\n",
        "#Type 3\n",
        "# We can add as many parameters we like to as lonmg as we seperate them with commas,like here with third.\n",
        "\n",
        "def show_winners(first, second, third):\n",
        "  print(\"First place:\" + first)\n",
        "  print(\"Second place:\" + second)\n",
        "  print(\"Third place:\" + third)\n",
        "\n",
        "show_winners(\"Kim\", \"Lee\", \"Ava\")\n",
        "\n"
      ],
      "metadata": {
        "colab": {
          "base_uri": "https://localhost:8080/"
        },
        "id": "ojQwm5KkA_62",
        "outputId": "7ef100d4-e079-49fa-d483-446bee65d3ce"
      },
      "execution_count": null,
      "outputs": [
        {
          "output_type": "stream",
          "name": "stdout",
          "text": [
            "Alex\n",
            "Alex Morgan\n",
            "First place:Kim\n",
            "Second place:Lee\n",
            "Third place:Ava\n"
          ]
        }
      ]
    },
    {
      "cell_type": "code",
      "source": [
        "# Understanding Functions\n",
        "# Descriptive names help us to know at a glance what they do.\n",
        "# Type 1\n",
        "def get_final_price(price, tax):\n",
        "  return price + tax\n",
        "\n",
        "price = get_final_price(30, 1.5)\n",
        "print(price) \n",
        "\n",
        "#Type 2\n",
        "def create_email(name):\n",
        "  return name + \"@hutmail.com\"\n",
        "\n",
        "email = create_email(\"Jo\")\n",
        "print(email)\n",
        "\n",
        "# Function name is usually start with verbs in order to understand it in a single glance.\n",
        "# Verbs that functions that return values might start is compute, calculate, get.\n",
        "# Verbs that functions that return booleans might start with : is , has, can.\n",
        "\n",
        "\n",
        "\n",
        "# A function is like a black box because when it has a descriptive name, we can call it without reading the code inside it.\n",
        "\n",
        "# The right input depends on what types of values we pass to a function. Pass the string first, followed by the number.\n",
        "\n",
        "def display_score(name, points):\n",
        "  print(f\"{name}: {points} points\")\n",
        "\n",
        "display_score(\"Johnny\", 350)\n",
        "\n",
        "\n",
        "\n",
        "# A function's output and input can have different types. This function has the integer input 25 and the boolean output True.\n",
        "\n",
        "def is_renting_age(age):\n",
        "  print(age>=25)\n",
        "\n",
        "is_renting_age(25)   # Here it's been used to confirm the value and we get output equal to zero.\n",
        "\n",
        "\n",
        "# When a function displays or returns a value to be used somewhere else in the code. \n",
        "def is_renting_age(age):\n",
        "  return age >= 25\n",
        "\n",
        "can_rent_car = is_renting_age(25)\n",
        "print(can_rent_car)\n"
      ],
      "metadata": {
        "colab": {
          "base_uri": "https://localhost:8080/"
        },
        "id": "i0qtTZd7JYiU",
        "outputId": "2838558e-2abc-4e7b-b305-9ca5d1165682"
      },
      "execution_count": null,
      "outputs": [
        {
          "output_type": "stream",
          "name": "stdout",
          "text": [
            "31.5\n",
            "Jo@hutmail.com\n",
            "Johnny: 350 points\n",
            "True\n",
            "True\n"
          ]
        }
      ]
    },
    {
      "cell_type": "code",
      "source": [
        "# Functions and Variable Scope\n",
        "#1 Variables created inside a function have a local scope,like bonus here.\n",
        "\n",
        "def add_bonus(salary):\n",
        "  bonus = 100\n",
        "  print(salary + bonus)\n",
        "\n",
        "add_bonus(1900)\n",
        "\n",
        "# We can access or update the variable within the function that created it.\n",
        "def add_bonus(salary):\n",
        "  bonus = 100\n",
        "  bonus = 200 \n",
        "  print(salary + bonus)\n",
        "\n",
        "add_bonus(1900)\n",
        "\n",
        "#2 Variable has a local scope when we create it inside of a function's block. In local scope we can't access or update it outside of the function where it was created.\n",
        "#3 With global scope we can safely access the variable anywhere in the code.\n",
        "\n",
        "shipping = 10\n",
        "def calculate_total(cart):\n",
        "  print(cart + shipping )\n",
        "\n",
        "calculate_total(54)\n",
        "\n",
        "#4 All variables except for those created inside functions,have a global scope, like player_1 here. [Exception]\n",
        "#5 In global scope we can access once we create it.\n",
        "#6 Conditions and loops have global scope because they are not created inside functions.\n",
        "\n",
        "single_player = True\n",
        "\n",
        "if single_player:\n",
        "  player_1 = \"Mario\"\n",
        "\n",
        "print(f\"Player_1: {player_1}\")"
      ],
      "metadata": {
        "id": "oMbbwGXJdhT5",
        "colab": {
          "base_uri": "https://localhost:8080/"
        },
        "outputId": "a38beb46-1607-422f-dbc2-a265124ff9c9"
      },
      "execution_count": null,
      "outputs": [
        {
          "output_type": "stream",
          "name": "stdout",
          "text": [
            "2000\n",
            "2100\n",
            "64\n",
            "Player_1: Mario\n"
          ]
        }
      ]
    },
    {
      "cell_type": "code",
      "source": [
        "# Deciding with functions\n",
        "# Reusing conditionals with functions.\n",
        "\n",
        "#1 When we code conditionals inside the code block of the function,we nest it inside the function.\n",
        "#2 To nest a conditional like if cart<100:, we indent it two spaces away from the beginning of the function.\n",
        "#3 To make a conditional work more flexibly, we use the function's parameter or name as a part of the condition.\n",
        "\n",
        "#Example: Use of if statements inside the function.\n",
        "def has_low_battery(level):\n",
        "  if level <= 20:\n",
        "    print(\"Low Battery!\")\n",
        "\n",
        "has_low_battery(15)\n",
        "\n",
        "#Example: USe of else statement inside functions.\n",
        "\n",
        "def calculator(operator, x,y):\n",
        "  if operator == \"+\":\n",
        "    print(x + y)\n",
        "  elif operator == \"-\":\n",
        "    print(x - y)\n",
        "  else:\n",
        "    print(f\"unknown: {operator}\")\n",
        "\n",
        "calculator(\"-\", 30, 10)"
      ],
      "metadata": {
        "colab": {
          "base_uri": "https://localhost:8080/"
        },
        "id": "qz92AypVV8iX",
        "outputId": "d995e58f-4539-492b-cc93-21f603177318"
      },
      "execution_count": null,
      "outputs": [
        {
          "output_type": "stream",
          "name": "stdout",
          "text": [
            "Low Battery!\n",
            "20\n"
          ]
        }
      ]
    },
    {
      "cell_type": "code",
      "source": [
        "# Functions with lists\n",
        "# Functions can make use of their lists as well.\n",
        "\n",
        "#Example 1\n",
        "def is_multiplayer(players):\n",
        "  print(len(players) == 2)\n",
        "\n",
        "players = [\"Amy\",\"Jay\"]\n",
        "is_multiplayer(players)\n",
        "\n",
        "#1 For lists functions it works the same way as it does for other values and between the parentheses.\n",
        "def display_programme(movies):\n",
        "  print(f\"Airing tonight: {movies}\")\n",
        "\n",
        "movie_list = [\"Alien\",\"Moon\"]\n",
        "display_programme(movie_list)\n",
        "\n",
        "#2 Once we pass the list to the function we can use the parameter to display it.\n",
        "#3 Parameters are like variables storing the values as we pass the function. \n",
        "def count_passengers(passengers):\n",
        "  print(len(passengers))\n",
        "\n",
        "passengers = [\"June\", \"Sam\", \"Lee\"]\n",
        "count_passengers(passengers)\n",
        "\n",
        "#4 Functions can use list's length in order to find the comparisions.\n",
        "def is_booked(passengers):\n",
        "  print(len(passengers) > 4)\n",
        "\n",
        "passengers = [\"June\", \"Sam\", \"Lee\"]\n",
        "is_booked(passengers)\n",
        "\n",
        "#5 Sometimes we want our function to retrieve certain elements of a list.\n",
        "def get_winner(top_players):\n",
        "  winner = top_players[0]\n",
        "  print(f\"Game winner: {winner}\")\n",
        "\n",
        "top_players = [\"Jay\", \"Meg\", \"Cy\"]\n",
        "get_winner(top_players)\n",
        "\n",
        "#6 Functions can also be used to update the list.\n",
        "def update_first_place(leaderboard, player):\n",
        "  leaderboard[0] = player\n",
        "  return leaderboard # After updating the list the function can return the updated list.\n",
        "\n",
        "leaderboard = [\"Jay\",\"Meg\",\"Cy\"]\n",
        "leaderboard = update_first_place(leaderboard, \"Lena\")\n",
        "print(leaderboard)\n",
        "\n",
        "#7 The principle use of list can be done within the function's parameters.\n",
        "\n",
        "# Example\n",
        "def set_initials(names, initial):\n",
        "  names[0] = initial\n",
        "  return(names)\n",
        "\n",
        "author_names = [\"Francis\", \"Scott\", \"Fitzgerald\"]\n",
        "author_names = set_initials(author_names,\"F\")\n",
        "print(author_names)\n",
        "\n"
      ],
      "metadata": {
        "id": "D6I3A624g-FJ",
        "colab": {
          "base_uri": "https://localhost:8080/"
        },
        "outputId": "684f3b38-830f-4062-debe-c70bd656c701"
      },
      "execution_count": null,
      "outputs": [
        {
          "output_type": "stream",
          "name": "stdout",
          "text": [
            "True\n",
            "Airing tonight: ['Alien', 'Moon']\n",
            "3\n",
            "False\n",
            "Game winner: Jay\n",
            "['Lena', 'Meg', 'Cy']\n",
            "['F', 'Scott', 'Fitzgerald']\n"
          ]
        }
      ]
    },
    {
      "cell_type": "code",
      "source": [
        "# Functions with loops\n",
        "#1 Functions help us reuse loops by allowing us to change the number of repetitions or the list we're iterating through.\n",
        "\n",
        "def onboard_passengers(bookings):\n",
        "  counter = 1\n",
        "  while counter <= bookings:\n",
        "    print(f\"Passenger {counter} on board\")\n",
        "    counter += 1\n",
        "\n",
        "onboard_passengers(4)\n",
        "\n",
        "#2 The while loop function works on as long as the value is assigned.\n",
        "#3 The loop works on the identation of two spaces to nest a loop inside a function.\n",
        "\n",
        "#4 We can use for and while loops inside the functions.\n",
        "\n",
        "def display_progress(total_files):\n",
        "  for i in range(total_files):\n",
        "    print(f\"Downloading file {i} out of {total_files}\")\n",
        "\n",
        "display_progress(3)\n",
        "\n",
        "# Example1 \n",
        "# To code a while loop two spaces to the right, to nest it inside the function's code block.\n",
        "def do_countdown(counter):\n",
        "  while counter > 0:\n",
        "    print(counter)\n",
        "    counter -= 1\n",
        "  print(\"Go!\")\n",
        "\n",
        "do_countdown(3)\n",
        "\n",
        "#Example2\n",
        "# To write a condition so that the loop displays stars as long as the counter value is smaller than the parameter rows.\n",
        "def display_stars(rows):\n",
        "  counter = 0\n",
        "  while counter < rows:\n",
        "    print(\"***\")\n",
        "    counter += 1\n",
        "\n",
        "display_stars(2)\n",
        "\n",
        "# Code a for loop inside the function.\n",
        "def show_progress(total):\n",
        "  for i in range(total):\n",
        "    print(f\"Installing next update\")\n",
        "\n",
        "show_progress(3)\n",
        "\n",
        "# Ranges in function tells us how many time we need to run the loop.\n",
        "def display_progress():\n",
        "  for i in range(3):\n",
        "    print(f\"Downloading file {i} out of 3\")\n",
        "\n",
        "display_progress\n",
        "\n",
        "# To reuse a loop that iterates through a list, we can nest it in a function like with this for loop.\n",
        "def halve_prices(cart):\n",
        "  for price in cart:\n",
        "    print(f\"New price: {price/2}\")\n",
        "\n",
        "cart_list = [5, 20, 8]\n",
        "halve_prices(cart_list)\n",
        "\n",
        "# Example 3\n",
        "def show_next_track():\n",
        "  playlist = [\"Hey Jude\", \"Helter Skelter\", \"Something\"]\n",
        "  for track in playlist:\n",
        "    print(f\"Next up: {track}\")\n",
        "\n",
        "show_next_track()\n",
        "\n"
      ],
      "metadata": {
        "colab": {
          "base_uri": "https://localhost:8080/"
        },
        "id": "5bqAykSGKAz1",
        "outputId": "c00d0afc-2e8a-49af-81de-62cce5e21cec"
      },
      "execution_count": null,
      "outputs": [
        {
          "output_type": "stream",
          "name": "stdout",
          "text": [
            "Passenger 1 on board\n",
            "Passenger 2 on board\n",
            "Passenger 3 on board\n",
            "Passenger 4 on board\n",
            "Downloading file 0 out of 3\n",
            "Downloading file 1 out of 3\n",
            "Downloading file 2 out of 3\n",
            "3\n",
            "2\n",
            "1\n",
            "Go!\n",
            "***\n",
            "***\n",
            "Installing next update\n",
            "Installing next update\n",
            "Installing next update\n",
            "New price: 2.5\n",
            "New price: 10.0\n",
            "New price: 4.0\n",
            "Next up: Hey Jude\n",
            "Next up: Helter Skelter\n",
            "Next up: Something\n"
          ]
        }
      ]
    },
    {
      "cell_type": "code",
      "source": [
        "# Self Project 1\n",
        "N=int(input(\"Enter the number\\n\"))\n",
        "for i in range(N):\n",
        "  print(\"*      *\")\n",
        "  print(\"*      *\")\n",
        "  if i<2:\n",
        "    print(\"********\")\n",
        "  elif i<4:\n",
        "    print(\"********\")\n"
      ],
      "metadata": {
        "colab": {
          "base_uri": "https://localhost:8080/"
        },
        "id": "M49CHt_25m5y",
        "outputId": "c4115f50-66a0-4905-fb2b-00124f03ab14"
      },
      "execution_count": null,
      "outputs": [
        {
          "output_type": "stream",
          "name": "stdout",
          "text": [
            "Enter the number\n",
            "5\n",
            "*      *\n",
            "*      *\n",
            "********\n",
            "*      *\n",
            "*      *\n",
            "********\n",
            "*      *\n",
            "*      *\n",
            "********\n",
            "*      *\n",
            "*      *\n",
            "********\n",
            "*      *\n",
            "*      *\n"
          ]
        }
      ]
    },
    {
      "cell_type": "code",
      "source": [
        "# Self Project 2\n",
        "for x in range(1,6):\n",
        "  for y in range(1,x+1):\n",
        "    print(x,end=\"\")\n",
        "  print()"
      ],
      "metadata": {
        "colab": {
          "base_uri": "https://localhost:8080/"
        },
        "id": "2FDCBfC0KQOF",
        "outputId": "c15634c8-8063-4574-fe78-c7ab3df83c55"
      },
      "execution_count": null,
      "outputs": [
        {
          "output_type": "stream",
          "name": "stdout",
          "text": [
            "1\n",
            "22\n",
            "333\n",
            "4444\n",
            "55555\n"
          ]
        }
      ]
    },
    {
      "cell_type": "code",
      "source": [
        "# Tuples , Dictionaries and Sets\n",
        "# Creating Tuples\n",
        "\n",
        "#1 Tuples help us group different pieces of data that belong together.\n",
        "#Example1\n",
        "vetigo_data = (\"Vetigo\", 1958)\n",
        "print(vetigo_data)\n",
        "\n",
        "#2 We use parentheses () instead of this [] to create tuples. [] is used for making lists.\n",
        "#3 Commas are used to seperate values in tuple.\n",
        "\n",
        "#4 As in special case tuples with only value end in a comma anyway. **************\n",
        "#5  Tuples can have as many values we want to have.\n",
        "\n",
        "#6 We can save a variable in tuple.\n",
        "# Example2\n",
        "user_data = (\"joe_17\", \"Joe Reed\")\n",
        "print(user_data)"
      ],
      "metadata": {
        "colab": {
          "base_uri": "https://localhost:8080/"
        },
        "id": "9X04Far96U6a",
        "outputId": "dd04a726-e19c-4af0-d026-ec65c61292ac"
      },
      "execution_count": null,
      "outputs": [
        {
          "output_type": "stream",
          "name": "stdout",
          "text": [
            "('Vetigo', 1958)\n",
            "('joe_17', 'Joe Reed')\n"
          ]
        }
      ]
    },
    {
      "cell_type": "code",
      "source": [
        "# Tuples and Lists\n",
        "#1 We can store in a list just like any other values.\n",
        "#1 Example\n",
        "scores = [(\"mia\", 75), (\"Lee\", 90)] # Tuples inside a list can be considered. In this case tuples act as a single element in a list. \n",
        "print(scores) \n",
        "#2 We consider each tuple to be one value present in the list.\n",
        "print(len(scores))\n",
        "\n",
        "#3 We can access a specific tuple in a list by its index.\n",
        "print(scores[0])\n",
        "\n",
        "#4 Once we access the tuple we can save it in a variable.\n",
        "mia_score = scores[0]\n",
        "print(mia_score)\n",
        "\n",
        "#5 We can use a for loop or any kind of loop to iterate over a list of tuples.\n",
        "for user_score in scores:\n",
        "  print(f\"Result: {user_score}\")\n",
        "\n",
        "#6 The main difference of tuples is that we can't update, add, or delete values from tuples.***********\n",
        "#7 Since tuples are immutable,we use them to store information that should'nt be modified, like person's name and birth date."
      ],
      "metadata": {
        "colab": {
          "base_uri": "https://localhost:8080/"
        },
        "id": "STMulTGvAB6n",
        "outputId": "933df468-a1e5-4c6f-fd62-952788ae0819"
      },
      "execution_count": null,
      "outputs": [
        {
          "output_type": "stream",
          "name": "stdout",
          "text": [
            "[('mia', 75), ('Lee', 90)]\n",
            "2\n",
            "('mia', 75)\n",
            "('mia', 75)\n",
            "Result: ('mia', 75)\n",
            "Result: ('Lee', 90)\n"
          ]
        }
      ]
    },
    {
      "cell_type": "code",
      "source": [
        "##### Getpass application use *******************\n",
        "\n",
        "from getpass import getpass\n",
        "username = input(\"Enter Username : \")\n",
        "password = getpass(\"Enter Password : \")\n"
      ],
      "metadata": {
        "colab": {
          "base_uri": "https://localhost:8080/"
        },
        "id": "sk1GmFKHk6-X",
        "outputId": "9a1acde1-33e5-4082-c5b8-235a93b48f15"
      },
      "execution_count": null,
      "outputs": [
        {
          "name": "stdout",
          "output_type": "stream",
          "text": [
            "Enter Username : Spandan\n",
            "Enter Password : ··········\n"
          ]
        }
      ]
    },
    {
      "cell_type": "code",
      "source": [
        "# Use of some getpass concept\n",
        "from getpass import getpass\n",
        "username = input(\"Enter UserName : \")\n",
        "password = getpass(\"Enter Password : \")\n",
        "\n",
        "if (password==\"Spandan123\"):\n",
        "  print(f\"Welcome, {username}\")\n",
        "else:\n",
        "  print(f\"You are restricted! {username}\")\n"
      ],
      "metadata": {
        "id": "l6_ONc6Cw49u"
      },
      "execution_count": null,
      "outputs": []
    },
    {
      "cell_type": "code",
      "source": [
        "# Returning Tuples\n",
        "\n",
        "# Tuples are useful because they allow us to return multiple values from a function, like the highest and lowest scores from a list.\n",
        "\n",
        "def get_scores_data(scores_list):\n",
        "  highest_score = max(scores_list)\n",
        "  lowest_score = min(scores_list)\n",
        "  return highest_score, lowest_score  # To return a tuple we wish to return which is seperated by comma,\n",
        "\n",
        "scores = [31, 17, 80]\n",
        "data = get_scores_data(scores) \n",
        "# To store a tuple by a function we assign some value to any variable to it.\n",
        "print(data)\n",
        "\n",
        "# We can retrieve the individual values by their indices like highest score and smallest.\n",
        "\n",
        "highest = data[0]\n",
        "smallest = data[1]\n",
        "print(f\"smallest score: {smallest}\")\n",
        "print(f\"highest score: {highest}\")\n",
        "\n",
        "# Since tuples are immutable we return a tuple when we won't need to modify it, but just use the values.\n",
        "\n",
        "# When we want to be able to modify the returned collection of values like updating a team member, we return a list like a team.\n",
        "def form_team(players):\n",
        "  team = []\n",
        "  team.append(players[0])\n",
        "  team.append(players[2])\n",
        "  return team\n",
        "\n",
        "players = [\"Sue\", \"Ed\", \"Ann\", \"Ty\"]\n",
        "team = form_team(players)\n",
        "team[0] = \"Chloe\"\n",
        "print(team)\n",
        "\n",
        "# Q When we should we return a tuple?\n",
        "# Answer: When we are only interested in the individual values or don't intend to modify the tuple\n",
        "\n",
        "\n"
      ],
      "metadata": {
        "colab": {
          "base_uri": "https://localhost:8080/"
        },
        "id": "-iKsDkkin5IF",
        "outputId": "bdbe0015-5044-4042-8c24-5b406ae0614b"
      },
      "execution_count": null,
      "outputs": [
        {
          "output_type": "stream",
          "name": "stdout",
          "text": [
            "(80, 17)\n",
            "smallest score: 17\n",
            "highest score: 80\n",
            "['Chloe', 'Ann']\n"
          ]
        }
      ]
    },
    {
      "cell_type": "code",
      "source": [
        "# Creating Dictionaries\n",
        "\n",
        "#1 To associate a meaning to each value we use a data structure called a dictionary.\n",
        "\n",
        "locations = { \"headquarters\": \"New York\",\n",
        "             \"flagship\": \"Paris\"}\n",
        "print(locations)\n",
        "\n",
        "#2 To create a dictionary we start by coding in the curly braces {}.\n",
        "locations = {}\n",
        "print(locations)\n",
        "\n",
        "#3 Dictionaries are made of special keys and values which are seperated by a colon:\n",
        "#4 Keys label the indices and are unique we can use a key once.\n",
        "#5 Inside the dictionary we seperate key value pairs by a comma.\n",
        "\n",
        "#6 A dictionary key values can be numbers, booleans, or tuples, but the most commonly used type is a string.\n",
        "#7 We can store as many values we want to use in a dictionaries.\n",
        "\n"
      ],
      "metadata": {
        "colab": {
          "base_uri": "https://localhost:8080/"
        },
        "id": "bg3ezjEOwLCm",
        "outputId": "8f264027-500f-4878-ab1b-34cf890dfe4f"
      },
      "execution_count": null,
      "outputs": [
        {
          "output_type": "stream",
          "name": "stdout",
          "text": [
            "{'headquarters': 'New York', 'flagship': 'Paris'}\n",
            "{}\n"
          ]
        }
      ]
    },
    {
      "cell_type": "code",
      "source": [
        "# Using Dictionaries\n",
        "\n",
        "#1 We can access values in a dictionary by their key.\n",
        "actor_bio = {\"name\": [\"Bill Murphy\"],\n",
        "             \"known for\": [\"Lost in Translation\", \"Rushmore\"]}\n",
        "print(actor_bio[\"name\"])\n",
        "\n",
        "#2 In order to access the code you need to use square brackets []\n",
        "\n",
        "#3 We can loop through the dictionary keys with a for loop.\n",
        "player_scores = {\"ann\": 13, \"michael\": 20, \"ava\": 34}\n",
        "for player in player_scores:    \n",
        "  print(player_scores[player])           # The variable player stands for the keys so we can access each key's value using player\n",
        "\n",
        "#4 To update the value associated with a key, \n",
        "ticket = { \"seat no.\": 25, \"first class\": False}\n",
        "ticket[\"first class\"] = True\n",
        "print(ticket)  # After accessing the value we update it by = followed by new value.\n",
        "\n",
        "#5 for loop to loop through each chapter key in the contents dictionary.\n",
        "\n",
        "contents = {\"ch. 1\": \"A long expected party\",\n",
        "            \"ch. 2\": \"The shadow the past\",\n",
        "            \"ch. 3\": \"Three is company\"}\n",
        "for chapter in contents:\n",
        "  print(contents[chapter])\n",
        "\n",
        "\n",
        "#6 To add a key, we code a dictionary name's. Adding a new key value pair resembles updating the dictionary.\n",
        "# Example\n",
        "ticket = {\"seat no.\": 25}\n",
        "ticket[\"Window\"] = True  #To associate the key with value.\n",
        "print(ticket)\n",
        "\n",
        "#Note: During the time of adding new key to dictionary if the key is same and if the value is different then the value will get updated.\n",
        "\n",
        "\n",
        "\n",
        "\n",
        "\n",
        "#7 To check if the key is the present in the dictionary. It gives result in boolean form.\n",
        "#Example\n",
        "\n",
        "personal_data = {\"name\": \"Mac Miller\",\n",
        "\"Telephone\": \"0047865791\"}\n",
        "print(\"name\" in personal_data)  \n",
        "\n",
        "# Note we can even check the condition by storing a variable into it.\n",
        "personal_data = {\"name\": \"Mac Miller\",\n",
        "\"Telephone\": \"0047865791\"}\n",
        "has_address = \"address\" in personal_data\n",
        "print(has_address)\n",
        "\n",
        "\n",
        "#8 We remove a key value pair similarly to removing an element from a list,by coding the dictionary name followed by .pop() instruction.\n",
        "ticket = {\"seat no\": 25, \"window\": True}\n",
        "ticket.pop(\"window\")   # In this case we need to use pop and specify which key you want to remove.\n",
        "print(ticket)\n",
        "\n",
        "# It can also be done even by storing in a variable.\n",
        "# To avoid getting an error when removing a key,it's good practice to use the in keyword to check if the key exists.\n",
        "\n",
        "ticket = {\"seat no\": 25, \"window\": True}\n",
        "if \"destination\" in  ticket:\n",
        "  ticket.pop(\"destination\")    # In this case due to if condition the code ignores and runs whereas if it's not present then it will throw error.\n",
        "\n",
        "print(ticket)\n",
        "\n",
        "\n",
        "\n"
      ],
      "metadata": {
        "colab": {
          "base_uri": "https://localhost:8080/"
        },
        "id": "Sve6wccw8bvQ",
        "outputId": "e392ae4f-48cf-4889-8657-fc9642664032"
      },
      "execution_count": null,
      "outputs": [
        {
          "output_type": "stream",
          "name": "stdout",
          "text": [
            "Bill Murphy\n",
            "13\n",
            "20\n",
            "34\n",
            "{'seat no.': 25, 'first class': True}\n",
            "A long expected party\n",
            "The shadow the past\n",
            "Three is company\n",
            "{'seat no.': 25, 'Window': True}\n",
            "True\n",
            "False\n",
            "{'seat no': 25}\n",
            "{'seat no': 25, 'window': True}\n"
          ]
        }
      ]
    },
    {
      "cell_type": "code",
      "source": [
        "# Self Project\n",
        "# Spandan wants to the displays the numbers between 1 and N which are divisible by 2. Python program to this context.\n",
        "def divisible_by_2(a):\n",
        "  if a%2==0:\n",
        "    print(f\"The numbers are {a}\")\n",
        "\n",
        "# Method 1\n",
        "N =int(input(\"Enter the number\\n\"))\n",
        "if N>0:\n",
        "  for i in range(N+1):\n",
        "    divisible_by_2(i)\n",
        "else:\n",
        "  print(\"Invalid Input\")\n",
        "\n",
        "# Method 2\n",
        "N = int(input(\"Enter a number range\\n\"))\n",
        "if N>=0:\n",
        "  i=-1\n",
        "  while i<=(N-1):\n",
        "    i = i + 1\n",
        "    divisible_by_2(i)\n",
        "else:\n",
        "  print(\"Invalid Input\")\n"
      ],
      "metadata": {
        "colab": {
          "base_uri": "https://localhost:8080/"
        },
        "id": "cXR-aJH8MRvG",
        "outputId": "c67d480d-88db-405b-d045-69c49973b080"
      },
      "execution_count": null,
      "outputs": [
        {
          "output_type": "stream",
          "name": "stdout",
          "text": [
            "Enter the number\n",
            "10\n",
            "The numbers are 0\n",
            "The numbers are 2\n",
            "The numbers are 4\n",
            "The numbers are 6\n",
            "The numbers are 8\n",
            "The numbers are 10\n",
            "Enter a number range\n",
            "10\n",
            "The numbers are 0\n",
            "The numbers are 2\n",
            "The numbers are 4\n",
            "The numbers are 6\n",
            "The numbers are 8\n",
            "The numbers are 10\n"
          ]
        }
      ]
    },
    {
      "cell_type": "code",
      "source": [
        "# Creating Sets\n",
        "# To make a set we use curly braces {} it is done when we do not allow any duplicates.\n",
        "# We can store it in a variable.\n",
        "postcodes = {\"SW1A\",\"SY3\",\"B44\"}\n",
        "print(postcodes)\n",
        "\n",
        "\n",
        "# Using Sets\n",
        "#1 To add new value to a set we code add and put the new value into it.\n",
        "answers = {\"yes\", \"no\"}\n",
        "answers.add(\"maybe\")\n",
        "print(answers)\n",
        "\n",
        "# In sets it exclude values, nothing happens when we add the same element which already existing value .\n",
        "answers = {\"yes\", \"no\"}\n",
        "answers.add(\"yes\")\n",
        "print(answers)\n",
        "\n",
        "\n",
        "# We can access and update in lists like user_answers by their index.\n",
        "user_answers = [\"yes\", \"yes\", \"no\", \"yes\"]\n",
        "print(user_answers[0])\n",
        "\n",
        "# Set element don't have indices.\n",
        "# Since sets don't have indices, we can only check if a set contains or not.\n",
        "answer_options = {\"yes\", \"no\"}\n",
        "print(\"no\" in answer_options) \n",
        "\n",
        "# We can also use loop to iterate through set elements and access them one by one.\n",
        "answer_options = {\"yes\", \"no\"}\n",
        "\n",
        "for answer in answer_options:\n",
        "  print(f\"Option:{answer}\")\n",
        "\n",
        "# To remove a set element, we code the set name followed by .remove() with the element between parentheses.\n",
        "classes = {\"Geometry\", \"Music\", \"French\"}\n",
        "classes.remove(\"Music\")\n",
        "\n",
        "print(classes)\n",
        "\n",
        "\n",
        "# To avoid getting an error, first check if an element is in a set before removing it.\n",
        "classes = {\"Geometry\", \"Music\", \"French\"}\n",
        "if \"History\" in classes:\n",
        "  classes.remove(\"History\")\n",
        "\n",
        "print(classes)\n",
        "\n",
        "\n",
        "\n",
        "\n"
      ],
      "metadata": {
        "colab": {
          "base_uri": "https://localhost:8080/"
        },
        "id": "Zjg7qEUwDxHd",
        "outputId": "e76b0b62-c1ee-42c9-83dc-488fa57ec9d5"
      },
      "execution_count": null,
      "outputs": [
        {
          "output_type": "stream",
          "name": "stdout",
          "text": [
            "{'SY3', 'B44', 'SW1A'}\n",
            "{'yes', 'no', 'maybe'}\n",
            "{'yes', 'no'}\n",
            "yes\n",
            "True\n",
            "Option:yes\n",
            "Option:no\n",
            "{'Geometry', 'French'}\n",
            "{'Music', 'Geometry', 'French'}\n"
          ]
        }
      ]
    },
    {
      "cell_type": "code",
      "source": [
        "# SETS AND LISTS\n",
        "grocery_list = [\"broccoli\", \"cereal\", \"milk\", \"broccoli\"]\n",
        "print(set(grocery_list))  # To eliminate duplicates from a list, we can code with set() and list between parentheses.\n",
        "\n",
        "#1 Difference between sets and lists in terms of duplicate values\n",
        "# Lists allow duplicates while sets don't\n",
        "\n",
        "#2 The easy way to eliminate duplicate values from a list\n",
        "# Converting the list into set to discard the duplicates.\n",
        "\n",
        "\n",
        "# Set Operations\n",
        "friends = {\"Emma\", \"Job\", \"Rob\", \"Ed\"}\n",
        "print(len(friends))\n",
        "\n",
        "#1 When all elements of a set like chat are present in another set like friends we say that chat is a subset of friends.\n",
        "friends = {\"Emma\", \"Jen\", \"Rob\", \"Ed\"}\n",
        "chat = {\"Jen\", \"Ed\"}\n",
        "\n",
        "print(chat.issubset(friends)) # To check whether chat is subset of friends, we code then .issubset() with friends between parentheses.\n",
        "# We can even check by storing it into the variable.\n",
        "\n",
        "\n",
        "#2 We can join two sets using  .union()\n",
        "# Example\n",
        "classmates = {\"Sue\", \"Paul\"}\n",
        "friends = {\"Don\", \"Sue\"}\n",
        "\n",
        "print(classmates.union(friends))\n",
        "\n",
        "# union() gives us a new set without duplicates even if some elements are present in both original sets.\n",
        "\n",
        "#3 We can use intersection() to create a set of elements that are present in both sets.\n",
        "classmates = {\"Sue\",\"Luke\", \"Paul\"}\n",
        "friends = {\"Don\",\"Sue\",\"Luke\"}\n",
        "\n",
        "print(classmates.intersection(friends))\n",
        "\n",
        "# To get a set of elements that are present in classmates but not in friends, we use the difference() instruction.\n",
        "\n",
        "classmates = {\"Sue\", \"Paul\"}\n",
        "friends = {\"Don\", \"Sue\"}\n",
        "\n",
        "print(classmates.difference(friends))\n",
        "\n",
        "\n",
        "\n",
        "\n",
        "\n"
      ],
      "metadata": {
        "colab": {
          "base_uri": "https://localhost:8080/"
        },
        "id": "X8nLDWBoaBSi",
        "outputId": "0a08879a-5ec9-418e-8fb7-6a2697cbf988"
      },
      "execution_count": null,
      "outputs": [
        {
          "output_type": "stream",
          "name": "stdout",
          "text": [
            "{'milk', 'broccoli', 'cereal'}\n",
            "4\n",
            "True\n",
            "{'Sue', 'Don', 'Paul'}\n",
            "{'Sue', 'Luke'}\n",
            "{'Paul'}\n"
          ]
        }
      ]
    },
    {
      "cell_type": "code",
      "source": [
        "# List Comprehensions\n",
        "# It is used to make code more compact.\n",
        "\n",
        "# Using List Comprehensions.\n",
        "#1 A list comprehension is a way to create a new list by applying an expression on each element of an existing list.\n",
        "\n",
        "# Example 1\n",
        "prices = [10, 38, 40, 58, 62]\n",
        "halved = []\n",
        "\n",
        "for price in prices:\n",
        "  half_price = price/2\n",
        "  halved.append(half_price)\n",
        "\n",
        "print(halved)\n",
        "\n",
        "#2 Now modifying the above condition into list comprehension.\n",
        "halved = [price/2 for price in prices]\n",
        "print(halved)\n",
        "\n",
        "# By assigning a list comprehension to a variable, we actually save the resulting list into the variable.\n",
        "\n",
        "\n",
        "# Example 2\n",
        "#3 To create a copy like the list of the original list, we set the expression to copy each element without changes.\n",
        "\n",
        "prices = [10, 38, 40, 58, 62]\n",
        "prices_copy = [price for price in prices]\n",
        "print(prices_copy)\n",
        "\n",
        "#4 List comprehensions work with list elements of any type like numbers, booleans, tuples or strings.\n",
        "\n",
        "names = [\"Smith\", \"Miller\", \"Brown\"]\n",
        "prefixed = [\"Mr .\" + name for name in names]\n",
        "print(prefixed)\n",
        "\n",
        "#5 We can also use any type of expression in a list comprehension.\n"
      ],
      "metadata": {
        "colab": {
          "base_uri": "https://localhost:8080/"
        },
        "id": "NqNSFBO2R08Y",
        "outputId": "1ed7df42-6550-49d9-9c45-6db026f1a55e"
      },
      "execution_count": null,
      "outputs": [
        {
          "output_type": "stream",
          "name": "stdout",
          "text": [
            "[5.0, 19.0, 20.0, 29.0, 31.0]\n",
            "[5.0, 19.0, 20.0, 29.0, 31.0]\n",
            "[10, 38, 40, 58, 62]\n",
            "['Mr .Smith', 'Mr .Miller', 'Mr .Brown']\n"
          ]
        }
      ]
    },
    {
      "cell_type": "code",
      "source": [
        "# Functions as Expressions\n",
        "# We can use a list comprehension to create a new list by applying a function.\n",
        "\n",
        "# Example 1\n",
        "prices = [10, 22, 30, 40, 58, 62]\n",
        "def halve(num):\n",
        "  return num/2\n",
        "\n",
        "halved = [halve(price) for price in prices]\n",
        "print(halved)\n",
        "\n",
        "# Functions are useful when we want to apply more expressions.\n",
        "\n",
        "# Example 2\n",
        "prices = [10, 22, 30, 40, 58, 60]\n",
        "def halve(num):\n",
        "  no_tax = 0.85 * num\n",
        "  return no_tax\n",
        "\n",
        "halved = [halve(price) for price in prices]\n",
        "print(halved)\n",
        "\n",
        "# Example 3\n",
        "authors = [\"Virginia Wolf\", \"John Steinbeck\"]\n",
        "def add_comma(name):\n",
        "  parts = name.split(\" \")\n",
        "  return parts[1] + \", \" + parts[0]\n",
        "\n",
        "authors_update = [add_comma(name) for name in authors]\n",
        "print(authors_update)\n",
        "\n",
        "\n",
        "# Example 4\n",
        "words = [\"apple\", \"aligator\", \"abracadabra\", \"avatar\"]\n",
        "\n",
        "def has_double_a(word):\n",
        "  count = word.count(\"a\")\n",
        "  return count==2\n",
        "\n",
        "double_a = [has_double_a(word) for word in words]\n",
        "print(double_a)"
      ],
      "metadata": {
        "id": "rxIAuh5NXo7J",
        "colab": {
          "base_uri": "https://localhost:8080/"
        },
        "outputId": "280615b3-c3dc-4f2d-aef8-3699057885f4"
      },
      "execution_count": null,
      "outputs": [
        {
          "output_type": "stream",
          "name": "stdout",
          "text": [
            "[5.0, 11.0, 15.0, 20.0, 29.0, 31.0]\n",
            "[8.5, 18.7, 25.5, 34.0, 49.3, 51.0]\n",
            "['Wolf, Virginia', 'Steinbeck, John']\n",
            "[False, True, False, False]\n"
          ]
        }
      ]
    },
    {
      "cell_type": "code",
      "source": [
        "# Filtering with If statements\n",
        "\n",
        "# We can use list comprehensions to create a new list by filtering elements of an existing one.\n",
        "\n",
        "scores = [12, 47, 30, 29, 19, 35]\n",
        "high_scores = [score for score in scores if score>20]   # At the start the word score is used in order to create a copy of each element from old list to the new list.\n",
        "print(high_scores)\n",
        "\n",
        "# When using a conditional the usual order is starting with the expression, followed by the for loop, and finishing with the if statement.\n",
        "\n",
        "# Question: What part make up a loop comprehension that filters a list?\n",
        "# First an expression then a for loop and finally a conditional statement.\n",
        "\n",
        "# Copy the code value while iterating through each code in book_codes only if it contains the string \"2010\".\n",
        "book_code = [\"FH2010\", \"BV1999\", \"LB2010\"]\n",
        "book_2010 = [code for code in book_code if book_code.count(2010) ==1]\n",
        "print(book_2010)\n",
        "\n",
        "\n"
      ],
      "metadata": {
        "colab": {
          "base_uri": "https://localhost:8080/"
        },
        "id": "4Wjqx9kVXc40",
        "outputId": "e676ef0b-ed6a-4bce-b274-925f8977dac5"
      },
      "execution_count": null,
      "outputs": [
        {
          "output_type": "stream",
          "name": "stdout",
          "text": [
            "[47, 30, 29, 35]\n",
            "[]\n"
          ]
        }
      ]
    },
    {
      "cell_type": "code",
      "source": [
        "# Negative indexing and Deletion\n",
        "\n",
        "#1 Python allows us to use negative indexing to retrieve values from the end of an indexable object such as list.\n",
        "scores = [4.5, 5, 3, 4, 3.5, 4]\n",
        "latest = scores[-1]\n",
        "print(latest)\n",
        "\n",
        "#2 Negative indexing means that we retrieve an element from the rightmost side of a list. We use the - symbol to indicate a negative index.\n",
        "users = [\"Tony\", \"Tina\", \"Tom\"]\n",
        "last = users[-1]\n",
        "print(last)\n",
        "\n",
        "#3 we can use any negative value upto and including the length of the list, which would retrieve the first value.\n",
        "ratings = [4, 5, 3, 1, 2, 3]\n",
        "print(ratings[-6])\n",
        "\n",
        "#4 We can modify list items.\n",
        "users = [\"James\", \"Ahmed\", \"Elaine\"]\n",
        "users[-3] = \"Jill\"\n",
        "print(users)\n",
        "\n",
        "#5 Tuples are also ordered structures and values can be retrieved, but they are immutable and so cannot be modified.\n",
        "\n",
        "#6 We will encounter an error if we attempt to retrieve a value in a position outside the object's range.\n",
        "\n",
        "#7 The del keyword allows us to delete objects or items within a data structure.\n",
        "\n",
        "winners = [\"John\", \"Helen\", \"Sigmund\", \"Olaf\"]\n",
        "del winners[-1]\n",
        "print(winners)\n",
        "\n",
        "\n",
        "#8 del can be used to delete any object, including data structures such as dictionaries, list and sets.\n",
        "\n",
        "#9  We can use del with a key inside a dictionary to remove unwanted key:value pairs from the dictionary.\n",
        "product = {'category': 'book', 'price': 4.99, 'in_shop': True}\n",
        "del product['in_shop']\n",
        "print(product)\n",
        "\n",
        "# To retrieve the first and the last value from the tuple to use in the message.\n",
        "\n",
        "user = (\"Joe\", \"Paris\", 27)\n",
        "name = user[0]\n",
        "age = user[-1]\n",
        "message = f\"{name} {age}\"\n",
        "print(message)\n",
        "\n",
        "# Use del to remove the gender key:value pair from the dictionary.\n",
        "details = {\"name\": \"Alex\", \"age\": 22, \"gender\": \"Female\"}\n",
        "del details[\"gender\"]\n",
        "print(details)\n"
      ],
      "metadata": {
        "colab": {
          "base_uri": "https://localhost:8080/"
        },
        "id": "u3Y7_Ru9e7yS",
        "outputId": "a459dbfd-e5b4-409b-e8fe-59f88418ea41"
      },
      "execution_count": null,
      "outputs": [
        {
          "output_type": "stream",
          "name": "stdout",
          "text": [
            "4\n",
            "Tom\n",
            "4\n",
            "['Jill', 'Ahmed', 'Elaine']\n",
            "['John', 'Helen', 'Sigmund']\n",
            "{'category': 'book', 'price': 4.99}\n",
            "Joe 27\n",
            "{'name': 'Alex', 'age': 22}\n"
          ]
        }
      ]
    },
    {
      "cell_type": "code",
      "source": [
        "# Slice Notation\n",
        "#1 Sometimes we want to retrieve multiple values from a list. We can do this using slicing. \n",
        "\n",
        "# Example \n",
        "ingredients = [\"eggs\", \"flour\", \"sugar\", \"salt\"]\n",
        "print(ingredients[0:2])\n",
        "\n",
        "#2 The value to the left of the colon: is the start position for the slice. As we know Python indexing starts from zero.\n",
        "\n",
        "#3 The start value can be positive, negative or omitted completely. Negative values mean 'start this many elements back from end'.\n",
        "\n",
        "# Example\n",
        "users = [\"Alan\", \"Beth\", \"Carla\", \"Dennis\"]\n",
        "\n",
        "print(users[0:])\n",
        "print(users[:])\n",
        "print(users[-2:])\n",
        "\n",
        "#4 Specifying a range outside the length of a list will return an empty list, rather than resulting in an error.\n",
        "\n",
        "letters = [\"A\", \"B\", \"C\", \"D\", \"E\"]\n",
        "print(letters[6:])\n",
        "\n",
        "#5 A value after the colon : represents where the slice should stop. NOTE THAT THE ELEMENT IN THE STOP POSITION IS NOT INCLUDED.\n",
        "\n",
        "scores = [50, 40, 30, 20, 10]\n",
        "print(scores[:2])\n",
        "print(scores[2:4])\n",
        "\n",
        "#6 If we use a start value of 0, a positive stop value will be equal to the number of elements returned.\n",
        "\n",
        "grades = ['A', 'B', 'C', 'D', 'E']\n",
        "print(grades[:3])\n",
        "\n",
        "#7 A start index later in the list than the stop index in the [start:stop] format won't result in an error, but will return an empty list.\n",
        "\n",
        "animals = ['antelope', 'bear', 'cat', 'dog']\n",
        "print(animals[3:0])\n",
        "\n",
        "\n",
        "\n",
        "#8 We can also use a format with two colons : [start:stop:step], where step determines how python steps between start and end.\n",
        "\n",
        "alphabet = [\"A\", \"B\", \"C\", \"D\", \"E\", \"F\"]\n",
        "print(alphabet[1:6:2])\n",
        "\n",
        "#9 A step value of :2 means that instead of returning every value in the slice we return every second value. :3 would mean every third value.\n",
        "\n",
        "\n",
        "\n",
        "#10 We can use the step value with no start or end value. By default this will work from start to the end of the full original list.\n",
        "friends = [\"Anna\", \"Bella\", \"Carrie\", \"Diana\", \"Eleanor\"]\n",
        "print(friends[::2])\n",
        "\n",
        "\n",
        "\n",
        "#11 Each value can be positive, negative or omitted completely. To use the step value, we must always have two preceding colons.\n",
        "\n",
        "flowers = [\"azaelea\", \"buttercup\", \"carnation\", \"daffodil\"]\n",
        "print(flowers[2::-1])\n",
        "print(flowers[:3:2])\n",
        "\n",
        "#12 Step can be negative which allows us to use a start value larger than the end value. The order of the elements is reversed.\n",
        "\n",
        "friends = [\"Anna\", \"Bella\", \"Carrie\", \"Diana\", \"Eleanor\"]\n",
        "print(friends[3:0:-1])\n",
        "\n",
        "#13 If no start or end value are given, Python will automatically work the end of a list if a negative step is provided.\n",
        "\n",
        "countries = ['Andhra', \"Brazil\", \"China\", \"Denmark\", \"Egypt\"]\n",
        "print(countries[::-3])\n",
        "\n",
        "#14 An empty list rather than an error, will be returned if there are no matching indexes. The step always works from the start value.\n",
        "scores = [100, 200, 300, 400, 500]\n",
        "print(scores[0:2:-1])\n",
        "print(scores[4:1:-1]) \n",
        "\n",
        "# Question Give start stop notations for the list to only print \"Anna\"\n",
        "members = [\"Anna\", \"Billie\", \"Henry\"]\n",
        "print(members[0:1])\n",
        "\n",
        "# The code to see the two final cores to be printed.\n",
        "scores = [50, 60, 30, 100, 200]\n",
        "print(scores[-2:])\n",
        "\n",
        "# Type 2\n",
        "countdown = [\"3\", \"pause\", \"2\", \"pause\", \"1\"]\n",
        "numbers_only = countdown[::2]\n",
        "print(numbers_only)\n",
        "\n",
        "# NOTE \n",
        "# Start needs to be either omitted or greater than stop to return elements.\n",
        "\n",
        "# To complete the notation\n",
        "ratings = [3, 4, 2, 5, 1, 5, 4, 5]\n",
        "print(ratings[-1:2:-2])"
      ],
      "metadata": {
        "colab": {
          "base_uri": "https://localhost:8080/"
        },
        "id": "n2fjx8SXpc-V",
        "outputId": "1b4c2bcd-66f7-4735-abe4-8431ed525a02"
      },
      "execution_count": null,
      "outputs": [
        {
          "output_type": "stream",
          "name": "stdout",
          "text": [
            "['eggs', 'flour']\n",
            "['Alan', 'Beth', 'Carla', 'Dennis']\n",
            "['Alan', 'Beth', 'Carla', 'Dennis']\n",
            "['Carla', 'Dennis']\n",
            "[]\n",
            "[50, 40]\n",
            "[30, 20]\n",
            "['A', 'B', 'C']\n",
            "[]\n",
            "['B', 'D', 'F']\n",
            "['Anna', 'Carrie', 'Eleanor']\n",
            "['carnation', 'buttercup', 'azaelea']\n",
            "['azaelea', 'carnation']\n",
            "['Diana', 'Carrie', 'Bella']\n",
            "['Egypt', 'Brazil']\n",
            "[]\n",
            "[500, 400, 300]\n",
            "['Anna']\n",
            "[100, 200]\n",
            "['3', '2', '1']\n",
            "[5, 5, 5]\n"
          ]
        }
      ]
    },
    {
      "cell_type": "code",
      "source": [
        "# Classes\n",
        "# Used to create templates for objects \n",
        "\n",
        "# Using Classes\n",
        "#1 To help us group data and functionality, we create a class.\n",
        "#2 A class is a template that we use to create many similar but distinct things.\n",
        "\n",
        "#3 By using a template we can create different configurations without having to create individual variables.\n",
        "\n",
        "class Person:                              # NOTE IN CLASS THE NAME AFTER THE CLASS MUST HAVE FIRST LETTER IN CAPITAL.\n",
        "  nationality = \"French\"                   # Creating a variable inside just works like normal variables.\n",
        "  hobby = \"Cooking\"\n",
        "\n",
        "class Flower:\n",
        "  color = \"Red\"\n",
        "  print(color)"
      ],
      "metadata": {
        "colab": {
          "base_uri": "https://localhost:8080/"
        },
        "id": "IhTvygpjuw3Q",
        "outputId": "6d0b5b5c-f31e-44b5-9c43-691f6a2ab9b5"
      },
      "execution_count": null,
      "outputs": [
        {
          "output_type": "stream",
          "name": "stdout",
          "text": [
            "Red\n"
          ]
        }
      ]
    },
    {
      "cell_type": "code",
      "source": [
        "# Creating Instances \n",
        "# When we create variables from the class template we're creating instances. \n",
        "\n",
        "# Example\n",
        "class Virtual_Pet:                       # The  Virtual_Pet class we are creating variables from is called the defination.  Virtual_Pet is the defination, fluffy is an instance.\n",
        "  wagging_tail = True\n",
        "  color = \"brown\"\n",
        "\n",
        "skippy =  Virtual_Pet()\n",
        "print(skippy.wagging_tail)                      # To access a class variable, we add the instance name, a. and the name of the variable we want. \n",
        "print(skippy.color)"
      ],
      "metadata": {
        "id": "gdaNPm0JzTQG",
        "colab": {
          "base_uri": "https://localhost:8080/"
        },
        "outputId": "04e9189c-7148-4a05-8ae6-7453d06e6689"
      },
      "execution_count": null,
      "outputs": [
        {
          "output_type": "stream",
          "name": "stdout",
          "text": [
            "True\n",
            "brown\n"
          ]
        }
      ]
    },
    {
      "cell_type": "code",
      "source": [
        "# Classes with Methods\n",
        "\n",
        "#1 Classes have functions too, which are known as methods when they are inside of a class.\n",
        "\n",
        "# Example\n",
        "class  Virtual_Pet:\n",
        "  color = \"brown\"\n",
        "\n",
        "  def bark(self):\n",
        "    print(\"Bark\")\n",
        "\n",
        "rocky =  Virtual_Pet()\n",
        "rocky.bark()\n",
        "\n",
        "#2 self is a special keyword that we need to use inside our class defination. We pass self as the first parameter to all the methods we add.\n",
        "\n",
        "#3 We use self as a parameter in the class methods so that we can access class variables.\n",
        "\n",
        "# Example\n",
        "\n",
        "class  Virtual_Pet:\n",
        "  color = \"brown\"\n",
        "  legs = 4\n",
        "\n",
        "  def bark(self):\n",
        "    print(\"Bark\")\n",
        "\n",
        "  def display_color(self):\n",
        "    print(self.color)\n",
        "\n",
        "  def display_legs(self):\n",
        "    print(self.legs)\n",
        "\n",
        "rocky =  Virtual_Pet()\n",
        "rocky.display_color()\n",
        "rocky.display_legs()\n",
        "\n",
        "# Complete the following code\n",
        "class Pokemon:\n",
        "  name = \"pikachu\"\n",
        "  color = \"yellow\"\n",
        "\n",
        "  def introduce(self):\n",
        "    print(\"Hi!\")\n",
        "    print(\"I am \" + self.name)\n",
        "\n",
        "pikachu = Pokemon()\n",
        "pikachu.introduce()\n",
        "print(pikachu.color)"
      ],
      "metadata": {
        "colab": {
          "base_uri": "https://localhost:8080/"
        },
        "id": "hsYbNXw0XV9W",
        "outputId": "16ae906a-5b07-4976-9977-348c145f983a"
      },
      "execution_count": null,
      "outputs": [
        {
          "output_type": "stream",
          "name": "stdout",
          "text": [
            "Bark\n",
            "brown\n",
            "4\n",
            "Hi!\n",
            "I am pikachu\n",
            "yellow\n"
          ]
        }
      ]
    },
    {
      "cell_type": "code",
      "source": [
        "# Constructors\n",
        "#1 There is a method we use class in a more flexible way for different instances. It's called the constructer method.\n",
        "\n",
        "# ********  We define the constructor method as       def__init__(self):     ****************\n",
        "\n",
        "class Virtual_Pet:\n",
        "  def __init__(self, color):\n",
        "    self.color = color\n",
        "\n",
        "rocky = Virtual_Pet(\"brown\")\n",
        "benny = Virtual_Pet(\"black\")\n",
        "\n",
        "print(rocky.color)\n",
        "print(benny.color)\n",
        "\n",
        "#2 The constructor allows us to specify what we want when creating it.\n",
        "#3 When we create an instance from the class defination we are able to pass unique values inside the parentheses.\n",
        "\n",
        "#4 To add this flexibility to our classes, we start by adding the construction function.\n",
        "\n",
        "#5 Just like with regular class methods, we need to add self as the first parameter to the constructor method.\n",
        "#6 After adding self we need to add the parameters for the custom values we want to set when we create the instance.\n",
        "#7 Then we set the value by coding self and a dot(.) the parameter name again. This sets the value.\n",
        "\n",
        "#8 The constructor allows as many instances we want to add within the class along with as many parameters we want to.\n",
        "\n",
        "# Example 1\n",
        "class Virtual_Pet:\n",
        "  def __init__(self, color, legs):\n",
        "    self.color = color\n",
        "    self.legs = legs\n",
        "\n",
        "rocky = Virtual_Pet(\"red\", 4)\n",
        "print(rocky.color)\n",
        "print(rocky.legs)\n",
        "\n",
        "\n",
        "# Example 2\n",
        "class Flower:\n",
        "  def __init__(self, kind, color):\n",
        "    self.kind = kind\n",
        "    self.color = color\n",
        "\n",
        "  def display_color(self):\n",
        "    print(self.color)\n",
        "\n",
        "rose_flower = Flower(\"rose\", \"red\")\n",
        "print(rose_flower.kind)\n",
        "rose_flower.display_color() "
      ],
      "metadata": {
        "id": "_swbJSGngYVl",
        "colab": {
          "base_uri": "https://localhost:8080/"
        },
        "outputId": "fea79305-d454-4583-bd54-6348a6a8aa80"
      },
      "execution_count": null,
      "outputs": [
        {
          "output_type": "stream",
          "name": "stdout",
          "text": [
            "brown\n",
            "black\n",
            "red\n",
            "4\n",
            "rose\n",
            "red\n"
          ]
        }
      ]
    },
    {
      "cell_type": "code",
      "source": [
        "# Understanding Classes\n",
        "\n",
        "#1 Class names usually have the first letter capitalized and the rest lowercase.\n",
        "#2 Like variables we like to try name classes descriptively.\n",
        "\n",
        "# Example \n",
        "class Pie:\n",
        "  def __init__(self, flavor, ingredients):\n",
        "    self.flavor = flavor\n",
        "    self.ingredients = ingredients\n",
        "\n",
        "  def print_ingridients(self):\n",
        "    for i in self.ingredients:\n",
        "      print(i)\n",
        "\n",
        "applePie = Pie('apple', ['flour', 'eggs', 'apples', 'butter'])\n",
        "\n",
        "apple.print_ingridients()\n",
        "\n",
        "# Example 2 (To store the length of the list in a variable)\n",
        "class Book_Series:\n",
        "  def __init__(self, name, books):\n",
        "    self.name = name\n",
        "    self.books = books\n",
        "    self.num_books = len(books)\n",
        "\n",
        "  def print_name(self):\n",
        "    print(self.name)\n",
        "\n",
        "  def print_books(self):\n",
        "    print(self.books)\n",
        "\n",
        "hg = Book_Series(\"Hunger Games\", [\"The Hunger Games\", \"Catching Fire\", \"Mockingjay\"])\n",
        "\n",
        "hg.print_books()\n",
        "print(hg.num_books)\n"
      ],
      "metadata": {
        "id": "HiE0FwIjGs2p"
      },
      "execution_count": null,
      "outputs": []
    },
    {
      "cell_type": "code",
      "source": [
        "# Program to find the second largest number from 1 to N.\n",
        "\n",
        "def sort(k):\n",
        "  z=k.sort()\n",
        "  return z\n",
        "\n",
        "  \n",
        "N=int(input(\"Enter the no\\n\"))\n",
        "N>0\n",
        "l=[]\n",
        "for i in range(0,N):\n",
        "  a=int(input())\n",
        "  l.append(a)\n",
        "  sort(l)\n",
        "print(l[N-2:N-1])"
      ],
      "metadata": {
        "id": "CAFlt9COL_L2",
        "colab": {
          "base_uri": "https://localhost:8080/"
        },
        "outputId": "8cd47535-3b46-432d-9a77-2bcdd925abf1"
      },
      "execution_count": null,
      "outputs": [
        {
          "output_type": "stream",
          "name": "stdout",
          "text": [
            "Enter the no\n",
            "3\n",
            "3\n",
            "6\n",
            "9\n",
            "[6]\n"
          ]
        }
      ]
    },
    {
      "cell_type": "code",
      "source": [
        "# Object Oriented Programming\n",
        "# Aim is to understand the principles\n",
        "\n",
        "# Encapsulating Objects\n",
        "\n",
        "# Different types of coding are also known as paradigms. A common style is called functional programming,or FP for short.\n",
        "\n",
        "#1 In functional programming we use a lot of functions and variables.\n",
        "#2 In FP style, we keep data and functionality seperate.\n",
        "\n",
        "#Example:\n",
        "\n",
        "def getTotal(a, b):\n",
        "  return a + b\n",
        "\n",
        "num1 = 2\n",
        "num2 = 3\n",
        "total = getTotal(num1, num2)\n",
        "print(total)\n",
        "\n",
        "#3 In Object Oriented Programming(OOP), we group data and functionality and methods inside objects.\n",
        "\n",
        "class Virtual_Pet:\n",
        "  def __init__(self, color, name):\n",
        "    self.color = color\n",
        "    self.name = name\n",
        "\n",
        "rocky = Virtual_Pet(\"Brown\", \"rocky\")\n",
        "\n",
        "print(rocky.color)\n",
        "print(rocky.name)\n",
        "\n",
        "# OOP is useful for modeling objects, real life or not. Objects have properties and methods.\n",
        "\n",
        "class car:\n",
        "  mileage = 12000\n",
        "\n",
        "  def drive(self, miles):\n",
        "    self.mileage += miles\n",
        "\n",
        "tesla = car()\n",
        "tesla.drive(100)\n",
        "print(tesla.mileage)\n",
        "\n",
        "# In OOP we use methods to update existing values of an object.\n",
        "\n",
        "class Dog:\n",
        "  hungry = True\n",
        "\n",
        "  def eat(self):\n",
        "    self.hungry = False\n",
        "\n",
        "dog = Dog()\n",
        "dog.eat()\n",
        "print(dog.hungry)\n",
        "\n"
      ],
      "metadata": {
        "colab": {
          "base_uri": "https://localhost:8080/"
        },
        "id": "tbCOsQ0E0u8_",
        "outputId": "a34422e8-9baf-4f36-973f-06fb66e8a615"
      },
      "execution_count": null,
      "outputs": [
        {
          "output_type": "stream",
          "name": "stdout",
          "text": [
            "5\n",
            "Brown\n",
            "rocky\n",
            "12100\n",
            "False\n"
          ]
        }
      ]
    },
    {
      "cell_type": "code",
      "source": [
        "#1 In OOP we group together related data and functions in the same object. Then it's called encapsulation.\n",
        "\n",
        "#2 In FP code is not encapsulated.\n",
        "\n",
        "#3 In OOP we identify which methods and properties belong together and should be added to our objects.\n",
        "\n",
        "# Example\n",
        "def getArea(b, h):\n",
        "  return b * h\n",
        "\n",
        "base = 3\n",
        "height = 4\n",
        "\n",
        "class Rectangle:\n",
        "  base = 3\n",
        "  height = 4\n",
        "  def getArea(self):\n",
        "    return self.base * self.height\n",
        "\n",
        "rect = Rectangle()\n",
        "area = rect.getArea()\n",
        "print(area)\n"
      ],
      "metadata": {
        "colab": {
          "base_uri": "https://localhost:8080/"
        },
        "id": "Y6KvtYXjDXs3",
        "outputId": "2a523c5f-a735-4e39-b5f9-de3fdeb72421"
      },
      "execution_count": null,
      "outputs": [
        {
          "output_type": "stream",
          "name": "stdout",
          "text": [
            "12\n"
          ]
        }
      ]
    },
    {
      "cell_type": "code",
      "source": [
        "# Applying Inheritance in OOP\n",
        "# We use inheritance to make our code efficient. Through inheritance,classes receive methods from other classes.\n",
        "\n",
        "# Inheritance lets us create classes that have different properties and behaviors without coding from scratch.\n",
        "\n",
        "class Parent:\n",
        "  def __init__(self):\n",
        "    self.eyes= \"green\"\n",
        "\n",
        "class Child(Parent):    # NOTE: THE PARENT CLASS HAS BEEN INHERITED TO CHILD CLASS.\n",
        "  def __init__(self):\n",
        "    super().__init__()\n",
        "    self.age = 7\n",
        "\n",
        "child = Child()\n",
        "print(child.eyes)\n",
        "print(child.age)\n",
        "\n",
        "# Example 1\n",
        "\n",
        "class Car:\n",
        "  def drive(self):\n",
        "    print(\"Vroom!\")\n",
        "\n",
        "my_car = Car()\n",
        "my_car.drive()\n",
        "\n",
        "# Classes contain a method called a constructor that sets the properties of new objects known as instances.\n",
        "class Person:\n",
        "  def __init__(self, name, age):\n",
        "    self.name = name\n",
        "    self.age = age\n",
        "\n",
        "sam = Person(\"Sam\", 23)\n",
        "print(sam.name, sam.age)\n",
        "\n",
        "# Example 2\n",
        "class Person:\n",
        "  def __init__(self, name, age):\n",
        "    self.name = name\n",
        "    self.age = age\n",
        "\n",
        "  def greet(self):\n",
        "    print(\"Hi!\")\n",
        "\n",
        "class Student(Person):\n",
        "  def __init__(self, name, age, major):\n",
        "    super().__init__(name, age)\n",
        "    self.major = major\n",
        "\n",
        "student = Student(\"Sam\", 23, \"chemistry\")\n",
        "print(student.major)\n",
        "student.greet()\n"
      ],
      "metadata": {
        "colab": {
          "base_uri": "https://localhost:8080/"
        },
        "id": "MmAN4Vy2fsW7",
        "outputId": "7dd09e3d-88d8-4b36-c61e-d48745ed1e2a"
      },
      "execution_count": null,
      "outputs": [
        {
          "output_type": "stream",
          "name": "stdout",
          "text": [
            "green\n",
            "7\n",
            "Vroom!\n",
            "Sam 23\n"
          ]
        }
      ]
    },
    {
      "cell_type": "code",
      "source": [
        "# Abstracting Objects\n",
        "# Example \n",
        "# Modelling a car in Python\n",
        "\n",
        "class Car:\n",
        "  def injectFuel(self):\n",
        "    print(\"Spraying Fuel\")\n",
        "\n",
        "  def igniteFuel(self):\n",
        "    print(\"Boom!\")\n",
        "\n",
        "car = Car();\n",
        "car.injectFuel()\n",
        "car.igniteFuel()\n",
        "\n",
        "# Besides that managing each individual method call by ourselves increases the chance we will mitake and cause unwanted effects.\n",
        "# Cars do all of this low level; functionality for us and we only have to start them up. Hiding these details is called ABSTRACTION.\n",
        "\n",
        "class Car:\n",
        "  def __init__(self):\n",
        "    self.on = False\n",
        "\n",
        "  def injectFuel(self):\n",
        "    print(\"Spraying Fuel\")\n",
        "\n",
        "  def igniteFuel(self):\n",
        "    print(\"Boom!\")\n",
        "\n",
        "  def startUp(self):\n",
        "    self.on = True\n",
        "    while self.on:\n",
        "      self.injectiveFuel()\n",
        "      self.igniteFuel()\n",
        "\n",
        "\n",
        "# Abstration allows other developers to use a class without having  to know what low level methods it has or how they even work.\n",
        "\n",
        "class Slideshow:\n",
        "  def __init__(self, slides):\n",
        "    self.slides = slides\n",
        "    self.current = 1\n",
        "\n",
        "  def viewNextSlide(self):\n",
        "    self.current += 1\n",
        "\n",
        "  def play(self):\n",
        "    while self.current <= self.slides:\n",
        "      print('Slide', self.current)\n",
        "      self.viewNextSlide()\n",
        "\n",
        "slideshow = Slideshow(5)\n",
        "slideshow.play()"
      ],
      "metadata": {
        "id": "M6uv02xw3jwK",
        "colab": {
          "base_uri": "https://localhost:8080/"
        },
        "outputId": "5f90bdc7-63f3-4a13-d0cd-f1b8bf55e754"
      },
      "execution_count": null,
      "outputs": [
        {
          "output_type": "stream",
          "name": "stdout",
          "text": [
            "Spraying Fuel\n",
            "Boom!\n",
            "Slide 1\n",
            "Slide 2\n",
            "Slide 3\n",
            "Slide 4\n",
            "Slide 5\n"
          ]
        }
      ]
    },
    {
      "cell_type": "code",
      "source": [
        "#  Polymorphism\n",
        "# When we want to bring something new from existing code we use polymorphism.\n",
        "\n",
        "class Feline:\n",
        "  def speak(self):\n",
        "    print(\"Meow\")\n",
        "\n",
        "class Cat(Feline):\n",
        "  def lick(self):\n",
        "    print(\"Licking paw\")\n",
        "\n",
        "class Lion(Feline):\n",
        "  def prey(self):\n",
        "    print(\"Roar!\")\n",
        "\n",
        "cat = Cat()\n",
        "cat.speak()\n",
        "lion = Lion()\n",
        "lion.speak()\n"
      ],
      "metadata": {
        "colab": {
          "base_uri": "https://localhost:8080/"
        },
        "id": "yHvsvR8TjswD",
        "outputId": "6584a1e7-5df3-4bf8-bff0-7bc0abdfe5d3"
      },
      "execution_count": null,
      "outputs": [
        {
          "output_type": "stream",
          "name": "stdout",
          "text": [
            "Meow\n",
            "Meow\n"
          ]
        }
      ]
    },
    {
      "cell_type": "code",
      "source": [
        "# Modules\n",
        "class Car:\n",
        "  wheels = 4\n",
        "  doors = 4\n",
        "\n",
        "  def start_engine(self):\n",
        "    print(\"Vroom!\")\n",
        "\n",
        "my_car = Car()\n",
        "print(my_car.wheels)\n",
        "my_car.start_engine()\n",
        "\n",
        "\n",
        "#1 We can add more organization to our code with something called a module.\n",
        "# Example\n",
        "\n",
        "import math\n",
        "print(\"The value of pi\")\n",
        "print(math.pi)\n",
        "\n",
        "#2 Modules group related classes and data and make them accessible from one place.\n",
        "\n",
        "# Example\n",
        "import math\n",
        "print(math.sqrt(16))\n",
        "\n",
        "# Example\n",
        "\n",
        "# import pygal\n",
        "\n",
        "# pie = pygal.Pie()\n",
        "# pie.title = \"Time Spent on Social Networks\"\n",
        "# pie.add(\"Twitter\", 47)\n",
        "# pie.add(\"Facebook\", 23)\n",
        "# pie.add(\"Instagram\", 30)\n",
        "\n",
        "# pie.render_in_browser()\n",
        "\n",
        "#3 Python has some built in modules too. The math module provides data like the values of pi and methods for different math operations.\n",
        "\n",
        "import math\n",
        "square = math.sqrt(16)\n",
        "help(math)\n",
        "\n",
        "\n"
      ],
      "metadata": {
        "id": "WkvGH81nmz8L"
      },
      "execution_count": null,
      "outputs": []
    },
    {
      "cell_type": "code",
      "source": [
        "# Statistics is another in module. It helps out with statistic functions like the mean of a list.\n",
        "import statistics \n",
        "scores = [4,4,3,6,1,2,8,4]\n",
        "mean = statistics.mean(scores)\n",
        "print(f\"Mean score is {mean}\")\n",
        "\n",
        "#1 We can use multiple different modules in the same file by adding a comma between the modules.\n",
        "\n",
        "import statistics, math\n",
        "\n",
        "diameters = [9, 7, 4, 6]\n",
        "result= statistics.mean(diameters)\n",
        "print(f\"Mean diameter is {result}\")\n",
        "\n",
        "print(\"Value of pi is:\")\n",
        "print(math.pi)\n",
        "\n",
        "# When we want to use parts of module .\n",
        "from math import pi\n",
        "\n",
        "print(\"Value of pi is :\")\n",
        "print(pi)\n",
        "\n",
        "\n",
        "\n",
        "\n"
      ],
      "metadata": {
        "colab": {
          "base_uri": "https://localhost:8080/"
        },
        "id": "jJLSIacvufAi",
        "outputId": "dc3026e8-fdfc-4613-c935-6ac3233dd66a"
      },
      "execution_count": null,
      "outputs": [
        {
          "output_type": "stream",
          "name": "stdout",
          "text": [
            "Mean score is 4\n",
            "Mean diameter is 6.5\n",
            "Value of pi is:\n",
            "3.141592653589793\n",
            "Value of pi is :\n",
            "3.141592653589793\n"
          ]
        }
      ]
    },
    {
      "cell_type": "code",
      "source": [
        "# We can modify the name of the module \n",
        "\n",
        "# Example\n",
        "import statistics as stats\n",
        "sales = [23, 43, 26, 26, 29, 24]\n",
        "median = stats.median(sales)\n",
        "print(median)\n",
        "\n",
        "# Giving a new name to a module we are importing is known as aliasing. It's used to make longer module names shorter.\n",
        "import statistics as stats\n",
        "sales = [23, 43, 26, 26, 29, 24]\n",
        "mode = stats.mode(sales)\n",
        "print(mode)\n",
        "\n",
        "# Note we can also rename the modules as well."
      ],
      "metadata": {
        "colab": {
          "base_uri": "https://localhost:8080/"
        },
        "id": "sIt23Q99yGI6",
        "outputId": "21d88446-c3a3-4c6a-a901-8a70c43aa6a4"
      },
      "execution_count": null,
      "outputs": [
        {
          "output_type": "stream",
          "name": "stdout",
          "text": [
            "26.0\n",
            "26\n"
          ]
        }
      ]
    },
    {
      "cell_type": "code",
      "source": [
        "# Errors and Exceptions\n",
        "# When python does not understand the code it gives error known as syntax error.\n",
        "# Errors are due to typos or misspelled keywords.\n",
        "\n",
        "# Incorrect or missing indentation will result in an IndentationError which is a type of SyntaxError.\n",
        "\n",
        "# The symbol ^ known as caret indicates in the console where the error has been found.\n",
        "\n",
        "# Python will raise something called an exception when it cannot perform an operation.\n",
        "\n",
        "# The text shown in a console when an exception is raised is called the traceback.It helps us debug our code, which means finding errors.\n",
        "# The trace is best read from bottom to top, to understand what went wrong with our code.\n",
        "# Error messages helps us debug our code when it's not behaving the way we expect it to behave."
      ],
      "metadata": {
        "id": "f2-2izTm1e5V"
      },
      "execution_count": null,
      "outputs": []
    },
    {
      "cell_type": "code",
      "source": [
        "# Sometimes we want to raise an exception when a condition we have defined is not met.\n",
        "\n",
        "# The raise keyword is used to raise an exception. We can define both the kind of error message.\n",
        "\n",
        "scores = [123, 60, 189, 88, 16]\n",
        "if min(scores) <0 or max(scores)>180:\n",
        "  raise ValueError('Error in scores')\n",
        "\n",
        "\n",
        "# We can provide an error message to be shown when a user defined exception by using a string in parentheses after the type of error."
      ],
      "metadata": {
        "id": "gQu1ZUT26bdI"
      },
      "execution_count": null,
      "outputs": []
    },
    {
      "cell_type": "code",
      "source": [
        "# We often don't want a program to terminate when an exception is encountered. A try and except block can be used for exception handling.\n",
        "\n",
        "#  try and except blocks tend to be used where we know there is a chance of the operation not being possible.\n",
        "\n",
        "hours = []\n",
        "\n",
        "try:\n",
        "  average = sum(hours) / len(hours)\n",
        "except:\n",
        "  average = 0\n",
        "\n",
        "print(average)\n",
        "\n",
        "# try: and except: are followed by an indented block of code. We can use pass if we want nothing to be executed after except:\n",
        "\n",
        "# The raise keyword is used along with a valid type of error and an optional message. It is usually used within an except code block.\n",
        "\n",
        "# We can use an else statement at the end if we want to execute some code only when no error has been raised.\n",
        "\n",
        "details = {\"name\": \"Helena\", \"occupation\": \"carpenter\", \"age\": 35}\n",
        "try:\n",
        "  age = details[\"age\"]\n",
        "except:\n",
        "  raise NameError(\"No age value in record\")\n",
        "else:\n",
        "  print(f\"Maximum heart rate is {220 - age}\")\n",
        "\n",
        "\n",
        "# We can use a finally staement at the end if we want to execute some related code regardless of whether an error was raised.\n",
        "\n",
        "entry = 50\n",
        "\n",
        "try:\n",
        "  result = entry * 1.5\n",
        "except:\n",
        "  raise ValueError(\"result cannot be calculated\")\n",
        "else:\n",
        "  print(result)\n",
        "finally:\n",
        "  print(\"Try another value?\")\n",
        "\n",
        "\n",
        "\n",
        "\n"
      ],
      "metadata": {
        "id": "BItxPv9r9iD_",
        "colab": {
          "base_uri": "https://localhost:8080/"
        },
        "outputId": "fb718235-bb6d-441b-8755-451a5e836525"
      },
      "execution_count": null,
      "outputs": [
        {
          "output_type": "stream",
          "name": "stdout",
          "text": [
            "0\n",
            "Maximum heart rate is 185\n",
            "75.0\n",
            "Try another value?\n"
          ]
        }
      ]
    },
    {
      "cell_type": "code",
      "source": [],
      "metadata": {
        "id": "gEmz1qz0MRWO"
      },
      "execution_count": null,
      "outputs": []
    }
  ]
}